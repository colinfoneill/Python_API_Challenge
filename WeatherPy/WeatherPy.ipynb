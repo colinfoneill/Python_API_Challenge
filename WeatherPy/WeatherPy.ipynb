{
 "cells": [
  {
   "cell_type": "markdown",
   "metadata": {},
   "source": [
    "# WeatherPy\n",
    "----\n",
    "\n",
    "#### Note\n",
    "* Instructions have been included for each segment. You do not have to follow them exactly, but they are included to help you think through the steps."
   ]
  },
  {
   "cell_type": "code",
   "execution_count": 1,
   "metadata": {
    "scrolled": true
   },
   "outputs": [],
   "source": [
    "# Dependencies and Setup\n",
    "import matplotlib.pyplot as plt\n",
    "import pandas as pd\n",
    "import numpy as np\n",
    "import requests\n",
    "import time\n",
    "from scipy.stats import linregress\n",
    "\n",
    "# Import API key\n",
    "from api_keys import weather_api_key\n",
    "\n",
    "# Incorporate citipy to determine city based on latitude and longitude\n",
    "from citipy import citipy\n",
    "\n",
    "# Output File (CSV)\n",
    "output_data_file = \"../output_data/cities.csv\"\n",
    "\n",
    "# Range of latitudes and longitudes\n",
    "lat_range = (-90, 90)\n",
    "lng_range = (-180, 180)"
   ]
  },
  {
   "cell_type": "markdown",
   "metadata": {},
   "source": [
    "## Generate Cities List"
   ]
  },
  {
   "cell_type": "code",
   "execution_count": 2,
   "metadata": {},
   "outputs": [],
   "source": [
    "# List for holding lat_lngs and cities\n",
    "lat_lngs = []\n",
    "cities = []\n",
    "\n"
   ]
  },
  {
   "cell_type": "code",
   "execution_count": 3,
   "metadata": {},
   "outputs": [],
   "source": [
    "# Create a set of random lat and lng combinations\n",
    "lats = np.random.uniform(lat_range[0], lat_range[1], size=1500)\n",
    "lngs = np.random.uniform(lng_range[0], lng_range[1], size=1500)\n",
    "lat_lngs = zip(lats, lngs)"
   ]
  },
  {
   "cell_type": "code",
   "execution_count": 4,
   "metadata": {},
   "outputs": [],
   "source": [
    "# Identify nearest city for each lat, lng combination\n",
    "for lat_lng in lat_lngs:\n",
    "    city = citipy.nearest_city(lat_lng[0], lat_lng[1]).city_name\n",
    "    \n",
    "    # If the city is unique, then add it to a our cities list\n",
    "    if city not in cities:\n",
    "        cities.append(city)"
   ]
  },
  {
   "cell_type": "code",
   "execution_count": 5,
   "metadata": {},
   "outputs": [
    {
     "data": {
      "text/plain": [
       "653"
      ]
     },
     "execution_count": 5,
     "metadata": {},
     "output_type": "execute_result"
    }
   ],
   "source": [
    "# Print the city count to confirm sufficient count\n",
    "len(cities)"
   ]
  },
  {
   "cell_type": "code",
   "execution_count": 6,
   "metadata": {},
   "outputs": [
    {
     "name": "stdout",
     "output_type": "stream",
     "text": [
      "['buenos aires', 'castro', 'severo-kurilsk', 'port elizabeth', 'ahipara', 'hobart', 'busselton', 'arraial do cabo', 'panguna', 'barrow', 'rikitea', 'vaitupu', 'albany', 'pandamatenga', 'guarapari', 'cabedelo', 'lebu', 'punta arenas', 'kruisfontein', 'vaini', 'port alfred', 'xining', 'nisia floresta', 'iquitos', 'hermanus']\n"
     ]
    }
   ],
   "source": [
    "#get smaller subet of cities for code testing\n",
    "cities_test = []\n",
    "for x in range(25):\n",
    "    cities_test.append(cities[x])\n",
    "    \n",
    "print(cities_test)\n",
    "    "
   ]
  },
  {
   "cell_type": "markdown",
   "metadata": {},
   "source": [
    "# Perform API Calls\n",
    "* Perform a weather check on each city using a series of successive API calls.\n",
    "* Include a print log of each city as it'sbeing processed (with the city number and city name).\n"
   ]
  },
  {
   "cell_type": "code",
   "execution_count": 7,
   "metadata": {
    "scrolled": true
   },
   "outputs": [],
   "source": [
    "#generate base URL\n",
    "base_url = f\"http://api.openweathermap.org/data/2.5/weather?appid={weather_api_key}&units=imperial&q=\""
   ]
  },
  {
   "cell_type": "code",
   "execution_count": 11,
   "metadata": {},
   "outputs": [],
   "source": [
    "#create empty lists for the plot variables\n",
    "successful_cities = []\n",
    "latitude = []\n",
    "temperature = []\n",
    "humidity = []\n",
    "cloudiness = []\n",
    "wind_speed = []\n"
   ]
  },
  {
   "cell_type": "code",
   "execution_count": 12,
   "metadata": {},
   "outputs": [
    {
     "name": "stdout",
     "output_type": "stream",
     "text": [
      "1) buenos aires processed successfully\n",
      "2) castro processed successfully\n",
      "3) severo-kurilsk processed successfully\n",
      "4) port elizabeth processed successfully\n",
      "5) ahipara processed successfully\n",
      "6) hobart processed successfully\n",
      "7) busselton processed successfully\n",
      "8) arraial do cabo processed successfully\n",
      "9) panguna processed successfully\n",
      "10) barrow processed successfully\n",
      "11) rikitea processed successfully\n",
      "12) vaitupu not found\n",
      "13) albany processed successfully\n",
      "14) pandamatenga processed successfully\n",
      "15) guarapari processed successfully\n",
      "16) cabedelo processed successfully\n",
      "17) lebu processed successfully\n",
      "18) punta arenas processed successfully\n",
      "19) kruisfontein processed successfully\n",
      "20) vaini processed successfully\n",
      "21) port alfred processed successfully\n",
      "22) xining processed successfully\n",
      "23) nisia floresta processed successfully\n",
      "24) iquitos processed successfully\n",
      "25) hermanus processed successfully\n",
      "26) korhogo processed successfully\n",
      "27) cape town processed successfully\n",
      "28) itigi processed successfully\n",
      "29) neiafu processed successfully\n",
      "30) qaanaaq processed successfully\n",
      "31) georgetown processed successfully\n",
      "32) nuevo laredo processed successfully\n",
      "33) eston processed successfully\n",
      "34) ushuaia processed successfully\n",
      "35) sidi qasim not found\n",
      "36) uk not found\n",
      "37) bagli processed successfully\n",
      "38) kimbe processed successfully\n",
      "39) grindavik processed successfully\n",
      "40) kirakira processed successfully\n",
      "41) salalah processed successfully\n",
      "42) carnarvon processed successfully\n",
      "43) mayumba processed successfully\n",
      "44) areka processed successfully\n",
      "45) mapiripan processed successfully\n",
      "46) provideniya processed successfully\n",
      "47) lively processed successfully\n",
      "48) whitehorse processed successfully\n",
      "49) walvis bay processed successfully\n",
      "50) lorengau processed successfully\n",
      "51) biak processed successfully\n",
      "52) alghero processed successfully\n",
      "53) vila velha processed successfully\n",
      "54) shunyi processed successfully\n",
      "55) bluff processed successfully\n",
      "56) ginda processed successfully\n",
      "57) tuktoyaktuk processed successfully\n",
      "58) anadyr processed successfully\n",
      "59) beringovskiy processed successfully\n",
      "60) hualmay processed successfully\n",
      "61) tazovskiy processed successfully\n",
      "62) the pas processed successfully\n",
      "63) clyde river processed successfully\n",
      "64) kita processed successfully\n",
      "65) zhigansk processed successfully\n",
      "66) atuona processed successfully\n",
      "67) avarua processed successfully\n",
      "68) guerrero negro processed successfully\n",
      "69) hilo processed successfully\n",
      "70) buala processed successfully\n",
      "71) salinopolis processed successfully\n",
      "72) tsihombe not found\n",
      "73) yima processed successfully\n",
      "74) gardan diwal not found\n",
      "75) burns lake processed successfully\n",
      "76) khlevnoye processed successfully\n",
      "77) shelburne processed successfully\n",
      "78) saskylakh processed successfully\n",
      "79) mokhotlong processed successfully\n",
      "80) chuy processed successfully\n",
      "81) lagoa processed successfully\n",
      "82) jalu processed successfully\n",
      "83) bethel processed successfully\n",
      "84) khatanga processed successfully\n",
      "85) kysyl-syr processed successfully\n",
      "86) minervino murge processed successfully\n",
      "87) jamestown processed successfully\n",
      "88) khartoum processed successfully\n",
      "89) port lincoln processed successfully\n",
      "90) okha processed successfully\n",
      "91) coos bay processed successfully\n",
      "92) margate processed successfully\n",
      "93) vazante processed successfully\n",
      "94) kodiak processed successfully\n",
      "95) east london processed successfully\n",
      "96) maghama not found\n",
      "97) taolanaro not found\n",
      "98) omsukchan processed successfully\n",
      "99) hasaki processed successfully\n",
      "100) nouadhibou processed successfully\n",
      "101) kagoro processed successfully\n",
      "102) codrington processed successfully\n",
      "103) hall processed successfully\n",
      "104) bredasdorp processed successfully\n",
      "105) fortuna processed successfully\n",
      "106) japura processed successfully\n",
      "107) luanda processed successfully\n",
      "108) saint george processed successfully\n",
      "109) kahului processed successfully\n",
      "110) illoqqortoormiut not found\n",
      "111) sorvag not found\n",
      "112) blackwater processed successfully\n",
      "113) ruatoria not found\n",
      "114) bakchar processed successfully\n",
      "115) zalantun processed successfully\n",
      "116) camaqua processed successfully\n",
      "117) hithadhoo processed successfully\n",
      "118) qaqortoq processed successfully\n",
      "119) kieta processed successfully\n",
      "120) astoria processed successfully\n",
      "121) les escoumins processed successfully\n",
      "122) dire processed successfully\n",
      "123) butaritari processed successfully\n",
      "124) saint-philippe processed successfully\n",
      "125) wagar processed successfully\n",
      "126) viedma processed successfully\n",
      "127) vardo processed successfully\n",
      "128) north bend processed successfully\n",
      "129) doctor pedro p. pena not found\n",
      "130) dalbandin processed successfully\n",
      "131) tommot processed successfully\n",
      "132) mataura processed successfully\n",
      "133) san cristobal processed successfully\n",
      "134) rungata not found\n",
      "135) sansai not found\n",
      "136) lumphat processed successfully\n",
      "137) saint-georges processed successfully\n",
      "138) masyaf processed successfully\n",
      "139) tiksi processed successfully\n",
      "140) azul processed successfully\n",
      "141) victoria processed successfully\n",
      "142) souillac processed successfully\n",
      "143) strezhevoy processed successfully\n",
      "144) nalut processed successfully\n",
      "145) mulchen processed successfully\n",
      "146) hami processed successfully\n",
      "147) hidrolandia processed successfully\n",
      "148) mys shmidta not found\n",
      "149) ostrovnoy processed successfully\n",
      "150) hauterive processed successfully\n",
      "151) pontianak processed successfully\n",
      "152) ponta do sol processed successfully\n",
      "153) acari processed successfully\n",
      "154) sola processed successfully\n",
      "155) mahebourg processed successfully\n",
      "156) airai processed successfully\n",
      "157) ulladulla processed successfully\n",
      "158) esperance processed successfully\n",
      "159) taltal processed successfully\n",
      "160) ponta delgada processed successfully\n",
      "161) longyearbyen processed successfully\n",
      "162) dikson processed successfully\n",
      "163) mega processed successfully\n",
      "164) placido de castro processed successfully\n",
      "165) ilulissat processed successfully\n",
      "166) laguna processed successfully\n",
      "167) karatau processed successfully\n",
      "168) matara processed successfully\n",
      "169) sinegorsk processed successfully\n",
      "170) warmbad processed successfully\n",
      "171) mar del plata processed successfully\n",
      "172) cidreira processed successfully\n",
      "173) westerland processed successfully\n",
      "174) yeniseysk processed successfully\n",
      "175) hofn processed successfully\n",
      "176) visnes processed successfully\n",
      "177) vung tau processed successfully\n",
      "178) paamiut processed successfully\n",
      "179) aksarka processed successfully\n",
      "180) ballina processed successfully\n",
      "181) harper processed successfully\n",
      "182) belushya guba not found\n",
      "183) baijiantan processed successfully\n",
      "184) faya processed successfully\n",
      "185) barentsburg not found\n",
      "186) maceio processed successfully\n",
      "187) kaitangata processed successfully\n",
      "188) biltine processed successfully\n",
      "189) kavieng processed successfully\n",
      "190) new norfolk processed successfully\n",
      "191) yumen processed successfully\n",
      "192) torbay processed successfully\n",
      "193) tual processed successfully\n",
      "194) khorramshahr processed successfully\n",
      "195) tumannyy not found\n",
      "196) mao processed successfully\n",
      "197) isangel processed successfully\n",
      "198) nguiu not found\n",
      "199) yingzhong not found\n",
      "200) sergeyevka processed successfully\n",
      "201) upernavik processed successfully\n",
      "202) faanui processed successfully\n",
      "203) rawlins processed successfully\n",
      "204) luderitz processed successfully\n",
      "205) karratha processed successfully\n",
      "206) kushima processed successfully\n",
      "207) namatanai processed successfully\n",
      "208) bayburt processed successfully\n",
      "209) najran processed successfully\n",
      "210) kiama processed successfully\n",
      "211) ishcherskaya processed successfully\n",
      "212) samarinda processed successfully\n",
      "213) chagda not found\n",
      "214) tamandare processed successfully\n",
      "215) la palma processed successfully\n",
      "216) korla processed successfully\n",
      "217) tiarei processed successfully\n",
      "218) port-cartier processed successfully\n",
      "219) ukiah processed successfully\n",
      "220) takoradi processed successfully\n",
      "221) dmitriyevskoye processed successfully\n",
      "222) ust-maya processed successfully\n",
      "223) khulo processed successfully\n",
      "224) nizhneyansk not found\n",
      "225) pevek processed successfully\n",
      "226) lolua not found\n",
      "227) victoria point processed successfully\n",
      "228) deputatskiy processed successfully\n",
      "229) goundam processed successfully\n",
      "230) naolinco not found\n",
      "231) kattivakkam processed successfully\n",
      "232) pochutla processed successfully\n",
      "233) casas grandes processed successfully\n"
     ]
    },
    {
     "name": "stdout",
     "output_type": "stream",
     "text": [
      "234) praia da vitoria processed successfully\n",
      "235) bhanpura processed successfully\n",
      "236) okhotsk processed successfully\n",
      "237) kazalinsk not found\n",
      "238) aklavik processed successfully\n",
      "239) pangnirtung processed successfully\n",
      "240) yenagoa processed successfully\n",
      "241) marcona not found\n",
      "242) klaksvik processed successfully\n",
      "243) shingu processed successfully\n",
      "244) fort nelson processed successfully\n",
      "245) haines junction processed successfully\n",
      "246) adrar processed successfully\n",
      "247) broome processed successfully\n",
      "248) la ronge processed successfully\n",
      "249) shenkursk processed successfully\n",
      "250) ola processed successfully\n",
      "251) lukovetskiy processed successfully\n",
      "252) yeppoon processed successfully\n",
      "253) kaabong processed successfully\n",
      "254) lavrentiya processed successfully\n",
      "255) sydney processed successfully\n",
      "256) puerto ayora processed successfully\n",
      "257) chokwe processed successfully\n",
      "258) punto fijo processed successfully\n",
      "259) shahr-e babak processed successfully\n",
      "260) bambous virieux processed successfully\n",
      "261) gympie processed successfully\n",
      "262) iqaluit processed successfully\n",
      "263) talnakh processed successfully\n",
      "264) aleksandrov gay processed successfully\n",
      "265) paso de los toros processed successfully\n",
      "266) srednekolymsk processed successfully\n",
      "267) caravelas processed successfully\n",
      "268) ribeira grande processed successfully\n",
      "269) pinawa processed successfully\n",
      "270) kutum processed successfully\n",
      "271) tasiilaq processed successfully\n",
      "272) vao processed successfully\n",
      "273) osmena processed successfully\n",
      "274) bengkulu processed successfully\n",
      "275) glenwood springs processed successfully\n",
      "276) kapaa processed successfully\n",
      "277) yellowknife processed successfully\n",
      "278) horw processed successfully\n",
      "279) norman wells processed successfully\n",
      "280) primorsko-akhtarsk processed successfully\n",
      "281) mosquera processed successfully\n",
      "282) kalbay processed successfully\n",
      "283) sarangani processed successfully\n",
      "284) murgab processed successfully\n",
      "285) charters towers processed successfully\n",
      "286) pahrump processed successfully\n",
      "287) ongandjera processed successfully\n",
      "288) malkara processed successfully\n",
      "289) tripoli processed successfully\n",
      "290) ghanzi processed successfully\n",
      "291) nago processed successfully\n",
      "292) catalina foothills processed successfully\n",
      "293) comodoro rivadavia processed successfully\n",
      "294) cherskiy processed successfully\n",
      "295) nikolskoye processed successfully\n",
      "296) porosozero processed successfully\n",
      "297) progreso processed successfully\n",
      "298) palmer processed successfully\n",
      "299) mahadday weyne not found\n",
      "300) nanortalik processed successfully\n",
      "301) broken hill processed successfully\n",
      "302) aksu processed successfully\n",
      "303) tornio processed successfully\n",
      "304) teknaf processed successfully\n",
      "305) attawapiskat not found\n",
      "306) altamira processed successfully\n",
      "307) adoni processed successfully\n",
      "308) polis processed successfully\n",
      "309) saint-augustin processed successfully\n",
      "310) revelstoke processed successfully\n",
      "311) mantua processed successfully\n",
      "312) genhe processed successfully\n",
      "313) tura processed successfully\n",
      "314) tasbuget not found\n",
      "315) dawson creek processed successfully\n",
      "316) satitoa not found\n",
      "317) seka processed successfully\n",
      "318) namibe processed successfully\n",
      "319) sisimiut processed successfully\n",
      "320) surt processed successfully\n",
      "321) listvyagi processed successfully\n",
      "322) awjilah processed successfully\n",
      "323) liverpool processed successfully\n",
      "324) almaguer processed successfully\n",
      "325) sobolevo processed successfully\n",
      "326) rawson processed successfully\n",
      "327) gwadar processed successfully\n",
      "328) nanpara processed successfully\n",
      "329) moyale processed successfully\n",
      "330) batagay-alyta processed successfully\n",
      "331) shimoda processed successfully\n",
      "332) tarakan processed successfully\n",
      "333) mattru processed successfully\n",
      "334) amderma not found\n",
      "335) caaguazu processed successfully\n",
      "336) juneau processed successfully\n",
      "337) lakes entrance processed successfully\n",
      "338) sidi ali processed successfully\n",
      "339) safaga processed successfully\n",
      "340) son la processed successfully\n",
      "341) gboko processed successfully\n",
      "342) tucuman processed successfully\n",
      "343) huilong processed successfully\n",
      "344) jurado processed successfully\n",
      "345) puerto baquerizo moreno processed successfully\n",
      "346) pafos processed successfully\n",
      "347) zalesovo processed successfully\n",
      "348) soyo processed successfully\n",
      "349) dondo processed successfully\n",
      "350) honggang processed successfully\n",
      "351) atengo processed successfully\n",
      "352) joshimath processed successfully\n",
      "353) shache processed successfully\n",
      "354) sakakah processed successfully\n",
      "355) crossville processed successfully\n",
      "356) port macquarie processed successfully\n",
      "357) stoyba not found\n",
      "358) ken caryl processed successfully\n",
      "359) nizwa processed successfully\n",
      "360) alice springs processed successfully\n",
      "361) batagay processed successfully\n",
      "362) santa isabel do rio negro processed successfully\n",
      "363) siderno processed successfully\n",
      "364) esso processed successfully\n",
      "365) rupert processed successfully\n",
      "366) dingle processed successfully\n",
      "367) bambanglipuro processed successfully\n",
      "368) khani processed successfully\n",
      "369) tiebissou processed successfully\n",
      "370) naze processed successfully\n",
      "371) marang processed successfully\n",
      "372) havre-saint-pierre processed successfully\n",
      "373) kalmunai processed successfully\n",
      "374) strelka processed successfully\n",
      "375) pundaguitan processed successfully\n",
      "376) esmeraldas processed successfully\n",
      "377) grand gaube processed successfully\n",
      "378) altay processed successfully\n",
      "379) port hedland processed successfully\n",
      "380) nishihara processed successfully\n",
      "381) hameenlinna processed successfully\n",
      "382) taunggyi processed successfully\n",
      "383) komsomolskiy processed successfully\n",
      "384) rabat processed successfully\n",
      "385) kijang processed successfully\n",
      "386) vila franca do campo processed successfully\n",
      "387) coihaique processed successfully\n",
      "388) warqla not found\n",
      "389) sao filipe processed successfully\n",
      "390) hay river processed successfully\n",
      "391) nipawin processed successfully\n",
      "392) huarmey processed successfully\n",
      "393) asau processed successfully\n",
      "394) ardakan processed successfully\n",
      "395) abu dhabi processed successfully\n",
      "396) altamont processed successfully\n",
      "397) poquoson processed successfully\n",
      "398) songjianghe processed successfully\n",
      "399) arman processed successfully\n",
      "400) preobrazheniye processed successfully\n",
      "401) ejido processed successfully\n",
      "402) zacapoaxtla processed successfully\n",
      "403) kindu processed successfully\n",
      "404) port blair processed successfully\n",
      "405) hope processed successfully\n",
      "406) bolu processed successfully\n",
      "407) buraydah processed successfully\n",
      "408) araguacu processed successfully\n",
      "409) big spring processed successfully\n",
      "410) tabiauea not found\n",
      "411) zyryanka processed successfully\n",
      "412) sabha processed successfully\n",
      "413) mitsamiouli processed successfully\n",
      "414) isla mujeres processed successfully\n",
      "415) kang processed successfully\n",
      "416) manama processed successfully\n",
      "417) inderborskiy not found\n",
      "418) bajil processed successfully\n",
      "419) la crosse processed successfully\n",
      "420) asfi processed successfully\n",
      "421) sawtell processed successfully\n",
      "422) touros processed successfully\n",
      "423) kirkwood processed successfully\n",
      "424) lucapa processed successfully\n",
      "425) ibicarai processed successfully\n",
      "426) jati processed successfully\n",
      "427) mahajanga processed successfully\n",
      "428) khonuu not found\n",
      "429) cabo san lucas processed successfully\n",
      "430) kalengwa processed successfully\n",
      "431) nuuk processed successfully\n",
      "432) thompson processed successfully\n",
      "433) bud processed successfully\n",
      "434) kolyshley processed successfully\n",
      "435) plettenberg bay processed successfully\n",
      "436) marystown processed successfully\n",
      "437) angoram processed successfully\n",
      "438) colac processed successfully\n",
      "439) agirish processed successfully\n",
      "440) barmer processed successfully\n",
      "441) bonthe processed successfully\n",
      "442) lazaro cardenas processed successfully\n",
      "443) marsa matruh processed successfully\n",
      "444) port augusta processed successfully\n",
      "445) upleta processed successfully\n",
      "446) viljoenskroon processed successfully\n",
      "447) kavaratti processed successfully\n",
      "448) erdenet processed successfully\n",
      "449) mangaluru processed successfully\n",
      "450) lokosovo processed successfully\n",
      "451) vanimo processed successfully\n",
      "452) aqtobe processed successfully\n",
      "453) kokopo processed successfully\n",
      "454) changde processed successfully\n",
      "455) longkou processed successfully\n",
      "456) ambilobe processed successfully\n",
      "457) sibu processed successfully\n"
     ]
    },
    {
     "name": "stdout",
     "output_type": "stream",
     "text": [
      "458) ndago processed successfully\n",
      "459) petropavlovskoye processed successfully\n",
      "460) hudiksvall processed successfully\n",
      "461) chokurdakh processed successfully\n",
      "462) hurghada processed successfully\n",
      "463) ngunguru processed successfully\n",
      "464) katsuura processed successfully\n",
      "465) lompoc processed successfully\n",
      "466) tomari processed successfully\n",
      "467) nelson bay processed successfully\n",
      "468) la macarena processed successfully\n",
      "469) saint-francois processed successfully\n",
      "470) oksfjord processed successfully\n",
      "471) gilgit processed successfully\n",
      "472) chicama processed successfully\n",
      "473) cravo norte processed successfully\n",
      "474) oskarshamn processed successfully\n",
      "475) ketchikan processed successfully\n",
      "476) okara processed successfully\n",
      "477) geresk not found\n",
      "478) lasa processed successfully\n",
      "479) svetlyy processed successfully\n",
      "480) angra not found\n",
      "481) porto novo processed successfully\n",
      "482) santiago processed successfully\n",
      "483) mariental processed successfully\n",
      "484) geraldton processed successfully\n",
      "485) brae processed successfully\n",
      "486) hobyo processed successfully\n",
      "487) tir pol not found\n",
      "488) hongjiang processed successfully\n",
      "489) zaria processed successfully\n",
      "490) eydhafushi processed successfully\n",
      "491) barawe not found\n",
      "492) nyrob processed successfully\n",
      "493) diego de almagro processed successfully\n",
      "494) wanning processed successfully\n",
      "495) port keats processed successfully\n",
      "496) miles city processed successfully\n",
      "497) evensk processed successfully\n",
      "498) prudy processed successfully\n",
      "499) ryotsu processed successfully\n",
      "500) lata processed successfully\n",
      "501) ourem processed successfully\n",
      "502) colon processed successfully\n",
      "503) lingao processed successfully\n",
      "504) mapiri processed successfully\n",
      "505) oranjemund processed successfully\n",
      "506) madang processed successfully\n",
      "507) dalby processed successfully\n",
      "508) ler processed successfully\n",
      "509) umea processed successfully\n",
      "510) rantauprapat processed successfully\n",
      "511) den helder processed successfully\n",
      "512) taoudenni processed successfully\n",
      "513) pori processed successfully\n",
      "514) aden processed successfully\n",
      "515) sambava processed successfully\n",
      "516) palmas de monte alto processed successfully\n",
      "517) despotovac processed successfully\n",
      "518) barroui not found\n",
      "519) maniitsoq processed successfully\n",
      "520) severnoye processed successfully\n",
      "521) alofi processed successfully\n",
      "522) athabasca processed successfully\n",
      "523) kashi processed successfully\n",
      "524) adre processed successfully\n",
      "525) ferkessedougou processed successfully\n",
      "526) byron bay processed successfully\n",
      "527) staryy nadym processed successfully\n",
      "528) rockport processed successfully\n",
      "529) develi processed successfully\n",
      "530) poum processed successfully\n",
      "531) teahupoo processed successfully\n",
      "532) tatarsk processed successfully\n",
      "533) pedro carbo processed successfully\n",
      "534) puerto escondido processed successfully\n",
      "535) catamarca processed successfully\n",
      "536) grand river south east not found\n",
      "537) acapulco processed successfully\n",
      "538) petropavlovsk-kamchatskiy processed successfully\n",
      "539) chapais processed successfully\n",
      "540) linkou processed successfully\n",
      "541) cascais processed successfully\n",
      "542) rio cuarto processed successfully\n",
      "543) khilok processed successfully\n",
      "544) yuzhno-yeniseyskiy not found\n",
      "545) putina processed successfully\n",
      "546) tignere processed successfully\n",
      "547) sao joao da barra processed successfully\n",
      "548) tokur processed successfully\n",
      "549) gibsons processed successfully\n",
      "550) concepcion del uruguay processed successfully\n",
      "551) samana processed successfully\n",
      "552) natchez processed successfully\n",
      "553) caronport processed successfully\n",
      "554) gushikawa processed successfully\n",
      "555) kuytun processed successfully\n",
      "556) lawrenceburg processed successfully\n",
      "557) stawell processed successfully\n",
      "558) leningradskiy processed successfully\n",
      "559) hamilton processed successfully\n",
      "560) matay processed successfully\n",
      "561) yirol not found\n",
      "562) saint-joseph processed successfully\n",
      "563) rassvet processed successfully\n",
      "564) saldanha processed successfully\n",
      "565) pisco processed successfully\n",
      "566) dolores processed successfully\n",
      "567) tawkar not found\n",
      "568) lumeje processed successfully\n",
      "569) asyut processed successfully\n",
      "570) sungaipenuh processed successfully\n",
      "571) magadan processed successfully\n",
      "572) inverness processed successfully\n",
      "573) gat processed successfully\n",
      "574) mhango processed successfully\n",
      "575) bathsheba processed successfully\n",
      "576) ikalamavony processed successfully\n",
      "577) kogon processed successfully\n",
      "578) kamenka processed successfully\n",
      "579) ancud processed successfully\n",
      "580) bolobo processed successfully\n",
      "581) general roca processed successfully\n",
      "582) rocha processed successfully\n",
      "583) san juan processed successfully\n",
      "584) san patricio processed successfully\n",
      "585) zelenogorskiy processed successfully\n",
      "586) krasnovka processed successfully\n",
      "587) svetlaya processed successfully\n",
      "588) bonavista processed successfully\n",
      "589) kalabo processed successfully\n",
      "590) izhma processed successfully\n",
      "591) zambezi processed successfully\n",
      "592) tabora processed successfully\n",
      "593) tungkang not found\n",
      "594) carutapera processed successfully\n",
      "595) sumenep processed successfully\n",
      "596) ciro marina processed successfully\n",
      "597) sentyabrskiy not found\n",
      "598) half moon bay processed successfully\n",
      "599) havelock processed successfully\n",
      "600) tuatapere processed successfully\n",
      "601) chinchani processed successfully\n",
      "602) tucuma processed successfully\n",
      "603) katsiveli not found\n",
      "604) bubaque processed successfully\n",
      "605) rocky mountain house processed successfully\n",
      "606) henties bay processed successfully\n",
      "607) santa lucia processed successfully\n",
      "608) cayambe processed successfully\n",
      "609) abiy adi not found\n",
      "610) snezhnogorsk processed successfully\n",
      "611) vitimskiy not found\n",
      "612) barreirinhas processed successfully\n",
      "613) barbar not found\n",
      "614) port-gentil processed successfully\n",
      "615) castleford processed successfully\n",
      "616) baykit processed successfully\n",
      "617) effium processed successfully\n",
      "618) maputo processed successfully\n",
      "619) constitucion processed successfully\n",
      "620) solnechnyy processed successfully\n",
      "621) westport processed successfully\n",
      "622) debre tabor processed successfully\n",
      "623) nadym processed successfully\n",
      "624) formosa processed successfully\n",
      "625) oktyabrskoye processed successfully\n",
      "626) baruun-urt processed successfully\n",
      "627) vestmanna processed successfully\n",
      "628) vallenar processed successfully\n",
      "629) sur processed successfully\n",
      "630) marawi processed successfully\n",
      "631) khromtau processed successfully\n",
      "632) slave lake processed successfully\n",
      "633) camacha processed successfully\n",
      "634) olafsvik processed successfully\n",
      "635) thinadhoo processed successfully\n",
      "636) fairbanks processed successfully\n",
      "637) hihifo not found\n",
      "638) umm durman not found\n",
      "639) kolpashevo processed successfully\n",
      "640) megion processed successfully\n",
      "641) sorong processed successfully\n",
      "642) verkhnyaya inta processed successfully\n",
      "643) terrenate processed successfully\n",
      "644) alta floresta processed successfully\n",
      "645) rio grande processed successfully\n",
      "646) mrirt not found\n",
      "647) chimbote processed successfully\n",
      "648) milkovo processed successfully\n",
      "649) tessalit processed successfully\n",
      "650) yanan not found\n",
      "651) nueva loja processed successfully\n",
      "652) saint anthony processed successfully\n",
      "653) waslala processed successfully\n"
     ]
    }
   ],
   "source": [
    "# loop through each city in cities and get the json response (include print log as cities are being processed)\n",
    "for index, city in enumerate(cities):\n",
    "    \n",
    "    try:\n",
    "        query_url = f\"{base_url}{city}\"\n",
    "        response = requests.get(query_url)\n",
    "        json = response.json()\n",
    "\n",
    "\n",
    "    #as you loop through, append data to the lists for plot variables\n",
    "        latitude.append(json[\"coord\"][\"lat\"])\n",
    "        temperature.append(json[\"main\"][\"temp\"])\n",
    "        humidity.append(json[\"main\"][\"humidity\"])\n",
    "        cloudiness.append(json[\"clouds\"][\"all\"])\n",
    "        wind_speed.append(json[\"wind\"][\"speed\"])\n",
    "        \n",
    "        #increase the index by 1 so that we do not print a 0'th indexed number\n",
    "        index += 1\n",
    "        \n",
    "        #print log as cities are being processed\n",
    "        print(f\"{index}) {city} processed successfully\")\n",
    "        \n",
    "        #add city to list of successful cities\n",
    "        successful_cities.append(city)\n",
    "        \n",
    "    \n",
    "    #print cities that are not in the API database\n",
    "    except:\n",
    "        index += 1\n",
    "        print(f\"{index}) {city} not found\")\n",
    "    \n"
   ]
  },
  {
   "cell_type": "markdown",
   "metadata": {},
   "source": [
    "### Convert Raw Data to DataFrame\n",
    "* Export the city data into a .csv.\n",
    "* Display the DataFrame"
   ]
  },
  {
   "cell_type": "code",
   "execution_count": 15,
   "metadata": {},
   "outputs": [
    {
     "data": {
      "text/html": [
       "<div>\n",
       "<style scoped>\n",
       "    .dataframe tbody tr th:only-of-type {\n",
       "        vertical-align: middle;\n",
       "    }\n",
       "\n",
       "    .dataframe tbody tr th {\n",
       "        vertical-align: top;\n",
       "    }\n",
       "\n",
       "    .dataframe thead th {\n",
       "        text-align: right;\n",
       "    }\n",
       "</style>\n",
       "<table border=\"1\" class=\"dataframe\">\n",
       "  <thead>\n",
       "    <tr style=\"text-align: right;\">\n",
       "      <th></th>\n",
       "      <th>City</th>\n",
       "      <th>Latitude</th>\n",
       "      <th>Temperature (F)</th>\n",
       "      <th>Humidity (%)</th>\n",
       "      <th>Cloudiness (%)</th>\n",
       "      <th>Wind Speed (mph)</th>\n",
       "    </tr>\n",
       "  </thead>\n",
       "  <tbody>\n",
       "    <tr>\n",
       "      <th>0</th>\n",
       "      <td>buenos aires</td>\n",
       "      <td>-34.6132</td>\n",
       "      <td>76.41</td>\n",
       "      <td>57</td>\n",
       "      <td>0</td>\n",
       "      <td>14.97</td>\n",
       "    </tr>\n",
       "    <tr>\n",
       "      <th>1</th>\n",
       "      <td>castro</td>\n",
       "      <td>-24.7911</td>\n",
       "      <td>66.72</td>\n",
       "      <td>90</td>\n",
       "      <td>100</td>\n",
       "      <td>3.98</td>\n",
       "    </tr>\n",
       "    <tr>\n",
       "      <th>2</th>\n",
       "      <td>severo-kurilsk</td>\n",
       "      <td>50.6789</td>\n",
       "      <td>29.21</td>\n",
       "      <td>95</td>\n",
       "      <td>93</td>\n",
       "      <td>21.21</td>\n",
       "    </tr>\n",
       "    <tr>\n",
       "      <th>3</th>\n",
       "      <td>port elizabeth</td>\n",
       "      <td>-33.9180</td>\n",
       "      <td>59.00</td>\n",
       "      <td>88</td>\n",
       "      <td>0</td>\n",
       "      <td>4.61</td>\n",
       "    </tr>\n",
       "    <tr>\n",
       "      <th>4</th>\n",
       "      <td>ahipara</td>\n",
       "      <td>-35.1667</td>\n",
       "      <td>71.47</td>\n",
       "      <td>67</td>\n",
       "      <td>42</td>\n",
       "      <td>11.45</td>\n",
       "    </tr>\n",
       "  </tbody>\n",
       "</table>\n",
       "</div>"
      ],
      "text/plain": [
       "             City  Latitude  Temperature (F)  Humidity (%)  Cloudiness (%)  \\\n",
       "0    buenos aires  -34.6132            76.41            57               0   \n",
       "1          castro  -24.7911            66.72            90             100   \n",
       "2  severo-kurilsk   50.6789            29.21            95              93   \n",
       "3  port elizabeth  -33.9180            59.00            88               0   \n",
       "4         ahipara  -35.1667            71.47            67              42   \n",
       "\n",
       "   Wind Speed (mph)  \n",
       "0             14.97  \n",
       "1              3.98  \n",
       "2             21.21  \n",
       "3              4.61  \n",
       "4             11.45  "
      ]
     },
     "execution_count": 15,
     "metadata": {},
     "output_type": "execute_result"
    }
   ],
   "source": [
    "#create dataframe out of weather data collected\n",
    "weather_df = pd.DataFrame({\"City\": successful_cities, \"Latitude\": latitude, \"Temperature (F)\": temperature,\n",
    "                           \"Humidity (%)\": humidity, \"Cloudiness (%)\": cloudiness, \"Wind Speed (mph)\": wind_speed})\n",
    "\n",
    "weather_df.head()"
   ]
  },
  {
   "cell_type": "code",
   "execution_count": 36,
   "metadata": {},
   "outputs": [],
   "source": [
    "#export the data into a csv\n",
    "csv_path = \"../output_data/weather.csv\"\n",
    "weather_csv = weather_df.to_csv(csv_path)"
   ]
  },
  {
   "cell_type": "markdown",
   "metadata": {},
   "source": [
    "## Inspect the data and remove the cities where the humidity > 100%.\n",
    "----\n",
    "Skip this step if there are no cities that have humidity > 100%. "
   ]
  },
  {
   "cell_type": "code",
   "execution_count": null,
   "metadata": {},
   "outputs": [],
   "source": []
  },
  {
   "cell_type": "code",
   "execution_count": 17,
   "metadata": {},
   "outputs": [
    {
     "data": {
      "text/plain": [
       "[]"
      ]
     },
     "execution_count": 17,
     "metadata": {},
     "output_type": "execute_result"
    }
   ],
   "source": [
    "#  Get the indices of cities that have humidity over 100%.\n",
    "humid_cities = weather_df.loc[weather_df[\"Humidity (%)\"] > 100].index.tolist()\n",
    "humid_cities\n"
   ]
  },
  {
   "cell_type": "code",
   "execution_count": 18,
   "metadata": {},
   "outputs": [
    {
     "data": {
      "text/html": [
       "<div>\n",
       "<style scoped>\n",
       "    .dataframe tbody tr th:only-of-type {\n",
       "        vertical-align: middle;\n",
       "    }\n",
       "\n",
       "    .dataframe tbody tr th {\n",
       "        vertical-align: top;\n",
       "    }\n",
       "\n",
       "    .dataframe thead th {\n",
       "        text-align: right;\n",
       "    }\n",
       "</style>\n",
       "<table border=\"1\" class=\"dataframe\">\n",
       "  <thead>\n",
       "    <tr style=\"text-align: right;\">\n",
       "      <th></th>\n",
       "      <th>City</th>\n",
       "      <th>Latitude</th>\n",
       "      <th>Temperature (F)</th>\n",
       "      <th>Humidity (%)</th>\n",
       "      <th>Cloudiness (%)</th>\n",
       "      <th>Wind Speed (mph)</th>\n",
       "    </tr>\n",
       "  </thead>\n",
       "  <tbody>\n",
       "    <tr>\n",
       "      <th>0</th>\n",
       "      <td>buenos aires</td>\n",
       "      <td>-34.6132</td>\n",
       "      <td>76.41</td>\n",
       "      <td>57</td>\n",
       "      <td>0</td>\n",
       "      <td>14.97</td>\n",
       "    </tr>\n",
       "    <tr>\n",
       "      <th>1</th>\n",
       "      <td>castro</td>\n",
       "      <td>-24.7911</td>\n",
       "      <td>66.72</td>\n",
       "      <td>90</td>\n",
       "      <td>100</td>\n",
       "      <td>3.98</td>\n",
       "    </tr>\n",
       "    <tr>\n",
       "      <th>2</th>\n",
       "      <td>severo-kurilsk</td>\n",
       "      <td>50.6789</td>\n",
       "      <td>29.21</td>\n",
       "      <td>95</td>\n",
       "      <td>93</td>\n",
       "      <td>21.21</td>\n",
       "    </tr>\n",
       "    <tr>\n",
       "      <th>3</th>\n",
       "      <td>port elizabeth</td>\n",
       "      <td>-33.9180</td>\n",
       "      <td>59.00</td>\n",
       "      <td>88</td>\n",
       "      <td>0</td>\n",
       "      <td>4.61</td>\n",
       "    </tr>\n",
       "    <tr>\n",
       "      <th>4</th>\n",
       "      <td>ahipara</td>\n",
       "      <td>-35.1667</td>\n",
       "      <td>71.47</td>\n",
       "      <td>67</td>\n",
       "      <td>42</td>\n",
       "      <td>11.45</td>\n",
       "    </tr>\n",
       "    <tr>\n",
       "      <th>...</th>\n",
       "      <td>...</td>\n",
       "      <td>...</td>\n",
       "      <td>...</td>\n",
       "      <td>...</td>\n",
       "      <td>...</td>\n",
       "      <td>...</td>\n",
       "    </tr>\n",
       "    <tr>\n",
       "      <th>594</th>\n",
       "      <td>milkovo</td>\n",
       "      <td>54.7167</td>\n",
       "      <td>10.51</td>\n",
       "      <td>91</td>\n",
       "      <td>0</td>\n",
       "      <td>1.57</td>\n",
       "    </tr>\n",
       "    <tr>\n",
       "      <th>595</th>\n",
       "      <td>tessalit</td>\n",
       "      <td>20.1986</td>\n",
       "      <td>60.98</td>\n",
       "      <td>27</td>\n",
       "      <td>0</td>\n",
       "      <td>6.93</td>\n",
       "    </tr>\n",
       "    <tr>\n",
       "      <th>596</th>\n",
       "      <td>nueva loja</td>\n",
       "      <td>0.0847</td>\n",
       "      <td>71.55</td>\n",
       "      <td>94</td>\n",
       "      <td>64</td>\n",
       "      <td>2.28</td>\n",
       "    </tr>\n",
       "    <tr>\n",
       "      <th>597</th>\n",
       "      <td>saint anthony</td>\n",
       "      <td>45.0205</td>\n",
       "      <td>6.62</td>\n",
       "      <td>56</td>\n",
       "      <td>75</td>\n",
       "      <td>2.28</td>\n",
       "    </tr>\n",
       "    <tr>\n",
       "      <th>598</th>\n",
       "      <td>waslala</td>\n",
       "      <td>13.2333</td>\n",
       "      <td>68.09</td>\n",
       "      <td>92</td>\n",
       "      <td>26</td>\n",
       "      <td>2.51</td>\n",
       "    </tr>\n",
       "  </tbody>\n",
       "</table>\n",
       "<p>599 rows × 6 columns</p>\n",
       "</div>"
      ],
      "text/plain": [
       "               City  Latitude  Temperature (F)  Humidity (%)  Cloudiness (%)  \\\n",
       "0      buenos aires  -34.6132            76.41            57               0   \n",
       "1            castro  -24.7911            66.72            90             100   \n",
       "2    severo-kurilsk   50.6789            29.21            95              93   \n",
       "3    port elizabeth  -33.9180            59.00            88               0   \n",
       "4           ahipara  -35.1667            71.47            67              42   \n",
       "..              ...       ...              ...           ...             ...   \n",
       "594         milkovo   54.7167            10.51            91               0   \n",
       "595        tessalit   20.1986            60.98            27               0   \n",
       "596      nueva loja    0.0847            71.55            94              64   \n",
       "597   saint anthony   45.0205             6.62            56              75   \n",
       "598         waslala   13.2333            68.09            92              26   \n",
       "\n",
       "     Wind Speed (mph)  \n",
       "0               14.97  \n",
       "1                3.98  \n",
       "2               21.21  \n",
       "3                4.61  \n",
       "4               11.45  \n",
       "..                ...  \n",
       "594              1.57  \n",
       "595              6.93  \n",
       "596              2.28  \n",
       "597              2.28  \n",
       "598              2.51  \n",
       "\n",
       "[599 rows x 6 columns]"
      ]
     },
     "execution_count": 18,
     "metadata": {},
     "output_type": "execute_result"
    }
   ],
   "source": [
    "# Make a new DataFrame equal to the city data to drop all humidity outliers by index.\n",
    "# Passing \"inplace=False\" will make a copy of the city_data DataFrame, which we call \"clean_city_data\".\n",
    "\n",
    "clean_weather_df = weather_df.drop(humid_cities).reset_index()\n",
    "\n",
    "#delete extraneous index column\n",
    "del clean_weather_df[\"index\"]\n",
    "\n",
    "#display clean df\n",
    "clean_weather_df\n"
   ]
  },
  {
   "cell_type": "markdown",
   "metadata": {},
   "source": [
    "## Plotting the Data\n",
    "* Use proper labeling of the plots using plot titles (including date of analysis) and axes labels.\n",
    "* Save the plotted figures as .pngs."
   ]
  },
  {
   "cell_type": "markdown",
   "metadata": {},
   "source": [
    "## Temperature vs. Latitude Plot"
   ]
  },
  {
   "cell_type": "code",
   "execution_count": 19,
   "metadata": {
    "scrolled": true
   },
   "outputs": [
    {
     "data": {
      "image/png": "[encoded data removed]",
      "text/plain": [
       "<Figure size 432x288 with 1 Axes>"
      ]
     },
     "metadata": {
      "needs_background": "light"
     },
     "output_type": "display_data"
    }
   ],
   "source": [
    "plt.scatter(clean_weather_df[\"Latitude\"], clean_weather_df[\"Temperature (F)\"])\n",
    "plt.title(\"Temperature vs. Latitude (1/27/2020)\", fontweight=\"bold\")\n",
    "plt.xlabel(\"Latitude\", fontweight = \"bold\")\n",
    "plt.ylabel(\"Temperature (F)\", fontweight = \"bold\")\n",
    "\n",
    "plt.show()"
   ]
  },
  {
   "cell_type": "markdown",
   "metadata": {},
   "source": [
    "The plot above is analyzing the relationship between a city's latitude and temperature on 1/27/2020, with latitude as the independent x variable and temperature in degrees farenheit as the dependent y variable."
   ]
  },
  {
   "cell_type": "markdown",
   "metadata": {},
   "source": [
    "## Humidity vs. Latitude Plot"
   ]
  },
  {
   "cell_type": "code",
   "execution_count": 20,
   "metadata": {},
   "outputs": [
    {
     "data": {
      "image/png": "[encoded data removed]",
      "text/plain": [
       "<Figure size 432x288 with 1 Axes>"
      ]
     },
     "metadata": {
      "needs_background": "light"
     },
     "output_type": "display_data"
    }
   ],
   "source": [
    "plt.scatter(clean_weather_df[\"Latitude\"], clean_weather_df[\"Humidity (%)\"])\n",
    "plt.title(\"Humidity vs. Latitude (1/27/2020)\", fontweight=\"bold\")\n",
    "plt.xlabel(\"Latitude\", fontweight = \"bold\")\n",
    "plt.ylabel(\"Humidity (%)\", fontweight = \"bold\")\n",
    "\n",
    "plt.show()"
   ]
  },
  {
   "cell_type": "markdown",
   "metadata": {},
   "source": [
    "The plot above is analyzing the relationship between a city's latitude and humidity % on 1/27/2020, with latitude as the independent x variable and humidity % farenheit as the dependent y variable."
   ]
  },
  {
   "cell_type": "markdown",
   "metadata": {},
   "source": [
    "## Cloudiness vs. Latitude Plot"
   ]
  },
  {
   "cell_type": "code",
   "execution_count": 21,
   "metadata": {},
   "outputs": [
    {
     "data": {
      "image/png": "[encoded data removed]",
      "text/plain": [
       "<Figure size 432x288 with 1 Axes>"
      ]
     },
     "metadata": {
      "needs_background": "light"
     },
     "output_type": "display_data"
    }
   ],
   "source": [
    "plt.scatter(clean_weather_df[\"Latitude\"], clean_weather_df[\"Cloudiness (%)\"])\n",
    "plt.title(\"Cloudiness vs. Latitude (1/27/2020)\", fontweight=\"bold\")\n",
    "plt.xlabel(\"Latitude\", fontweight = \"bold\")\n",
    "plt.ylabel(\"Cloudiness (%)\", fontweight = \"bold\")\n",
    "\n",
    "plt.show()"
   ]
  },
  {
   "cell_type": "markdown",
   "metadata": {},
   "source": [
    "The plot above is analyzing the relationship between a city's latitude and cloudiness % on 1/27/2020, with latitude as the independent x variable and cloudiness % as the dependent y variable."
   ]
  },
  {
   "cell_type": "markdown",
   "metadata": {},
   "source": [
    "## Wind Speed vs. Latitude Plot"
   ]
  },
  {
   "cell_type": "code",
   "execution_count": 22,
   "metadata": {},
   "outputs": [
    {
     "data": {
      "image/png": "[encoded data removed]",
      "text/plain": [
       "<Figure size 432x288 with 1 Axes>"
      ]
     },
     "metadata": {
      "needs_background": "light"
     },
     "output_type": "display_data"
    }
   ],
   "source": [
    "plt.scatter(clean_weather_df[\"Latitude\"], clean_weather_df[\"Wind Speed (mph)\"])\n",
    "plt.title(\"Wind Speed vs. Latitude (1/27/2020)\", fontweight=\"bold\")\n",
    "plt.xlabel(\"Latitude\", fontweight = \"bold\")\n",
    "plt.ylabel(\"Wind Speed (mph)\", fontweight = \"bold\")\n",
    "\n",
    "plt.show()"
   ]
  },
  {
   "cell_type": "markdown",
   "metadata": {},
   "source": [
    "The plot above is analyzing the relationship between a city's latitude and wind speed (mph) on 1/27/2020, with latitude as the independent x variable and wind speed (mph) as the dependent y variable."
   ]
  },
  {
   "cell_type": "markdown",
   "metadata": {},
   "source": [
    "## Linear Regression"
   ]
  },
  {
   "cell_type": "code",
   "execution_count": 23,
   "metadata": {},
   "outputs": [
    {
     "data": {
      "text/html": [
       "<div>\n",
       "<style scoped>\n",
       "    .dataframe tbody tr th:only-of-type {\n",
       "        vertical-align: middle;\n",
       "    }\n",
       "\n",
       "    .dataframe tbody tr th {\n",
       "        vertical-align: top;\n",
       "    }\n",
       "\n",
       "    .dataframe thead th {\n",
       "        text-align: right;\n",
       "    }\n",
       "</style>\n",
       "<table border=\"1\" class=\"dataframe\">\n",
       "  <thead>\n",
       "    <tr style=\"text-align: right;\">\n",
       "      <th></th>\n",
       "      <th>City</th>\n",
       "      <th>Latitude</th>\n",
       "      <th>Temperature (F)</th>\n",
       "      <th>Humidity (%)</th>\n",
       "      <th>Cloudiness (%)</th>\n",
       "      <th>Wind Speed (mph)</th>\n",
       "      <th>Hemisphere</th>\n",
       "    </tr>\n",
       "  </thead>\n",
       "  <tbody>\n",
       "    <tr>\n",
       "      <th>0</th>\n",
       "      <td>buenos aires</td>\n",
       "      <td>-34.6132</td>\n",
       "      <td>76.41</td>\n",
       "      <td>57</td>\n",
       "      <td>0</td>\n",
       "      <td>14.97</td>\n",
       "      <td>Southern</td>\n",
       "    </tr>\n",
       "    <tr>\n",
       "      <th>1</th>\n",
       "      <td>castro</td>\n",
       "      <td>-24.7911</td>\n",
       "      <td>66.72</td>\n",
       "      <td>90</td>\n",
       "      <td>100</td>\n",
       "      <td>3.98</td>\n",
       "      <td>Southern</td>\n",
       "    </tr>\n",
       "    <tr>\n",
       "      <th>2</th>\n",
       "      <td>severo-kurilsk</td>\n",
       "      <td>50.6789</td>\n",
       "      <td>29.21</td>\n",
       "      <td>95</td>\n",
       "      <td>93</td>\n",
       "      <td>21.21</td>\n",
       "      <td>Northern</td>\n",
       "    </tr>\n",
       "    <tr>\n",
       "      <th>3</th>\n",
       "      <td>port elizabeth</td>\n",
       "      <td>-33.9180</td>\n",
       "      <td>59.00</td>\n",
       "      <td>88</td>\n",
       "      <td>0</td>\n",
       "      <td>4.61</td>\n",
       "      <td>Southern</td>\n",
       "    </tr>\n",
       "    <tr>\n",
       "      <th>4</th>\n",
       "      <td>ahipara</td>\n",
       "      <td>-35.1667</td>\n",
       "      <td>71.47</td>\n",
       "      <td>67</td>\n",
       "      <td>42</td>\n",
       "      <td>11.45</td>\n",
       "      <td>Southern</td>\n",
       "    </tr>\n",
       "    <tr>\n",
       "      <th>...</th>\n",
       "      <td>...</td>\n",
       "      <td>...</td>\n",
       "      <td>...</td>\n",
       "      <td>...</td>\n",
       "      <td>...</td>\n",
       "      <td>...</td>\n",
       "      <td>...</td>\n",
       "    </tr>\n",
       "    <tr>\n",
       "      <th>594</th>\n",
       "      <td>milkovo</td>\n",
       "      <td>54.7167</td>\n",
       "      <td>10.51</td>\n",
       "      <td>91</td>\n",
       "      <td>0</td>\n",
       "      <td>1.57</td>\n",
       "      <td>Northern</td>\n",
       "    </tr>\n",
       "    <tr>\n",
       "      <th>595</th>\n",
       "      <td>tessalit</td>\n",
       "      <td>20.1986</td>\n",
       "      <td>60.98</td>\n",
       "      <td>27</td>\n",
       "      <td>0</td>\n",
       "      <td>6.93</td>\n",
       "      <td>Northern</td>\n",
       "    </tr>\n",
       "    <tr>\n",
       "      <th>596</th>\n",
       "      <td>nueva loja</td>\n",
       "      <td>0.0847</td>\n",
       "      <td>71.55</td>\n",
       "      <td>94</td>\n",
       "      <td>64</td>\n",
       "      <td>2.28</td>\n",
       "      <td>Northern</td>\n",
       "    </tr>\n",
       "    <tr>\n",
       "      <th>597</th>\n",
       "      <td>saint anthony</td>\n",
       "      <td>45.0205</td>\n",
       "      <td>6.62</td>\n",
       "      <td>56</td>\n",
       "      <td>75</td>\n",
       "      <td>2.28</td>\n",
       "      <td>Northern</td>\n",
       "    </tr>\n",
       "    <tr>\n",
       "      <th>598</th>\n",
       "      <td>waslala</td>\n",
       "      <td>13.2333</td>\n",
       "      <td>68.09</td>\n",
       "      <td>92</td>\n",
       "      <td>26</td>\n",
       "      <td>2.51</td>\n",
       "      <td>Northern</td>\n",
       "    </tr>\n",
       "  </tbody>\n",
       "</table>\n",
       "<p>599 rows × 7 columns</p>\n",
       "</div>"
      ],
      "text/plain": [
       "               City  Latitude  Temperature (F)  Humidity (%)  Cloudiness (%)  \\\n",
       "0      buenos aires  -34.6132            76.41            57               0   \n",
       "1            castro  -24.7911            66.72            90             100   \n",
       "2    severo-kurilsk   50.6789            29.21            95              93   \n",
       "3    port elizabeth  -33.9180            59.00            88               0   \n",
       "4           ahipara  -35.1667            71.47            67              42   \n",
       "..              ...       ...              ...           ...             ...   \n",
       "594         milkovo   54.7167            10.51            91               0   \n",
       "595        tessalit   20.1986            60.98            27               0   \n",
       "596      nueva loja    0.0847            71.55            94              64   \n",
       "597   saint anthony   45.0205             6.62            56              75   \n",
       "598         waslala   13.2333            68.09            92              26   \n",
       "\n",
       "     Wind Speed (mph) Hemisphere  \n",
       "0               14.97   Southern  \n",
       "1                3.98   Southern  \n",
       "2               21.21   Northern  \n",
       "3                4.61   Southern  \n",
       "4               11.45   Southern  \n",
       "..                ...        ...  \n",
       "594              1.57   Northern  \n",
       "595              6.93   Northern  \n",
       "596              2.28   Northern  \n",
       "597              2.28   Northern  \n",
       "598              2.51   Northern  \n",
       "\n",
       "[599 rows x 7 columns]"
      ]
     },
     "execution_count": 23,
     "metadata": {},
     "output_type": "execute_result"
    }
   ],
   "source": [
    "#insert new column in the df for hemisphere and insert northern or southern based on the latitude value\n",
    "clean_weather_df[\"Hemisphere\"] = np.where(clean_weather_df[\"Latitude\"] >= 0, \"Northern\", \"Southern\")\n",
    "clean_weather_df"
   ]
  },
  {
   "cell_type": "code",
   "execution_count": 24,
   "metadata": {},
   "outputs": [],
   "source": [
    "northern_df = clean_weather_df.loc[clean_weather_df[\"Hemisphere\"] == \"Northern\"]\n",
    "southern_df = clean_weather_df.loc[clean_weather_df[\"Hemisphere\"] == \"Southern\"]"
   ]
  },
  {
   "cell_type": "code",
   "execution_count": 25,
   "metadata": {},
   "outputs": [
    {
     "data": {
      "text/plain": [
       "['Temperature (F)', 'Humidity (%)', 'Cloudiness (%)', 'Wind Speed (mph)']"
      ]
     },
     "execution_count": 25,
     "metadata": {},
     "output_type": "execute_result"
    }
   ],
   "source": [
    "#get a list of columns in the dataframe so that we can loop through the columns and create plots\n",
    "columns = clean_weather_df.columns.tolist()\n",
    "del columns[0]\n",
    "del columns[0]\n",
    "del columns[4]\n",
    "columns"
   ]
  },
  {
   "cell_type": "code",
   "execution_count": 35,
   "metadata": {},
   "outputs": [
    {
     "data": {
      "image/png": "[encoded data removed]",
      "text/plain": [
       "<Figure size 432x288 with 1 Axes>"
      ]
     },
     "metadata": {
      "needs_background": "light"
     },
     "output_type": "display_data"
    },
    {
     "name": "stdout",
     "output_type": "stream",
     "text": [
      "The line equation for the Northern Hemisphere Temperature (F) vs. Latitude relationship is y = -1.42x + 89.63\n",
      "The r value for the Northern Hemisphere Temperature (F) vs. Latitude relationship is r=-0.87\n",
      "-----------------------------------------------------------------------------------------------\n"
     ]
    },
    {
     "data": {
      "image/png": "[encoded data removed]",
      "text/plain": [
       "<Figure size 432x288 with 1 Axes>"
      ]
     },
     "metadata": {
      "needs_background": "light"
     },
     "output_type": "display_data"
    },
    {
     "name": "stdout",
     "output_type": "stream",
     "text": [
      "The line equation for the Northern Hemisphere Humidity (%) vs. Latitude relationship is y = 0.35x + 60.15\n",
      "The r value for the Northern Hemisphere Humidity (%) vs. Latitude relationship is r=0.34\n",
      "-----------------------------------------------------------------------------------------------\n"
     ]
    },
    {
     "data": {
      "image/png": "[encoded data removed]",
      "text/plain": [
       "<Figure size 432x288 with 1 Axes>"
      ]
     },
     "metadata": {
      "needs_background": "light"
     },
     "output_type": "display_data"
    },
    {
     "name": "stdout",
     "output_type": "stream",
     "text": [
      "The line equation for the Northern Hemisphere Cloudiness (%) vs. Latitude relationship is y = 0.59x + 30.04\n",
      "The r value for the Northern Hemisphere Cloudiness (%) vs. Latitude relationship is r=0.28\n",
      "-----------------------------------------------------------------------------------------------\n"
     ]
    },
    {
     "data": {
      "image/png": "[encoded data removed]",
      "text/plain": [
       "<Figure size 432x288 with 1 Axes>"
      ]
     },
     "metadata": {
      "needs_background": "light"
     },
     "output_type": "display_data"
    },
    {
     "name": "stdout",
     "output_type": "stream",
     "text": [
      "The line equation for the Northern Hemisphere Wind Speed (mph) vs. Latitude relationship is y = -0.0x + 8.43\n",
      "The r value for the Northern Hemisphere Wind Speed (mph) vs. Latitude relationship is r=-0.0\n",
      "-----------------------------------------------------------------------------------------------\n"
     ]
    }
   ],
   "source": [
    "#loop through the columns and retrieve regression values for Northern Hempisphere graphs\n",
    "for column in columns:\n",
    "    (slope, intercept, rvalue, pvalue, stderr) = linregress(northern_df[\"Latitude\"], northern_df[f\"{column}\"])\n",
    "    slope = round(slope, 2)\n",
    "    intercept = round(intercept, 2)\n",
    "    rvalue = round(rvalue, 2)\n",
    "    regress_values = (slope * northern_df[\"Latitude\"]) + intercept\n",
    "    line_eq = f\"y = {slope}x + {intercept}\"\n",
    "    \n",
    "    #plot Northern Hempisphere Temp vs Latitude as well as the regression line and equation\n",
    "    plt.scatter(northern_df[\"Latitude\"], northern_df[f\"{column}\"])\n",
    "    plt.title(f\"{column} vs. Latitude (1/27/2020 - Northern Hemisphere)\", fontweight = \"bold\")\n",
    "    plt.xlabel(\"Latitude\", fontweight = \"bold\")\n",
    "    plt.ylabel(f\"{column}\", fontweight = \"bold\")\n",
    "    plt.plot(northern_df[\"Latitude\"], regress_values, \"r-\")\n",
    "    \n",
    "    #save plots as png's in output_data folder\n",
    "    plt.savefig(f\"../output_data/northern_{column}.png\")\n",
    "    \n",
    "    #display plots below\n",
    "    plt.show()\n",
    "    \n",
    "    #print line equation and r value under the plot\n",
    "    print(f\"The line equation for the Northern Hemisphere {column} vs. Latitude relationship is {line_eq}\")\n",
    "    print(f\"The r value for the Northern Hemisphere {column} vs. Latitude relationship is r={rvalue}\")\n",
    "    print(\"-----------------------------------------------------------------------------------------------\")\n",
    "\n"
   ]
  },
  {
   "cell_type": "markdown",
   "metadata": {},
   "source": [
    "##### Comments on the northern hempisphere plots/regressions\n",
    "\n",
    "1) Temperature vs. Latitude\n",
    "    - The relationship between Temperature and Latitude is very strong, indicated by the -.87 r value in the regression. As expected, the regression line has negative slope, because we would expect temperature to decrease as distance from the equator in the northern direction increases.\n",
    "    \n",
    "2) Humidity vs. Latitude\n",
    "    - The relationship between Humidity and Latitude is weak to moderate, as indicated by the r value of .34. The regression line slope is positive, indicating there is a slight direct relationship between distance from the equator in the northern hemisphere and humidity.\n",
    "    \n",
    "3) Cloudiness vs. Latitude\n",
    "    - The relationship between Cloudiness and Latitude is weak as indicated by the r value of .28. Based on this r value one can conclude that there is no discernible relationship between a city's \"cloudiness\" and its distance from the equator in the northern hemisphere.\n",
    "    \n",
    "4) Wind Speed vs. Latitude\n",
    "    - There is no linear relationship between wind speed and latitude as indicated by the r value of 0. As shown in the plot, the scatter of the points is an indication that wind speed and latitude are not correlated in any manner."
   ]
  },
  {
   "cell_type": "code",
   "execution_count": 34,
   "metadata": {},
   "outputs": [
    {
     "data": {
      "image/png": "[encoded data removed]",
      "text/plain": [
       "<Figure size 432x288 with 1 Axes>"
      ]
     },
     "metadata": {
      "needs_background": "light"
     },
     "output_type": "display_data"
    },
    {
     "name": "stdout",
     "output_type": "stream",
     "text": [
      "The line equation for the Southern Hemisphere Temperature (F) vs. Latitude relationship is y = 0.38x + 80.64\n",
      "The r value for the Southern Hemisphere Temperature (F) vs. Latitude relationship is r=0.5\n",
      "-----------------------------------------------------------------------------------------------\n"
     ]
    },
    {
     "data": {
      "image/png": "[encoded data removed]",
      "text/plain": [
       "<Figure size 432x288 with 1 Axes>"
      ]
     },
     "metadata": {
      "needs_background": "light"
     },
     "output_type": "display_data"
    },
    {
     "name": "stdout",
     "output_type": "stream",
     "text": [
      "The line equation for the Southern Hemisphere Humidity (%) vs. Latitude relationship is y = 0.48x + 85.04\n",
      "The r value for the Southern Hemisphere Humidity (%) vs. Latitude relationship is r=0.37\n",
      "-----------------------------------------------------------------------------------------------\n"
     ]
    },
    {
     "data": {
      "image/png": "[encoded data removed]",
      "text/plain": [
       "<Figure size 432x288 with 1 Axes>"
      ]
     },
     "metadata": {
      "needs_background": "light"
     },
     "output_type": "display_data"
    },
    {
     "name": "stdout",
     "output_type": "stream",
     "text": [
      "The line equation for the Southern Hemisphere Cloudiness (%) vs. Latitude relationship is y = 0.93x + 75.46\n",
      "The r value for the Southern Hemisphere Cloudiness (%) vs. Latitude relationship is r=0.3\n",
      "-----------------------------------------------------------------------------------------------\n"
     ]
    },
    {
     "data": {
      "image/png": "[encoded data removed]",
      "text/plain": [
       "<Figure size 432x288 with 1 Axes>"
      ]
     },
     "metadata": {
      "needs_background": "light"
     },
     "output_type": "display_data"
    },
    {
     "name": "stdout",
     "output_type": "stream",
     "text": [
      "The line equation for the Southern Hemisphere Wind Speed (mph) vs. Latitude relationship is y = -0.11x + 5.77\n",
      "The r value for the Southern Hemisphere Wind Speed (mph) vs. Latitude relationship is r=-0.28\n",
      "-----------------------------------------------------------------------------------------------\n"
     ]
    }
   ],
   "source": [
    "#loop through the columns and retrieve regression values for Southern Hempisphere graphs\n",
    "for column in columns:\n",
    "    (slope, intercept, rvalue, pvalue, stderr) = linregress(southern_df[\"Latitude\"], southern_df[f\"{column}\"])\n",
    "    slope = round(slope, 2)\n",
    "    intercept = round(intercept, 2)\n",
    "    rvalue = round(rvalue, 2)\n",
    "    regress_values = (slope * southern_df[\"Latitude\"]) + intercept\n",
    "    line_eq = f\"y = {slope}x + {intercept}\"\n",
    "    \n",
    "    #plot Southern Hempisphere Temp vs Latitude as well as the regression line and equation\n",
    "    plt.scatter(southern_df[\"Latitude\"], southern_df[f\"{column}\"])\n",
    "    plt.title(f\"{column} vs. Latitude (1/27/2020 - Southern Hemisphere)\", fontweight = \"bold\")\n",
    "    plt.xlabel(\"Latitude\", fontweight = \"bold\")\n",
    "    plt.ylabel(f\"{column}\", fontweight = \"bold\")\n",
    "    plt.plot(southern_df[\"Latitude\"], regress_values, \"r-\")\n",
    "    \n",
    "    #save plots as png's in output_data folder\n",
    "    plt.savefig(f\"../output_data/southern_{column}.png\")\n",
    "    \n",
    "    #display plots below\n",
    "    plt.show()\n",
    "    \n",
    "   \n",
    "    \n",
    "       #print line equation and r value under the plot\n",
    "    print(f\"The line equation for the Southern Hemisphere {column} vs. Latitude relationship is {line_eq}\")\n",
    "    print(f\"The r value for the Southern Hemisphere {column} vs. Latitude relationship is r={rvalue}\")\n",
    "    print(\"-----------------------------------------------------------------------------------------------\")\n"
   ]
  },
  {
   "cell_type": "markdown",
   "metadata": {},
   "source": [
    "#### Comments on the southern hemisphere plots/regressions\n",
    "\n",
    "1) Temperature vs. Latitude\n",
    "    - The relationship between Temperature and Latitude is moderate, indicated by the .5 r value in the regression. As expected, the regression line has positive slope, because we would expect temperature to decrease as distance from the equator decreases (i.e. increases in the negative direction). Note that this relationship is the opposite of the northern hempisphere which is to be expected, as the direction to the equator in each hemisphere is opposite (northern hemisphere positive values, southern hemisphere negative values).\n",
    "    \n",
    "2) Humidity vs. Latitude\n",
    "    - The relationship between Humidity and Latitude is moderate, as indicated by the r value of .37. The regression line slope is positive, indicating there is a slight direct relationship between distance from the equator in the southern hemisphere and humidity. As the northern and southern r values are similar and both positive, one can conclude that the equator does have a discernible impact on amount of humidity (%).\n",
    "    \n",
    "3) Cloudiness vs. Latitude\n",
    "    - The relationship between Cloudiness and Latitude is weak to moderate as indicated by the r value of .3. Based on this r value one can conclude that there is a weak or no discernible relationship between a city's \"cloudiness\" and its distance from the equator in the southern hemisphere.\n",
    "    \n",
    "4) Wind Speed vs. Latitude\n",
    "    - There is a weak linear relationship between wind speed and latitude as indicated by the r value of -.28. Although a weak relationship, the r value could indicate that as a city gets further away from the equator in the southern hemisphere, the windier that city will be."
   ]
  },
  {
   "cell_type": "code",
   "execution_count": null,
   "metadata": {},
   "outputs": [],
   "source": []
  },
  {
   "cell_type": "code",
   "execution_count": null,
   "metadata": {},
   "outputs": [],
   "source": []
  }
 ],
 "metadata": {
  "anaconda-cloud": {},
  "kernel_info": {
   "name": "python3"
  },
  "kernelspec": {
   "display_name": "Python 3",
   "language": "python",
   "name": "python3"
  },
  "language_info": {
   "codemirror_mode": {
    "name": "ipython",
    "version": 3
   },
   "file_extension": ".py",
   "mimetype": "text/x-python",
   "name": "python",
   "nbconvert_exporter": "python",
   "pygments_lexer": "ipython3",
   "version": "3.8.3"
  },
  "latex_envs": {
   "LaTeX_envs_menu_present": true,
   "autoclose": false,
   "autocomplete": true,
   "bibliofile": "biblio.bib",
   "cite_by": "apalike",
   "current_citInitial": 1,
   "eqLabelWithNumbers": true,
   "eqNumInitial": 1,
   "hotkeys": {
    "equation": "Ctrl-E",
    "itemize": "Ctrl-I"
   },
   "labels_anchors": false,
   "latex_user_defs": false,
   "report_style_numbering": false,
   "user_envs_cfg": false
  },
  "nteract": {
   "version": "0.12.3"
  }
 },
 "nbformat": 4,
 "nbformat_minor": 2
}
