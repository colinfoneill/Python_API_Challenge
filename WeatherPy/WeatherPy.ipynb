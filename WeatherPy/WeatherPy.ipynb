{
 "cells": [
  {
   "cell_type": "markdown",
   "metadata": {},
   "source": [
    "# WeatherPy\n",
    "----\n",
    "\n",
    "#### Note\n",
    "* Instructions have been included for each segment. You do not have to follow them exactly, but they are included to help you think through the steps."
   ]
  },
  {
   "cell_type": "markdown",
   "metadata": {},
   "source": [
    "#### 3 Observable Trends from Data\n",
    "1) The 3 scatter plots generated for Temperature vs. Latitude support a strong correlation. Perhaps most convincing is the n-shaped curve when all the data is aggregated together, showing that no matter which hemisphere a city is in, the closer it is to the equator, the warmer the temperature will be. Note that the coefficient of correlation for cities in the Southern Hemisphere is weaker than the correlation for cities in the Northern Hemisphere (-.67 vs. -.86). This indicates that there are other confounding factors that impact temperature aside from a cities latitude.\n",
    "\n",
    "2) There is no correlation between wind speed and latitude no matter which hemisphere the city is in, indicated by the r values of 0 and -.14. Wind speed of a city is influenced/caused by other factors outside of distance from equator.\n",
    "\n",
    "3) While there were weak to moderate relationships shown in the regression between humidity and latitude, it appears that if a city is in the Northern Hemisphere, the closer it is to the equator, the less humid that city will be. This is shown in the aggregated graph with the clump of cities that have the least humidity and are all less than 40 degrees of latitude."
   ]
  },
  {
   "cell_type": "code",
   "execution_count": 1,
   "metadata": {
    "scrolled": true
   },
   "outputs": [],
   "source": [
    "# Dependencies and Setup\n",
    "import matplotlib.pyplot as plt\n",
    "import pandas as pd\n",
    "import numpy as np\n",
    "import requests\n",
    "import time\n",
    "from scipy.stats import linregress\n",
    "\n",
    "# Import API key\n",
    "from api_keys import weather_api_key\n",
    "\n",
    "# Incorporate citipy to determine city based on latitude and longitude\n",
    "from citipy import citipy\n",
    "\n",
    "# Output File (CSV)\n",
    "output_data_file = \"../output_data/cities.csv\"\n",
    "\n",
    "# Range of latitudes and longitudes\n",
    "lat_range = (-90, 90)\n",
    "lng_range = (-180, 180)"
   ]
  },
  {
   "cell_type": "markdown",
   "metadata": {},
   "source": [
    "## Generate Cities List"
   ]
  },
  {
   "cell_type": "code",
   "execution_count": 2,
   "metadata": {},
   "outputs": [],
   "source": [
    "# List for holding lat_lngs and cities\n",
    "lat_lngs = []\n",
    "cities = []\n",
    "\n"
   ]
  },
  {
   "cell_type": "code",
   "execution_count": 3,
   "metadata": {},
   "outputs": [],
   "source": [
    "# Create a set of random lat and lng combinations\n",
    "lats = np.random.uniform(lat_range[0], lat_range[1], size=1500)\n",
    "lngs = np.random.uniform(lng_range[0], lng_range[1], size=1500)\n",
    "lat_lngs = zip(lats, lngs)"
   ]
  },
  {
   "cell_type": "code",
   "execution_count": 4,
   "metadata": {},
   "outputs": [],
   "source": [
    "# Identify nearest city for each lat, lng combination\n",
    "for lat_lng in lat_lngs:\n",
    "    city = citipy.nearest_city(lat_lng[0], lat_lng[1]).city_name\n",
    "    \n",
    "    # If the city is unique, then add it to a our cities list\n",
    "    if city not in cities:\n",
    "        cities.append(city)"
   ]
  },
  {
   "cell_type": "code",
   "execution_count": 5,
   "metadata": {},
   "outputs": [
    {
     "data": {
      "text/plain": [
       "611"
      ]
     },
     "execution_count": 5,
     "metadata": {},
     "output_type": "execute_result"
    }
   ],
   "source": [
    "# Print the city count to confirm sufficient count\n",
    "len(cities)"
   ]
  },
  {
   "cell_type": "code",
   "execution_count": 6,
   "metadata": {},
   "outputs": [
    {
     "name": "stdout",
     "output_type": "stream",
     "text": [
      "['iqaluit', 'kapaa', 'san patricio', 'tumannyy', 'torbay', 'qaanaaq', 'punta arenas', 'albany', 'narsaq', 'barrow', 'thompson', 'rikitea', 'charters towers', 'touros', 'busselton', 'huangpi', 'kuruman', 'nikolskoye', 'sao joao da barra', 'farmington', 'bluff', 'ilulissat', 'samarai', 'ribeira grande', 'buta']\n"
     ]
    }
   ],
   "source": [
    "#get smaller subet of cities for code testing\n",
    "cities_test = []\n",
    "for x in range(25):\n",
    "    cities_test.append(cities[x])\n",
    "    \n",
    "print(cities_test)\n",
    "    "
   ]
  },
  {
   "cell_type": "markdown",
   "metadata": {},
   "source": [
    "# Perform API Calls\n",
    "* Perform a weather check on each city using a series of successive API calls.\n",
    "* Include a print log of each city as it'sbeing processed (with the city number and city name).\n"
   ]
  },
  {
   "cell_type": "code",
   "execution_count": 7,
   "metadata": {
    "scrolled": true
   },
   "outputs": [],
   "source": [
    "#generate base URL\n",
    "base_url = f\"http://api.openweathermap.org/data/2.5/weather?appid={weather_api_key}&units=imperial&q=\""
   ]
  },
  {
   "cell_type": "code",
   "execution_count": 8,
   "metadata": {},
   "outputs": [],
   "source": [
    "#create empty lists for the plot variables\n",
    "successful_cities = []\n",
    "country = []\n",
    "latitude = []\n",
    "longitude = []\n",
    "temperature = []\n",
    "humidity = []\n",
    "cloudiness = []\n",
    "wind_speed = []\n"
   ]
  },
  {
   "cell_type": "code",
   "execution_count": 9,
   "metadata": {},
   "outputs": [
    {
     "name": "stdout",
     "output_type": "stream",
     "text": [
      "1) iqaluit processed successfully\n",
      "2) kapaa processed successfully\n",
      "3) san patricio processed successfully\n",
      "4) tumannyy not found\n",
      "5) torbay processed successfully\n",
      "6) qaanaaq processed successfully\n",
      "7) punta arenas processed successfully\n",
      "8) albany processed successfully\n",
      "9) narsaq processed successfully\n",
      "10) barrow processed successfully\n",
      "11) thompson processed successfully\n",
      "12) rikitea processed successfully\n",
      "13) charters towers processed successfully\n",
      "14) touros processed successfully\n",
      "15) busselton processed successfully\n",
      "16) huangpi processed successfully\n",
      "17) kuruman processed successfully\n",
      "18) nikolskoye processed successfully\n",
      "19) sao joao da barra processed successfully\n",
      "20) farmington processed successfully\n",
      "21) bluff processed successfully\n",
      "22) ilulissat processed successfully\n",
      "23) samarai processed successfully\n",
      "24) ribeira grande processed successfully\n",
      "25) buta processed successfully\n",
      "26) hobart processed successfully\n",
      "27) te anau processed successfully\n",
      "28) hermanus processed successfully\n",
      "29) georgetown processed successfully\n",
      "30) jamestown processed successfully\n",
      "31) hanyang processed successfully\n",
      "32) visby processed successfully\n",
      "33) grand river south east not found\n",
      "34) warqla not found\n",
      "35) jiangyan processed successfully\n",
      "36) upernavik processed successfully\n",
      "37) christchurch processed successfully\n",
      "38) auki processed successfully\n",
      "39) yermakovskoye processed successfully\n",
      "40) yellowknife processed successfully\n",
      "41) mar del plata processed successfully\n",
      "42) samusu not found\n",
      "43) puerto ayora processed successfully\n",
      "44) namibe processed successfully\n",
      "45) winnemucca processed successfully\n",
      "46) vaini processed successfully\n",
      "47) dikson processed successfully\n",
      "48) rocha processed successfully\n",
      "49) xinxiang processed successfully\n",
      "50) eyl processed successfully\n",
      "51) maebaru processed successfully\n",
      "52) shitanjing processed successfully\n",
      "53) naftah not found\n",
      "54) severo-kurilsk processed successfully\n",
      "55) bur gabo not found\n",
      "56) aberystwyth processed successfully\n",
      "57) bilibino processed successfully\n",
      "58) geraldton processed successfully\n",
      "59) ayan processed successfully\n",
      "60) guicheng not found\n",
      "61) swift current processed successfully\n",
      "62) yarmouth processed successfully\n",
      "63) tasiilaq processed successfully\n",
      "64) arraial do cabo processed successfully\n",
      "65) harper processed successfully\n",
      "66) iquitos processed successfully\n",
      "67) castro processed successfully\n",
      "68) hithadhoo processed successfully\n",
      "69) seydi processed successfully\n",
      "70) burkhala not found\n",
      "71) farafangana processed successfully\n",
      "72) loutros processed successfully\n",
      "73) cape town processed successfully\n",
      "74) port hardy processed successfully\n",
      "75) taolanaro not found\n",
      "76) belushya guba not found\n",
      "77) saint george processed successfully\n",
      "78) alexandria processed successfully\n",
      "79) airai processed successfully\n",
      "80) tsihombe not found\n",
      "81) hilo processed successfully\n",
      "82) nchelenge processed successfully\n",
      "83) ushuaia processed successfully\n",
      "84) kloulklubed processed successfully\n",
      "85) moussoro processed successfully\n",
      "86) atuona processed successfully\n",
      "87) porto novo processed successfully\n",
      "88) moranbah processed successfully\n",
      "89) makakilo city processed successfully\n",
      "90) chuy processed successfully\n",
      "91) vizianagaram processed successfully\n",
      "92) dingle processed successfully\n",
      "93) mareeba processed successfully\n",
      "94) mitu processed successfully\n",
      "95) nara processed successfully\n",
      "96) port alfred processed successfully\n",
      "97) banes processed successfully\n",
      "98) ponta do sol processed successfully\n",
      "99) kendal processed successfully\n",
      "100) skibotn processed successfully\n",
      "101) caicedo processed successfully\n",
      "102) balashov processed successfully\n",
      "103) khatanga processed successfully\n",
      "104) bredasdorp processed successfully\n",
      "105) caravelas processed successfully\n",
      "106) asfi processed successfully\n",
      "107) port shepstone processed successfully\n",
      "108) iralaya processed successfully\n",
      "109) mergui not found\n",
      "110) kendari processed successfully\n",
      "111) talnakh processed successfully\n",
      "112) abu samrah processed successfully\n",
      "113) cairns processed successfully\n",
      "114) jonkoping processed successfully\n",
      "115) mataura processed successfully\n",
      "116) souillac processed successfully\n",
      "117) manado processed successfully\n",
      "118) am timan processed successfully\n",
      "119) bethel processed successfully\n",
      "120) barawe not found\n",
      "121) vilhena processed successfully\n",
      "122) mys shmidta not found\n",
      "123) tuburan processed successfully\n",
      "124) pau processed successfully\n",
      "125) tiksi processed successfully\n",
      "126) parkes processed successfully\n",
      "127) tuktoyaktuk processed successfully\n",
      "128) krivopolyanye not found\n",
      "129) victoria processed successfully\n",
      "130) tidore not found\n",
      "131) saint-philippe processed successfully\n",
      "132) necochea processed successfully\n",
      "133) bashtanka processed successfully\n",
      "134) adrar processed successfully\n",
      "135) muravlenko processed successfully\n",
      "136) esperance processed successfully\n",
      "137) new norfolk processed successfully\n",
      "138) hofn processed successfully\n",
      "139) leningradskiy processed successfully\n",
      "140) husavik processed successfully\n",
      "141) gisborne processed successfully\n",
      "142) comodoro rivadavia processed successfully\n",
      "143) yuyao processed successfully\n",
      "144) miki processed successfully\n",
      "145) chokurdakh processed successfully\n",
      "146) umzimvubu not found\n",
      "147) abilene processed successfully\n",
      "148) avarua processed successfully\n",
      "149) attawapiskat not found\n",
      "150) urubicha processed successfully\n",
      "151) kruisfontein processed successfully\n",
      "152) villa carlos paz processed successfully\n",
      "153) kalaleh processed successfully\n",
      "154) george town processed successfully\n",
      "155) nesna processed successfully\n",
      "156) naryan-mar processed successfully\n",
      "157) viligili not found\n",
      "158) butaritari processed successfully\n",
      "159) mount isa processed successfully\n",
      "160) teguldet processed successfully\n",
      "161) ntchisi processed successfully\n",
      "162) fort nelson processed successfully\n",
      "163) mahebourg processed successfully\n",
      "164) ostrovnoy processed successfully\n",
      "165) cabo san lucas processed successfully\n",
      "166) labutta not found\n",
      "167) lorengau processed successfully\n",
      "168) rio grande processed successfully\n",
      "169) namatanai processed successfully\n",
      "170) puerto escondido processed successfully\n",
      "171) cermei processed successfully\n",
      "172) lebu processed successfully\n",
      "173) jogindarnagar processed successfully\n",
      "174) kavieng processed successfully\n",
      "175) lompoc processed successfully\n",
      "176) naze processed successfully\n",
      "177) wanning processed successfully\n",
      "178) fukue processed successfully\n",
      "179) hasaki processed successfully\n",
      "180) santa rosalia processed successfully\n",
      "181) flin flon processed successfully\n",
      "182) luchow processed successfully\n",
      "183) tailai processed successfully\n",
      "184) amderma not found\n",
      "185) farah processed successfully\n",
      "186) kodiak processed successfully\n",
      "187) batticaloa processed successfully\n",
      "188) avera processed successfully\n",
      "189) kajaani processed successfully\n",
      "190) illoqqortoormiut not found\n",
      "191) cherskiy processed successfully\n",
      "192) raudeberg processed successfully\n",
      "193) mattru processed successfully\n",
      "194) kalmunai processed successfully\n",
      "195) vaitape processed successfully\n",
      "196) eureka processed successfully\n",
      "197) tuatapere processed successfully\n",
      "198) qaqortoq processed successfully\n",
      "199) ixtapa processed successfully\n",
      "200) shahabad processed successfully\n",
      "201) pevek processed successfully\n",
      "202) vestmannaeyjar processed successfully\n",
      "203) quelimane processed successfully\n",
      "204) kerema processed successfully\n",
      "205) guangshui processed successfully\n",
      "206) kokopo processed successfully\n",
      "207) kaeo processed successfully\n",
      "208) eagle pass processed successfully\n",
      "209) vostok processed successfully\n",
      "210) saskylakh processed successfully\n",
      "211) brigham city processed successfully\n",
      "212) malwan not found\n",
      "213) gamboma processed successfully\n",
      "214) sorong processed successfully\n",
      "215) mackay processed successfully\n",
      "216) saleaula not found\n",
      "217) margate processed successfully\n",
      "218) igarka processed successfully\n",
      "219) lamar processed successfully\n",
      "220) rivera processed successfully\n",
      "221) torit processed successfully\n",
      "222) bandarbeyla processed successfully\n",
      "223) qasigiannguit processed successfully\n",
      "224) lincoln processed successfully\n",
      "225) jiangyou processed successfully\n",
      "226) bargal not found\n",
      "227) troitskoye processed successfully\n",
      "228) sentyabrskiy not found\n",
      "229) faanui processed successfully\n",
      "230) nizhneyansk not found\n",
      "231) rauma processed successfully\n",
      "232) vila velha processed successfully\n",
      "233) port elizabeth processed successfully\n",
      "234) milledgeville processed successfully\n"
     ]
    },
    {
     "name": "stdout",
     "output_type": "stream",
     "text": [
      "235) pangnirtung processed successfully\n",
      "236) mitsamiouli processed successfully\n",
      "237) barinas processed successfully\n",
      "238) kahului processed successfully\n",
      "239) gimli processed successfully\n",
      "240) carnarvon processed successfully\n",
      "241) yulara processed successfully\n",
      "242) mocambique not found\n",
      "243) balakhninskiy processed successfully\n",
      "244) longyearbyen processed successfully\n",
      "245) sao filipe processed successfully\n",
      "246) salalah processed successfully\n",
      "247) abdanan processed successfully\n",
      "248) santa rita processed successfully\n",
      "249) saint-georges processed successfully\n",
      "250) wilmington processed successfully\n",
      "251) najran processed successfully\n",
      "252) lavrentiya processed successfully\n",
      "253) booue processed successfully\n",
      "254) skalistyy not found\n",
      "255) sofiysk not found\n",
      "256) jijiga processed successfully\n",
      "257) santa catarina de tepehuanes processed successfully\n",
      "258) shymkent processed successfully\n",
      "259) sibolga processed successfully\n",
      "260) broken hill processed successfully\n",
      "261) santa maria del oro processed successfully\n",
      "262) beidao processed successfully\n",
      "263) la ronge processed successfully\n",
      "264) alice springs processed successfully\n",
      "265) ambilobe processed successfully\n",
      "266) kuche not found\n",
      "267) coahuayana processed successfully\n",
      "268) solnechnyy processed successfully\n",
      "269) tulsipur processed successfully\n",
      "270) madera processed successfully\n",
      "271) pires do rio processed successfully\n",
      "272) beringovskiy processed successfully\n",
      "273) nanortalik processed successfully\n",
      "274) ilhabela processed successfully\n",
      "275) bengkulu processed successfully\n",
      "276) mrirt not found\n",
      "277) port hedland processed successfully\n",
      "278) andros town processed successfully\n",
      "279) ibotirama processed successfully\n",
      "280) allapalli processed successfully\n",
      "281) hovd processed successfully\n",
      "282) cockburn town processed successfully\n",
      "283) norman wells processed successfully\n",
      "284) aklavik processed successfully\n",
      "285) okandja not found\n",
      "286) raychikhinsk processed successfully\n",
      "287) barentsburg not found\n",
      "288) krasnoarmeysk processed successfully\n",
      "289) tomatlan processed successfully\n",
      "290) walvis bay processed successfully\n",
      "291) mahanoro processed successfully\n",
      "292) honiara processed successfully\n",
      "293) waddan processed successfully\n",
      "294) kiunga processed successfully\n",
      "295) vallenar processed successfully\n",
      "296) lumphat processed successfully\n",
      "297) luderitz processed successfully\n",
      "298) kamskoye ustye processed successfully\n",
      "299) banjar processed successfully\n",
      "300) olavarria processed successfully\n",
      "301) fuyang processed successfully\n",
      "302) innisfail processed successfully\n",
      "303) ust-tsilma processed successfully\n",
      "304) limbang processed successfully\n",
      "305) niono processed successfully\n",
      "306) pelym processed successfully\n",
      "307) matagami processed successfully\n",
      "308) saint-pierre processed successfully\n",
      "309) khani processed successfully\n",
      "310) taoudenni processed successfully\n",
      "311) kaitangata processed successfully\n",
      "312) pauini processed successfully\n",
      "313) vila franca do campo processed successfully\n",
      "314) east london processed successfully\n",
      "315) hambantota processed successfully\n",
      "316) angoche processed successfully\n",
      "317) ishigaki processed successfully\n",
      "318) fortuna processed successfully\n",
      "319) mongo processed successfully\n",
      "320) karangasem processed successfully\n",
      "321) dali processed successfully\n",
      "322) gilbues processed successfully\n",
      "323) miranda processed successfully\n",
      "324) marquard processed successfully\n",
      "325) seoul processed successfully\n",
      "326) manavalakurichi processed successfully\n",
      "327) uinskoye processed successfully\n",
      "328) tilichiki processed successfully\n",
      "329) nichinan processed successfully\n",
      "330) chopinzinho processed successfully\n",
      "331) vanimo processed successfully\n",
      "332) srednekolymsk processed successfully\n",
      "333) lata processed successfully\n",
      "334) bellinzona processed successfully\n",
      "335) salisbury processed successfully\n",
      "336) birao processed successfully\n",
      "337) zachagansk not found\n",
      "338) college processed successfully\n",
      "339) santee processed successfully\n",
      "340) baykit processed successfully\n",
      "341) katsuura processed successfully\n",
      "342) copala processed successfully\n",
      "343) mushie processed successfully\n",
      "344) tapaua not found\n",
      "345) gazi processed successfully\n",
      "346) pacifica processed successfully\n",
      "347) paradwip not found\n",
      "348) prince rupert processed successfully\n",
      "349) kibala processed successfully\n",
      "350) nakonde processed successfully\n",
      "351) tyup processed successfully\n",
      "352) akcakoca processed successfully\n",
      "353) sergeyevka processed successfully\n",
      "354) vestmanna processed successfully\n",
      "355) bhola processed successfully\n",
      "356) rawson processed successfully\n",
      "357) semnan processed successfully\n",
      "358) zlatarica not found\n",
      "359) megion processed successfully\n",
      "360) cidreira processed successfully\n",
      "361) tautira processed successfully\n",
      "362) alofi processed successfully\n",
      "363) oxapampa processed successfully\n",
      "364) sorland processed successfully\n",
      "365) aktash processed successfully\n",
      "366) seaforth processed successfully\n",
      "367) ravar processed successfully\n",
      "368) oktyabrskiy processed successfully\n",
      "369) araouane processed successfully\n",
      "370) salta processed successfully\n",
      "371) palmer processed successfully\n",
      "372) huazolotitlan not found\n",
      "373) plainview processed successfully\n",
      "374) koszalin processed successfully\n",
      "375) aripuana processed successfully\n",
      "376) pizhma processed successfully\n",
      "377) longlac not found\n",
      "378) gushikawa processed successfully\n",
      "379) saint-augustin processed successfully\n",
      "380) louisbourg not found\n",
      "381) ofaqim processed successfully\n",
      "382) woodway processed successfully\n",
      "383) vardo processed successfully\n",
      "384) khilok processed successfully\n",
      "385) odesskoye processed successfully\n",
      "386) pangkalanbuun processed successfully\n",
      "387) ayagoz processed successfully\n",
      "388) santa isabel do rio negro processed successfully\n",
      "389) mana processed successfully\n",
      "390) nishihara processed successfully\n",
      "391) melilla processed successfully\n",
      "392) ancud processed successfully\n",
      "393) bathsheba processed successfully\n",
      "394) paharpur processed successfully\n",
      "395) mae sot processed successfully\n",
      "396) ossora processed successfully\n",
      "397) saint anthony processed successfully\n",
      "398) neryungri processed successfully\n",
      "399) ndele processed successfully\n",
      "400) faya processed successfully\n",
      "401) portland processed successfully\n",
      "402) lekoni processed successfully\n",
      "403) chiredzi processed successfully\n",
      "404) ambon processed successfully\n",
      "405) egvekinot processed successfully\n",
      "406) vidim processed successfully\n",
      "407) bud processed successfully\n",
      "408) palabuhanratu not found\n",
      "409) padang processed successfully\n",
      "410) cortez processed successfully\n",
      "411) karabuk processed successfully\n",
      "412) kanalia processed successfully\n",
      "413) great falls processed successfully\n",
      "414) nageshwari processed successfully\n",
      "415) nemuro processed successfully\n",
      "416) ust-nera processed successfully\n",
      "417) humaita processed successfully\n",
      "418) tranas processed successfully\n",
      "419) praia da vitoria processed successfully\n",
      "420) isabela processed successfully\n",
      "421) puerto narino processed successfully\n",
      "422) warren processed successfully\n",
      "423) nagato processed successfully\n",
      "424) deltona processed successfully\n",
      "425) suratgarh processed successfully\n",
      "426) kungurtug processed successfully\n",
      "427) ewo processed successfully\n",
      "428) andenes processed successfully\n",
      "429) passy processed successfully\n",
      "430) laguna processed successfully\n",
      "431) wolmaranstad not found\n",
      "432) poum processed successfully\n",
      "433) hammerfest processed successfully\n",
      "434) northam processed successfully\n",
      "435) grindavik processed successfully\n",
      "436) isangel processed successfully\n",
      "437) manjacaze processed successfully\n",
      "438) tarauaca processed successfully\n",
      "439) demyanovo processed successfully\n",
      "440) manzil tamim not found\n",
      "441) puerto colombia processed successfully\n",
      "442) pflugerville processed successfully\n",
      "443) clyde river processed successfully\n",
      "444) bambanglipuro processed successfully\n",
      "445) arrifes processed successfully\n",
      "446) cabra processed successfully\n",
      "447) bambous virieux processed successfully\n",
      "448) moba processed successfully\n",
      "449) provideniya processed successfully\n",
      "450) belmonte processed successfully\n",
      "451) zyryanka processed successfully\n",
      "452) chivilcoy processed successfully\n",
      "453) vrangel processed successfully\n",
      "454) thiers processed successfully\n",
      "455) shadegan processed successfully\n",
      "456) oxford processed successfully\n",
      "457) kattivakkam processed successfully\n",
      "458) coos bay processed successfully\n",
      "459) karmana not found\n",
      "460) pareora processed successfully\n"
     ]
    },
    {
     "name": "stdout",
     "output_type": "stream",
     "text": [
      "461) assiniboia processed successfully\n",
      "462) murray bridge processed successfully\n",
      "463) swellendam processed successfully\n",
      "464) zhezkazgan processed successfully\n",
      "465) codrington processed successfully\n",
      "466) miles city processed successfully\n",
      "467) kuito processed successfully\n",
      "468) nguiu not found\n",
      "469) nador processed successfully\n",
      "470) nevesinje processed successfully\n",
      "471) luanda processed successfully\n",
      "472) maldonado processed successfully\n",
      "473) zvishavane processed successfully\n",
      "474) buin processed successfully\n",
      "475) pacific grove processed successfully\n",
      "476) yar-sale processed successfully\n",
      "477) tubruq not found\n",
      "478) whitehorse processed successfully\n",
      "479) port macquarie processed successfully\n",
      "480) burnie processed successfully\n",
      "481) chapais processed successfully\n",
      "482) ponta delgada processed successfully\n",
      "483) gelibolu processed successfully\n",
      "484) flinders processed successfully\n",
      "485) maraba processed successfully\n",
      "486) cabo rojo processed successfully\n",
      "487) tessalit processed successfully\n",
      "488) ahipara processed successfully\n",
      "489) berlevag processed successfully\n",
      "490) lerwick processed successfully\n",
      "491) gat processed successfully\n",
      "492) motygino processed successfully\n",
      "493) eydhafushi processed successfully\n",
      "494) arlit processed successfully\n",
      "495) thunder bay processed successfully\n",
      "496) kathmandu processed successfully\n",
      "497) benjamin constant processed successfully\n",
      "498) katete processed successfully\n",
      "499) kuusamo processed successfully\n",
      "500) partizanskoye processed successfully\n",
      "501) camana processed successfully\n",
      "502) moindou processed successfully\n",
      "503) beloha processed successfully\n",
      "504) dunedin processed successfully\n",
      "505) herat processed successfully\n",
      "506) sitka processed successfully\n",
      "507) puerto lempira processed successfully\n",
      "508) kaseda processed successfully\n",
      "509) mutsamudu not found\n",
      "510) pierre processed successfully\n",
      "511) yeppoon processed successfully\n",
      "512) half moon bay processed successfully\n",
      "513) constitucion processed successfully\n",
      "514) klaksvik processed successfully\n",
      "515) quatre cocos processed successfully\n",
      "516) hue processed successfully\n",
      "517) fairbanks processed successfully\n",
      "518) maarianhamina processed successfully\n",
      "519) villarrica processed successfully\n",
      "520) rolim de moura not found\n",
      "521) guerrero negro processed successfully\n",
      "522) gazli processed successfully\n",
      "523) camalu processed successfully\n",
      "524) jacareacanga processed successfully\n",
      "525) kamenka processed successfully\n",
      "526) abadan processed successfully\n",
      "527) saint-louis processed successfully\n",
      "528) lodja processed successfully\n",
      "529) puerto carreno processed successfully\n",
      "530) lithakia processed successfully\n",
      "531) dakoro processed successfully\n",
      "532) port-cartier processed successfully\n",
      "533) komsomolskiy processed successfully\n",
      "534) tarudant not found\n",
      "535) general roca processed successfully\n",
      "536) meridian processed successfully\n",
      "537) doba processed successfully\n",
      "538) kroya processed successfully\n",
      "539) sayyan processed successfully\n",
      "540) mfou processed successfully\n",
      "541) ardesen processed successfully\n",
      "542) celestun processed successfully\n",
      "543) henties bay processed successfully\n",
      "544) baie-comeau processed successfully\n",
      "545) kaitong processed successfully\n",
      "546) bloemfontein processed successfully\n",
      "547) anadyr processed successfully\n",
      "548) sorvag not found\n",
      "549) singaraja processed successfully\n",
      "550) brae processed successfully\n",
      "551) vana-voidu not found\n",
      "552) gurmatkal processed successfully\n",
      "553) tynda processed successfully\n",
      "554) broome processed successfully\n",
      "555) ostersund processed successfully\n",
      "556) mecca processed successfully\n",
      "557) lahaina processed successfully\n",
      "558) playas processed successfully\n",
      "559) hendijan not found\n",
      "560) tabas processed successfully\n",
      "561) daru processed successfully\n",
      "562) acapulco processed successfully\n",
      "563) zhangye processed successfully\n",
      "564) hurricane processed successfully\n",
      "565) talcahuano processed successfully\n",
      "566) dori processed successfully\n",
      "567) aswan processed successfully\n",
      "568) peniche processed successfully\n",
      "569) mezhdurechensk processed successfully\n",
      "570) jilemnice processed successfully\n",
      "571) marzuq processed successfully\n",
      "572) katherine processed successfully\n",
      "573) mayo processed successfully\n",
      "574) mao processed successfully\n",
      "575) sampit processed successfully\n",
      "576) cuajinicuilapa processed successfully\n",
      "577) khandyga processed successfully\n",
      "578) turan processed successfully\n",
      "579) belyy yar processed successfully\n",
      "580) tanjong karang not found\n",
      "581) balud processed successfully\n",
      "582) virginia beach processed successfully\n",
      "583) rochegda processed successfully\n",
      "584) iskateley processed successfully\n",
      "585) san buenaventura processed successfully\n",
      "586) poso processed successfully\n",
      "587) marcona not found\n",
      "588) acarau processed successfully\n",
      "589) swidnik processed successfully\n",
      "590) lubango processed successfully\n",
      "591) berezna processed successfully\n",
      "592) lokomotivnyy processed successfully\n",
      "593) cochrane processed successfully\n",
      "594) hay river processed successfully\n",
      "595) clarence town processed successfully\n",
      "596) labuhan processed successfully\n",
      "597) burica not found\n",
      "598) hami processed successfully\n",
      "599) kidal processed successfully\n",
      "600) shangrao processed successfully\n",
      "601) tirodi processed successfully\n",
      "602) porto walter processed successfully\n",
      "603) alto araguaia processed successfully\n",
      "604) mezen processed successfully\n",
      "605) tlahualilo not found\n",
      "606) minnehaha processed successfully\n",
      "607) alta floresta processed successfully\n",
      "608) colares processed successfully\n",
      "609) chapleau processed successfully\n",
      "610) hirara processed successfully\n",
      "611) timra processed successfully\n"
     ]
    }
   ],
   "source": [
    "# loop through each city in cities and get the json response (include print log as cities are being processed)\n",
    "for index, city in enumerate(cities):\n",
    "    \n",
    "    try:\n",
    "        query_url = f\"{base_url}{city}\"\n",
    "        response = requests.get(query_url)\n",
    "        json = response.json()\n",
    "\n",
    "\n",
    "    #as you loop through, append data to the lists for plot variables\n",
    "        latitude.append(json[\"coord\"][\"lat\"])\n",
    "        longitude.append(json[\"coord\"][\"lon\"])\n",
    "        temperature.append(json[\"main\"][\"temp\"])\n",
    "        humidity.append(json[\"main\"][\"humidity\"])\n",
    "        cloudiness.append(json[\"clouds\"][\"all\"])\n",
    "        wind_speed.append(json[\"wind\"][\"speed\"])\n",
    "        country.append(json[\"sys\"][\"country\"])\n",
    "        \n",
    "        #increase the index by 1 so that we do not print a 0'th indexed number\n",
    "        index += 1\n",
    "        \n",
    "        #print log as cities are being processed\n",
    "        print(f\"{index}) {city} processed successfully\")\n",
    "        \n",
    "        #add city to list of successful cities\n",
    "        successful_cities.append(city)\n",
    "        \n",
    "    \n",
    "    #print cities that are not in the API database\n",
    "    except:\n",
    "        index += 1\n",
    "        print(f\"{index}) {city} not found\")\n",
    "    \n"
   ]
  },
  {
   "cell_type": "markdown",
   "metadata": {},
   "source": [
    "### Convert Raw Data to DataFrame\n",
    "* Export the city data into a .csv.\n",
    "* Display the DataFrame"
   ]
  },
  {
   "cell_type": "code",
   "execution_count": 10,
   "metadata": {},
   "outputs": [
    {
     "data": {
      "text/html": [
       "<div>\n",
       "<style scoped>\n",
       "    .dataframe tbody tr th:only-of-type {\n",
       "        vertical-align: middle;\n",
       "    }\n",
       "\n",
       "    .dataframe tbody tr th {\n",
       "        vertical-align: top;\n",
       "    }\n",
       "\n",
       "    .dataframe thead th {\n",
       "        text-align: right;\n",
       "    }\n",
       "</style>\n",
       "<table border=\"1\" class=\"dataframe\">\n",
       "  <thead>\n",
       "    <tr style=\"text-align: right;\">\n",
       "      <th></th>\n",
       "      <th>City</th>\n",
       "      <th>Country</th>\n",
       "      <th>Longitude</th>\n",
       "      <th>Latitude</th>\n",
       "      <th>Temperature (F)</th>\n",
       "      <th>Humidity (%)</th>\n",
       "      <th>Cloudiness (%)</th>\n",
       "      <th>Wind Speed (mph)</th>\n",
       "    </tr>\n",
       "  </thead>\n",
       "  <tbody>\n",
       "    <tr>\n",
       "      <th>0</th>\n",
       "      <td>iqaluit</td>\n",
       "      <td>CA</td>\n",
       "      <td>-68.5145</td>\n",
       "      <td>63.7506</td>\n",
       "      <td>-13.00</td>\n",
       "      <td>70</td>\n",
       "      <td>1</td>\n",
       "      <td>28.77</td>\n",
       "    </tr>\n",
       "    <tr>\n",
       "      <th>1</th>\n",
       "      <td>kapaa</td>\n",
       "      <td>US</td>\n",
       "      <td>-159.3190</td>\n",
       "      <td>22.0752</td>\n",
       "      <td>72.05</td>\n",
       "      <td>73</td>\n",
       "      <td>20</td>\n",
       "      <td>18.41</td>\n",
       "    </tr>\n",
       "    <tr>\n",
       "      <th>2</th>\n",
       "      <td>san patricio</td>\n",
       "      <td>US</td>\n",
       "      <td>-97.5169</td>\n",
       "      <td>28.0170</td>\n",
       "      <td>50.74</td>\n",
       "      <td>93</td>\n",
       "      <td>1</td>\n",
       "      <td>3.44</td>\n",
       "    </tr>\n",
       "    <tr>\n",
       "      <th>3</th>\n",
       "      <td>torbay</td>\n",
       "      <td>CA</td>\n",
       "      <td>-52.7314</td>\n",
       "      <td>47.6666</td>\n",
       "      <td>25.90</td>\n",
       "      <td>80</td>\n",
       "      <td>90</td>\n",
       "      <td>4.61</td>\n",
       "    </tr>\n",
       "    <tr>\n",
       "      <th>4</th>\n",
       "      <td>qaanaaq</td>\n",
       "      <td>GL</td>\n",
       "      <td>-69.3632</td>\n",
       "      <td>77.4840</td>\n",
       "      <td>-13.86</td>\n",
       "      <td>59</td>\n",
       "      <td>0</td>\n",
       "      <td>5.53</td>\n",
       "    </tr>\n",
       "  </tbody>\n",
       "</table>\n",
       "</div>"
      ],
      "text/plain": [
       "           City Country  Longitude  Latitude  Temperature (F)  Humidity (%)  \\\n",
       "0       iqaluit      CA   -68.5145   63.7506           -13.00            70   \n",
       "1         kapaa      US  -159.3190   22.0752            72.05            73   \n",
       "2  san patricio      US   -97.5169   28.0170            50.74            93   \n",
       "3        torbay      CA   -52.7314   47.6666            25.90            80   \n",
       "4       qaanaaq      GL   -69.3632   77.4840           -13.86            59   \n",
       "\n",
       "   Cloudiness (%)  Wind Speed (mph)  \n",
       "0               1             28.77  \n",
       "1              20             18.41  \n",
       "2               1              3.44  \n",
       "3              90              4.61  \n",
       "4               0              5.53  "
      ]
     },
     "execution_count": 10,
     "metadata": {},
     "output_type": "execute_result"
    }
   ],
   "source": [
    "#create dataframe out of weather data collected\n",
    "weather_df = pd.DataFrame({\"City\": successful_cities, \"Country\": country, \"Longitude\":longitude, \"Latitude\": latitude, \"Temperature (F)\": temperature,\n",
    "                           \"Humidity (%)\": humidity, \"Cloudiness (%)\": cloudiness, \"Wind Speed (mph)\": wind_speed})\n",
    "\n",
    "weather_df.head()"
   ]
  },
  {
   "cell_type": "code",
   "execution_count": 11,
   "metadata": {},
   "outputs": [],
   "source": [
    "#export the data into a csv\n",
    "csv_path = \"../output_data/weather.csv\"\n",
    "weather_csv = weather_df.to_csv(csv_path, index=False)"
   ]
  },
  {
   "cell_type": "markdown",
   "metadata": {},
   "source": [
    "## Inspect the data and remove the cities where the humidity > 100%.\n",
    "----\n",
    "Skip this step if there are no cities that have humidity > 100%. "
   ]
  },
  {
   "cell_type": "code",
   "execution_count": 12,
   "metadata": {},
   "outputs": [
    {
     "data": {
      "text/plain": [
       "[]"
      ]
     },
     "execution_count": 12,
     "metadata": {},
     "output_type": "execute_result"
    }
   ],
   "source": [
    "#  Get the indices of cities that have humidity over 100%.\n",
    "humid_cities = weather_df.loc[weather_df[\"Humidity (%)\"] > 100].index.tolist()\n",
    "humid_cities\n"
   ]
  },
  {
   "cell_type": "code",
   "execution_count": 13,
   "metadata": {},
   "outputs": [
    {
     "data": {
      "text/html": [
       "<div>\n",
       "<style scoped>\n",
       "    .dataframe tbody tr th:only-of-type {\n",
       "        vertical-align: middle;\n",
       "    }\n",
       "\n",
       "    .dataframe tbody tr th {\n",
       "        vertical-align: top;\n",
       "    }\n",
       "\n",
       "    .dataframe thead th {\n",
       "        text-align: right;\n",
       "    }\n",
       "</style>\n",
       "<table border=\"1\" class=\"dataframe\">\n",
       "  <thead>\n",
       "    <tr style=\"text-align: right;\">\n",
       "      <th></th>\n",
       "      <th>City</th>\n",
       "      <th>Country</th>\n",
       "      <th>Longitude</th>\n",
       "      <th>Latitude</th>\n",
       "      <th>Temperature (F)</th>\n",
       "      <th>Humidity (%)</th>\n",
       "      <th>Cloudiness (%)</th>\n",
       "      <th>Wind Speed (mph)</th>\n",
       "    </tr>\n",
       "  </thead>\n",
       "  <tbody>\n",
       "    <tr>\n",
       "      <th>0</th>\n",
       "      <td>iqaluit</td>\n",
       "      <td>CA</td>\n",
       "      <td>-68.5145</td>\n",
       "      <td>63.7506</td>\n",
       "      <td>-13.00</td>\n",
       "      <td>70</td>\n",
       "      <td>1</td>\n",
       "      <td>28.77</td>\n",
       "    </tr>\n",
       "    <tr>\n",
       "      <th>1</th>\n",
       "      <td>kapaa</td>\n",
       "      <td>US</td>\n",
       "      <td>-159.3190</td>\n",
       "      <td>22.0752</td>\n",
       "      <td>72.05</td>\n",
       "      <td>73</td>\n",
       "      <td>20</td>\n",
       "      <td>18.41</td>\n",
       "    </tr>\n",
       "    <tr>\n",
       "      <th>2</th>\n",
       "      <td>san patricio</td>\n",
       "      <td>US</td>\n",
       "      <td>-97.5169</td>\n",
       "      <td>28.0170</td>\n",
       "      <td>50.74</td>\n",
       "      <td>93</td>\n",
       "      <td>1</td>\n",
       "      <td>3.44</td>\n",
       "    </tr>\n",
       "    <tr>\n",
       "      <th>3</th>\n",
       "      <td>torbay</td>\n",
       "      <td>CA</td>\n",
       "      <td>-52.7314</td>\n",
       "      <td>47.6666</td>\n",
       "      <td>25.90</td>\n",
       "      <td>80</td>\n",
       "      <td>90</td>\n",
       "      <td>4.61</td>\n",
       "    </tr>\n",
       "    <tr>\n",
       "      <th>4</th>\n",
       "      <td>qaanaaq</td>\n",
       "      <td>GL</td>\n",
       "      <td>-69.3632</td>\n",
       "      <td>77.4840</td>\n",
       "      <td>-13.86</td>\n",
       "      <td>59</td>\n",
       "      <td>0</td>\n",
       "      <td>5.53</td>\n",
       "    </tr>\n",
       "    <tr>\n",
       "      <th>...</th>\n",
       "      <td>...</td>\n",
       "      <td>...</td>\n",
       "      <td>...</td>\n",
       "      <td>...</td>\n",
       "      <td>...</td>\n",
       "      <td>...</td>\n",
       "      <td>...</td>\n",
       "      <td>...</td>\n",
       "    </tr>\n",
       "    <tr>\n",
       "      <th>549</th>\n",
       "      <td>alta floresta</td>\n",
       "      <td>BR</td>\n",
       "      <td>-56.0861</td>\n",
       "      <td>-9.8756</td>\n",
       "      <td>78.80</td>\n",
       "      <td>89</td>\n",
       "      <td>75</td>\n",
       "      <td>3.44</td>\n",
       "    </tr>\n",
       "    <tr>\n",
       "      <th>550</th>\n",
       "      <td>colares</td>\n",
       "      <td>PT</td>\n",
       "      <td>-9.4469</td>\n",
       "      <td>38.7992</td>\n",
       "      <td>56.08</td>\n",
       "      <td>94</td>\n",
       "      <td>75</td>\n",
       "      <td>12.66</td>\n",
       "    </tr>\n",
       "    <tr>\n",
       "      <th>551</th>\n",
       "      <td>chapleau</td>\n",
       "      <td>CA</td>\n",
       "      <td>-83.4034</td>\n",
       "      <td>47.8405</td>\n",
       "      <td>1.40</td>\n",
       "      <td>85</td>\n",
       "      <td>90</td>\n",
       "      <td>4.61</td>\n",
       "    </tr>\n",
       "    <tr>\n",
       "      <th>552</th>\n",
       "      <td>hirara</td>\n",
       "      <td>JP</td>\n",
       "      <td>125.2833</td>\n",
       "      <td>24.8000</td>\n",
       "      <td>59.25</td>\n",
       "      <td>70</td>\n",
       "      <td>100</td>\n",
       "      <td>20.07</td>\n",
       "    </tr>\n",
       "    <tr>\n",
       "      <th>553</th>\n",
       "      <td>timra</td>\n",
       "      <td>SE</td>\n",
       "      <td>17.3257</td>\n",
       "      <td>62.4870</td>\n",
       "      <td>10.78</td>\n",
       "      <td>79</td>\n",
       "      <td>43</td>\n",
       "      <td>10.36</td>\n",
       "    </tr>\n",
       "  </tbody>\n",
       "</table>\n",
       "<p>554 rows × 8 columns</p>\n",
       "</div>"
      ],
      "text/plain": [
       "              City Country  Longitude  Latitude  Temperature (F)  \\\n",
       "0          iqaluit      CA   -68.5145   63.7506           -13.00   \n",
       "1            kapaa      US  -159.3190   22.0752            72.05   \n",
       "2     san patricio      US   -97.5169   28.0170            50.74   \n",
       "3           torbay      CA   -52.7314   47.6666            25.90   \n",
       "4          qaanaaq      GL   -69.3632   77.4840           -13.86   \n",
       "..             ...     ...        ...       ...              ...   \n",
       "549  alta floresta      BR   -56.0861   -9.8756            78.80   \n",
       "550        colares      PT    -9.4469   38.7992            56.08   \n",
       "551       chapleau      CA   -83.4034   47.8405             1.40   \n",
       "552         hirara      JP   125.2833   24.8000            59.25   \n",
       "553          timra      SE    17.3257   62.4870            10.78   \n",
       "\n",
       "     Humidity (%)  Cloudiness (%)  Wind Speed (mph)  \n",
       "0              70               1             28.77  \n",
       "1              73              20             18.41  \n",
       "2              93               1              3.44  \n",
       "3              80              90              4.61  \n",
       "4              59               0              5.53  \n",
       "..            ...             ...               ...  \n",
       "549            89              75              3.44  \n",
       "550            94              75             12.66  \n",
       "551            85              90              4.61  \n",
       "552            70             100             20.07  \n",
       "553            79              43             10.36  \n",
       "\n",
       "[554 rows x 8 columns]"
      ]
     },
     "execution_count": 13,
     "metadata": {},
     "output_type": "execute_result"
    }
   ],
   "source": [
    "# Make a new DataFrame equal to the city data to drop all humidity outliers by index.\n",
    "# Passing \"inplace=False\" will make a copy of the city_data DataFrame, which we call \"clean_city_data\".\n",
    "\n",
    "clean_weather_df = weather_df.drop(humid_cities).reset_index()\n",
    "\n",
    "#delete extraneous index column\n",
    "del clean_weather_df[\"index\"]\n",
    "\n",
    "#display clean df\n",
    "clean_weather_df\n"
   ]
  },
  {
   "cell_type": "markdown",
   "metadata": {},
   "source": [
    "## Plotting the Data\n",
    "* Use proper labeling of the plots using plot titles (including date of analysis) and axes labels.\n",
    "* Save the plotted figures as .pngs."
   ]
  },
  {
   "cell_type": "markdown",
   "metadata": {},
   "source": [
    "## Temperature vs. Latitude Plot"
   ]
  },
  {
   "cell_type": "code",
   "execution_count": 29,
   "metadata": {
    "scrolled": true
   },
   "outputs": [
    {
     "data": {
      "image/png": "[encoded data removed]",
      "text/plain": [
       "<Figure size 432x288 with 1 Axes>"
      ]
     },
     "metadata": {
      "needs_background": "light"
     },
     "output_type": "display_data"
    }
   ],
   "source": [
    "plt.scatter(clean_weather_df[\"Latitude\"], clean_weather_df[\"Temperature (F)\"])\n",
    "plt.title(\"Temperature vs. Latitude (1/29/2020)\", fontweight=\"bold\")\n",
    "plt.xlabel(\"Latitude\", fontweight = \"bold\")\n",
    "plt.ylabel(\"Temperature (F)\", fontweight = \"bold\")\n",
    "\n",
    "plt.savefig(f\"../output_data/temp_lat.png\")\n",
    "plt.show()"
   ]
  },
  {
   "cell_type": "markdown",
   "metadata": {},
   "source": [
    "The plot above is analyzing the relationship between a city's latitude and temperature on 1/29/2020, with latitude as the independent x variable and temperature in degrees farenheit as the dependent y variable."
   ]
  },
  {
   "cell_type": "markdown",
   "metadata": {},
   "source": [
    "## Humidity vs. Latitude Plot"
   ]
  },
  {
   "cell_type": "code",
   "execution_count": 30,
   "metadata": {},
   "outputs": [
    {
     "data": {
      "image/png": "[encoded data removed]",
      "text/plain": [
       "<Figure size 432x288 with 1 Axes>"
      ]
     },
     "metadata": {
      "needs_background": "light"
     },
     "output_type": "display_data"
    }
   ],
   "source": [
    "plt.scatter(clean_weather_df[\"Latitude\"], clean_weather_df[\"Humidity (%)\"])\n",
    "plt.title(\"Humidity vs. Latitude (1/29/2020)\", fontweight=\"bold\")\n",
    "plt.xlabel(\"Latitude\", fontweight = \"bold\")\n",
    "plt.ylabel(\"Humidity (%)\", fontweight = \"bold\")\n",
    "\n",
    "plt.savefig(f\"../output_data/humid_lat.png\")\n",
    "\n",
    "plt.show()"
   ]
  },
  {
   "cell_type": "markdown",
   "metadata": {},
   "source": [
    "The plot above is analyzing the relationship between a city's latitude and humidity % on 1/29/2020, with latitude as the independent x variable and humidity % farenheit as the dependent y variable."
   ]
  },
  {
   "cell_type": "markdown",
   "metadata": {},
   "source": [
    "## Cloudiness vs. Latitude Plot"
   ]
  },
  {
   "cell_type": "code",
   "execution_count": 31,
   "metadata": {},
   "outputs": [
    {
     "data": {
      "image/png": "[encoded data removed]",
      "text/plain": [
       "<Figure size 432x288 with 1 Axes>"
      ]
     },
     "metadata": {
      "needs_background": "light"
     },
     "output_type": "display_data"
    }
   ],
   "source": [
    "plt.scatter(clean_weather_df[\"Latitude\"], clean_weather_df[\"Cloudiness (%)\"])\n",
    "plt.title(\"Cloudiness vs. Latitude (1/29/2020)\", fontweight=\"bold\")\n",
    "plt.xlabel(\"Latitude\", fontweight = \"bold\")\n",
    "plt.ylabel(\"Cloudiness (%)\", fontweight = \"bold\")\n",
    "\n",
    "plt.savefig(f\"../output_data/cloud_lat.png\")\n",
    "plt.show()"
   ]
  },
  {
   "cell_type": "markdown",
   "metadata": {},
   "source": [
    "The plot above is analyzing the relationship between a city's latitude and cloudiness % on 1/29/2020, with latitude as the independent x variable and cloudiness % as the dependent y variable."
   ]
  },
  {
   "cell_type": "markdown",
   "metadata": {},
   "source": [
    "## Wind Speed vs. Latitude Plot"
   ]
  },
  {
   "cell_type": "code",
   "execution_count": 32,
   "metadata": {},
   "outputs": [
    {
     "data": {
      "image/png": "[encoded data removed]",
      "text/plain": [
       "<Figure size 432x288 with 1 Axes>"
      ]
     },
     "metadata": {
      "needs_background": "light"
     },
     "output_type": "display_data"
    }
   ],
   "source": [
    "plt.scatter(clean_weather_df[\"Latitude\"], clean_weather_df[\"Wind Speed (mph)\"])\n",
    "plt.title(\"Wind Speed vs. Latitude (1/29/2020)\", fontweight=\"bold\")\n",
    "plt.xlabel(\"Latitude\", fontweight = \"bold\")\n",
    "plt.ylabel(\"Wind Speed (mph)\", fontweight = \"bold\")\n",
    "\n",
    "plt.savefig(f\"../output_data/wind_lat.png\")\n",
    "plt.show()"
   ]
  },
  {
   "cell_type": "markdown",
   "metadata": {},
   "source": [
    "The plot above is analyzing the relationship between a city's latitude and wind speed (mph) on 1/29/2020, with latitude as the independent x variable and wind speed (mph) as the dependent y variable."
   ]
  },
  {
   "cell_type": "markdown",
   "metadata": {},
   "source": [
    "## Linear Regression"
   ]
  },
  {
   "cell_type": "code",
   "execution_count": 18,
   "metadata": {},
   "outputs": [
    {
     "data": {
      "text/html": [
       "<div>\n",
       "<style scoped>\n",
       "    .dataframe tbody tr th:only-of-type {\n",
       "        vertical-align: middle;\n",
       "    }\n",
       "\n",
       "    .dataframe tbody tr th {\n",
       "        vertical-align: top;\n",
       "    }\n",
       "\n",
       "    .dataframe thead th {\n",
       "        text-align: right;\n",
       "    }\n",
       "</style>\n",
       "<table border=\"1\" class=\"dataframe\">\n",
       "  <thead>\n",
       "    <tr style=\"text-align: right;\">\n",
       "      <th></th>\n",
       "      <th>City</th>\n",
       "      <th>Country</th>\n",
       "      <th>Longitude</th>\n",
       "      <th>Latitude</th>\n",
       "      <th>Temperature (F)</th>\n",
       "      <th>Humidity (%)</th>\n",
       "      <th>Cloudiness (%)</th>\n",
       "      <th>Wind Speed (mph)</th>\n",
       "      <th>Hemisphere</th>\n",
       "    </tr>\n",
       "  </thead>\n",
       "  <tbody>\n",
       "    <tr>\n",
       "      <th>0</th>\n",
       "      <td>iqaluit</td>\n",
       "      <td>CA</td>\n",
       "      <td>-68.5145</td>\n",
       "      <td>63.7506</td>\n",
       "      <td>-13.00</td>\n",
       "      <td>70</td>\n",
       "      <td>1</td>\n",
       "      <td>28.77</td>\n",
       "      <td>Northern</td>\n",
       "    </tr>\n",
       "    <tr>\n",
       "      <th>1</th>\n",
       "      <td>kapaa</td>\n",
       "      <td>US</td>\n",
       "      <td>-159.3190</td>\n",
       "      <td>22.0752</td>\n",
       "      <td>72.05</td>\n",
       "      <td>73</td>\n",
       "      <td>20</td>\n",
       "      <td>18.41</td>\n",
       "      <td>Northern</td>\n",
       "    </tr>\n",
       "    <tr>\n",
       "      <th>2</th>\n",
       "      <td>san patricio</td>\n",
       "      <td>US</td>\n",
       "      <td>-97.5169</td>\n",
       "      <td>28.0170</td>\n",
       "      <td>50.74</td>\n",
       "      <td>93</td>\n",
       "      <td>1</td>\n",
       "      <td>3.44</td>\n",
       "      <td>Northern</td>\n",
       "    </tr>\n",
       "    <tr>\n",
       "      <th>3</th>\n",
       "      <td>torbay</td>\n",
       "      <td>CA</td>\n",
       "      <td>-52.7314</td>\n",
       "      <td>47.6666</td>\n",
       "      <td>25.90</td>\n",
       "      <td>80</td>\n",
       "      <td>90</td>\n",
       "      <td>4.61</td>\n",
       "      <td>Northern</td>\n",
       "    </tr>\n",
       "    <tr>\n",
       "      <th>4</th>\n",
       "      <td>qaanaaq</td>\n",
       "      <td>GL</td>\n",
       "      <td>-69.3632</td>\n",
       "      <td>77.4840</td>\n",
       "      <td>-13.86</td>\n",
       "      <td>59</td>\n",
       "      <td>0</td>\n",
       "      <td>5.53</td>\n",
       "      <td>Northern</td>\n",
       "    </tr>\n",
       "    <tr>\n",
       "      <th>...</th>\n",
       "      <td>...</td>\n",
       "      <td>...</td>\n",
       "      <td>...</td>\n",
       "      <td>...</td>\n",
       "      <td>...</td>\n",
       "      <td>...</td>\n",
       "      <td>...</td>\n",
       "      <td>...</td>\n",
       "      <td>...</td>\n",
       "    </tr>\n",
       "    <tr>\n",
       "      <th>549</th>\n",
       "      <td>alta floresta</td>\n",
       "      <td>BR</td>\n",
       "      <td>-56.0861</td>\n",
       "      <td>-9.8756</td>\n",
       "      <td>78.80</td>\n",
       "      <td>89</td>\n",
       "      <td>75</td>\n",
       "      <td>3.44</td>\n",
       "      <td>Southern</td>\n",
       "    </tr>\n",
       "    <tr>\n",
       "      <th>550</th>\n",
       "      <td>colares</td>\n",
       "      <td>PT</td>\n",
       "      <td>-9.4469</td>\n",
       "      <td>38.7992</td>\n",
       "      <td>56.08</td>\n",
       "      <td>94</td>\n",
       "      <td>75</td>\n",
       "      <td>12.66</td>\n",
       "      <td>Northern</td>\n",
       "    </tr>\n",
       "    <tr>\n",
       "      <th>551</th>\n",
       "      <td>chapleau</td>\n",
       "      <td>CA</td>\n",
       "      <td>-83.4034</td>\n",
       "      <td>47.8405</td>\n",
       "      <td>1.40</td>\n",
       "      <td>85</td>\n",
       "      <td>90</td>\n",
       "      <td>4.61</td>\n",
       "      <td>Northern</td>\n",
       "    </tr>\n",
       "    <tr>\n",
       "      <th>552</th>\n",
       "      <td>hirara</td>\n",
       "      <td>JP</td>\n",
       "      <td>125.2833</td>\n",
       "      <td>24.8000</td>\n",
       "      <td>59.25</td>\n",
       "      <td>70</td>\n",
       "      <td>100</td>\n",
       "      <td>20.07</td>\n",
       "      <td>Northern</td>\n",
       "    </tr>\n",
       "    <tr>\n",
       "      <th>553</th>\n",
       "      <td>timra</td>\n",
       "      <td>SE</td>\n",
       "      <td>17.3257</td>\n",
       "      <td>62.4870</td>\n",
       "      <td>10.78</td>\n",
       "      <td>79</td>\n",
       "      <td>43</td>\n",
       "      <td>10.36</td>\n",
       "      <td>Northern</td>\n",
       "    </tr>\n",
       "  </tbody>\n",
       "</table>\n",
       "<p>554 rows × 9 columns</p>\n",
       "</div>"
      ],
      "text/plain": [
       "              City Country  Longitude  Latitude  Temperature (F)  \\\n",
       "0          iqaluit      CA   -68.5145   63.7506           -13.00   \n",
       "1            kapaa      US  -159.3190   22.0752            72.05   \n",
       "2     san patricio      US   -97.5169   28.0170            50.74   \n",
       "3           torbay      CA   -52.7314   47.6666            25.90   \n",
       "4          qaanaaq      GL   -69.3632   77.4840           -13.86   \n",
       "..             ...     ...        ...       ...              ...   \n",
       "549  alta floresta      BR   -56.0861   -9.8756            78.80   \n",
       "550        colares      PT    -9.4469   38.7992            56.08   \n",
       "551       chapleau      CA   -83.4034   47.8405             1.40   \n",
       "552         hirara      JP   125.2833   24.8000            59.25   \n",
       "553          timra      SE    17.3257   62.4870            10.78   \n",
       "\n",
       "     Humidity (%)  Cloudiness (%)  Wind Speed (mph) Hemisphere  \n",
       "0              70               1             28.77   Northern  \n",
       "1              73              20             18.41   Northern  \n",
       "2              93               1              3.44   Northern  \n",
       "3              80              90              4.61   Northern  \n",
       "4              59               0              5.53   Northern  \n",
       "..            ...             ...               ...        ...  \n",
       "549            89              75              3.44   Southern  \n",
       "550            94              75             12.66   Northern  \n",
       "551            85              90              4.61   Northern  \n",
       "552            70             100             20.07   Northern  \n",
       "553            79              43             10.36   Northern  \n",
       "\n",
       "[554 rows x 9 columns]"
      ]
     },
     "execution_count": 18,
     "metadata": {},
     "output_type": "execute_result"
    }
   ],
   "source": [
    "#insert new column in the df for hemisphere and insert northern or southern based on the latitude value\n",
    "clean_weather_df[\"Hemisphere\"] = np.where(clean_weather_df[\"Latitude\"] >= 0, \"Northern\", \"Southern\")\n",
    "clean_weather_df"
   ]
  },
  {
   "cell_type": "code",
   "execution_count": 19,
   "metadata": {},
   "outputs": [],
   "source": [
    "northern_df = clean_weather_df.loc[clean_weather_df[\"Hemisphere\"] == \"Northern\"]\n",
    "southern_df = clean_weather_df.loc[clean_weather_df[\"Hemisphere\"] == \"Southern\"]"
   ]
  },
  {
   "cell_type": "code",
   "execution_count": 20,
   "metadata": {},
   "outputs": [
    {
     "data": {
      "text/plain": [
       "['Temperature (F)', 'Humidity (%)', 'Cloudiness (%)', 'Wind Speed (mph)']"
      ]
     },
     "execution_count": 20,
     "metadata": {},
     "output_type": "execute_result"
    }
   ],
   "source": [
    "#get a list of columns in the dataframe so that we can loop through the columns and create plots\n",
    "columns = clean_weather_df.columns.tolist()\n",
    "columns.remove(\"City\")\n",
    "columns.remove(\"Country\")\n",
    "columns.remove(\"Longitude\")\n",
    "columns.remove(\"Latitude\")\n",
    "columns.remove(\"Hemisphere\")\n",
    "\n",
    "columns"
   ]
  },
  {
   "cell_type": "code",
   "execution_count": 27,
   "metadata": {},
   "outputs": [
    {
     "data": {
      "image/png": "[encoded data removed]",
      "text/plain": [
       "<Figure size 432x288 with 1 Axes>"
      ]
     },
     "metadata": {
      "needs_background": "light"
     },
     "output_type": "display_data"
    },
    {
     "name": "stdout",
     "output_type": "stream",
     "text": [
      "The line equation for the Northern Hemisphere Temperature (F) vs. Latitude relationship is y = -1.54x + 98.31\n",
      "The r value for the Northern Hemisphere Temperature (F) vs. Latitude relationship is r=-0.86\n",
      "-----------------------------------------------------------------------------------------------\n"
     ]
    },
    {
     "data": {
      "image/png": "[encoded data removed]",
      "text/plain": [
       "<Figure size 432x288 with 1 Axes>"
      ]
     },
     "metadata": {
      "needs_background": "light"
     },
     "output_type": "display_data"
    },
    {
     "name": "stdout",
     "output_type": "stream",
     "text": [
      "The line equation for the Northern Hemisphere Humidity (%) vs. Latitude relationship is y = 0.46x + 51.17\n",
      "The r value for the Northern Hemisphere Humidity (%) vs. Latitude relationship is r=0.4\n",
      "-----------------------------------------------------------------------------------------------\n"
     ]
    },
    {
     "data": {
      "image/png": "[encoded data removed]",
      "text/plain": [
       "<Figure size 432x288 with 1 Axes>"
      ]
     },
     "metadata": {
      "needs_background": "light"
     },
     "output_type": "display_data"
    },
    {
     "name": "stdout",
     "output_type": "stream",
     "text": [
      "The line equation for the Northern Hemisphere Cloudiness (%) vs. Latitude relationship is y = 0.35x + 34.02\n",
      "The r value for the Northern Hemisphere Cloudiness (%) vs. Latitude relationship is r=0.17\n",
      "-----------------------------------------------------------------------------------------------\n"
     ]
    },
    {
     "data": {
      "image/png": "[encoded data removed]",
      "text/plain": [
       "<Figure size 432x288 with 1 Axes>"
      ]
     },
     "metadata": {
      "needs_background": "light"
     },
     "output_type": "display_data"
    },
    {
     "name": "stdout",
     "output_type": "stream",
     "text": [
      "The line equation for the Northern Hemisphere Wind Speed (mph) vs. Latitude relationship is y = 0.0x + 8.72\n",
      "The r value for the Northern Hemisphere Wind Speed (mph) vs. Latitude relationship is r=0.0\n",
      "-----------------------------------------------------------------------------------------------\n"
     ]
    }
   ],
   "source": [
    "#loop through the columns and retrieve regression values for Northern Hempisphere graphs\n",
    "for column in columns:\n",
    "    (slope, intercept, rvalue, pvalue, stderr) = linregress(northern_df[\"Latitude\"], northern_df[f\"{column}\"])\n",
    "    slope = round(slope, 2)\n",
    "    intercept = round(intercept, 2)\n",
    "    rvalue = round(rvalue, 2)\n",
    "    regress_values = (slope * northern_df[\"Latitude\"]) + intercept\n",
    "    line_eq = f\"y = {slope}x + {intercept}\"\n",
    "    \n",
    "    #plot Northern Hempisphere Temp vs Latitude as well as the regression line and equation\n",
    "    plt.scatter(northern_df[\"Latitude\"], northern_df[f\"{column}\"])\n",
    "    plt.title(f\"{column} vs. Latitude (1/29/2020 - Northern Hemisphere)\", fontweight = \"bold\")\n",
    "    plt.xlabel(\"Latitude\", fontweight = \"bold\")\n",
    "    plt.ylabel(f\"{column}\", fontweight = \"bold\")\n",
    "    plt.plot(northern_df[\"Latitude\"], regress_values, \"r-\")\n",
    "    \n",
    "    #save plots as png's in output_data folder\n",
    "    plt.savefig(f\"../output_data/northern_{column}.png\")\n",
    "    \n",
    "    #display plots below\n",
    "    plt.show()\n",
    "    \n",
    "    #print line equation and r value under the plot\n",
    "    print(f\"The line equation for the Northern Hemisphere {column} vs. Latitude relationship is {line_eq}\")\n",
    "    print(f\"The r value for the Northern Hemisphere {column} vs. Latitude relationship is r={rvalue}\")\n",
    "    print(\"-----------------------------------------------------------------------------------------------\")\n",
    "\n"
   ]
  },
  {
   "cell_type": "markdown",
   "metadata": {},
   "source": [
    "##### Comments on the northern hempisphere plots/regressions\n",
    "\n",
    "1) Temperature vs. Latitude\n",
    "    - The relationship between Temperature and Latitude is very strong, indicated by the -.86 r value in the regression. As expected, the regression line has negative slope, because we would expect temperature to decrease as distance from the equator in the northern direction increases.\n",
    "    \n",
    "2) Humidity vs. Latitude\n",
    "    - The relationship between Humidity and Latitude is moderate, as indicated by the r value of .4. The regression line slope is positive, indicating there is a slight direct relationship between distance from the equator in the northern hemisphere and humidity.\n",
    "    \n",
    "3) Cloudiness vs. Latitude\n",
    "    - The relationship between Cloudiness and Latitude is weak as indicated by the r value of .17. Based on this r value one can conclude that there is no discernible relationship between a city's \"cloudiness\" and its distance from the equator in the northern hemisphere.\n",
    "    \n",
    "4) Wind Speed vs. Latitude\n",
    "    - There is no linear relationship between wind speed and latitude as indicated by the r value of 0. As shown in the plot, the scatter of the points is an indication that wind speed and latitude are not correlated in any manner."
   ]
  },
  {
   "cell_type": "code",
   "execution_count": 28,
   "metadata": {},
   "outputs": [
    {
     "data": {
      "image/png": "[encoded data removed]",
      "text/plain": [
       "<Figure size 432x288 with 1 Axes>"
      ]
     },
     "metadata": {
      "needs_background": "light"
     },
     "output_type": "display_data"
    },
    {
     "name": "stdout",
     "output_type": "stream",
     "text": [
      "The line equation for the Southern Hemisphere Temperature (F) vs. Latitude relationship is y = 0.53x + 86.87\n",
      "The r value for the Southern Hemisphere Temperature (F) vs. Latitude relationship is r=0.67\n",
      "-----------------------------------------------------------------------------------------------\n"
     ]
    },
    {
     "data": {
      "image/png": "[encoded data removed]",
      "text/plain": [
       "<Figure size 432x288 with 1 Axes>"
      ]
     },
     "metadata": {
      "needs_background": "light"
     },
     "output_type": "display_data"
    },
    {
     "name": "stdout",
     "output_type": "stream",
     "text": [
      "The line equation for the Southern Hemisphere Humidity (%) vs. Latitude relationship is y = 0.1x + 73.83\n",
      "The r value for the Southern Hemisphere Humidity (%) vs. Latitude relationship is r=0.08\n",
      "-----------------------------------------------------------------------------------------------\n"
     ]
    },
    {
     "data": {
      "image/png": "[encoded data removed]",
      "text/plain": [
       "<Figure size 432x288 with 1 Axes>"
      ]
     },
     "metadata": {
      "needs_background": "light"
     },
     "output_type": "display_data"
    },
    {
     "name": "stdout",
     "output_type": "stream",
     "text": [
      "The line equation for the Southern Hemisphere Cloudiness (%) vs. Latitude relationship is y = 0.86x + 74.66\n",
      "The r value for the Southern Hemisphere Cloudiness (%) vs. Latitude relationship is r=0.31\n",
      "-----------------------------------------------------------------------------------------------\n"
     ]
    },
    {
     "data": {
      "image/png": "[encoded data removed]",
      "text/plain": [
       "<Figure size 432x288 with 1 Axes>"
      ]
     },
     "metadata": {
      "needs_background": "light"
     },
     "output_type": "display_data"
    },
    {
     "name": "stdout",
     "output_type": "stream",
     "text": [
      "The line equation for the Southern Hemisphere Wind Speed (mph) vs. Latitude relationship is y = -0.05x + 6.86\n",
      "The r value for the Southern Hemisphere Wind Speed (mph) vs. Latitude relationship is r=-0.14\n",
      "-----------------------------------------------------------------------------------------------\n"
     ]
    }
   ],
   "source": [
    "#loop through the columns and retrieve regression values for Southern Hempisphere graphs\n",
    "for column in columns:\n",
    "    (slope, intercept, rvalue, pvalue, stderr) = linregress(southern_df[\"Latitude\"], southern_df[f\"{column}\"])\n",
    "    slope = round(slope, 2)\n",
    "    intercept = round(intercept, 2)\n",
    "    rvalue = round(rvalue, 2)\n",
    "    regress_values = (slope * southern_df[\"Latitude\"]) + intercept\n",
    "    line_eq = f\"y = {slope}x + {intercept}\"\n",
    "    \n",
    "    #plot Southern Hempisphere Temp vs Latitude as well as the regression line and equation\n",
    "    plt.scatter(southern_df[\"Latitude\"], southern_df[f\"{column}\"])\n",
    "    plt.title(f\"{column} vs. Latitude (1/29/2020 - Southern Hemisphere)\", fontweight = \"bold\")\n",
    "    plt.xlabel(\"Latitude\", fontweight = \"bold\")\n",
    "    plt.ylabel(f\"{column}\", fontweight = \"bold\")\n",
    "    plt.plot(southern_df[\"Latitude\"], regress_values, \"r-\")\n",
    "    \n",
    "    #save plots as png's in output_data folder\n",
    "    plt.savefig(f\"../output_data/southern_{column}.png\")\n",
    "    \n",
    "    #display plots below\n",
    "    plt.show()\n",
    "    \n",
    "   \n",
    "    \n",
    "       #print line equation and r value under the plot\n",
    "    print(f\"The line equation for the Southern Hemisphere {column} vs. Latitude relationship is {line_eq}\")\n",
    "    print(f\"The r value for the Southern Hemisphere {column} vs. Latitude relationship is r={rvalue}\")\n",
    "    print(\"-----------------------------------------------------------------------------------------------\")\n"
   ]
  },
  {
   "cell_type": "markdown",
   "metadata": {},
   "source": [
    "#### Comments on the southern hemisphere plots/regressions\n",
    "\n",
    "1) Temperature vs. Latitude\n",
    "    - The relationship between Temperature and Latitude is moderate to strong, indicated by the .67 r value in the regression. As expected, the regression line has positive slope, because we would expect temperature to decrease as distance from the equator decreases (i.e. increases in the negative direction). Note that this relationship is the opposite of the northern hempisphere which is to be expected, as the direction to the equator in each hemisphere is opposite (northern hemisphere positive values, southern hemisphere negative values).\n",
    "    \n",
    "2) Humidity vs. Latitude\n",
    "    - The relationship between Humidity and Latitude is weak, as indicated by the r value of .08. The regression line slope is positive, indicating there is a slight direct relationship between distance from the equator in the southern hemisphere and humidity.\n",
    "    \n",
    "3) Cloudiness vs. Latitude\n",
    "    - The relationship between Cloudiness and Latitude is weak to moderate as indicated by the r value of .31. Based on this r value one can conclude that there is a weak or no discernible relationship between a city's \"cloudiness\" and its distance from the equator in the southern hemisphere.\n",
    "    \n",
    "4) Wind Speed vs. Latitude\n",
    "    - There is a weak linear relationship between wind speed and latitude as indicated by the r value of -.14. Although a weak relationship, the r value could indicate that as a city gets further away from the equator in the southern hemisphere, the windier that city will be."
   ]
  },
  {
   "cell_type": "code",
   "execution_count": null,
   "metadata": {},
   "outputs": [],
   "source": []
  },
  {
   "cell_type": "code",
   "execution_count": null,
   "metadata": {},
   "outputs": [],
   "source": []
  }
 ],
 "metadata": {
  "anaconda-cloud": {},
  "kernel_info": {
   "name": "python3"
  },
  "kernelspec": {
   "display_name": "Python 3",
   "language": "python",
   "name": "python3"
  },
  "language_info": {
   "codemirror_mode": {
    "name": "ipython",
    "version": 3
   },
   "file_extension": ".py",
   "mimetype": "text/x-python",
   "name": "python",
   "nbconvert_exporter": "python",
   "pygments_lexer": "ipython3",
   "version": "3.8.3"
  },
  "latex_envs": {
   "LaTeX_envs_menu_present": true,
   "autoclose": false,
   "autocomplete": true,
   "bibliofile": "biblio.bib",
   "cite_by": "apalike",
   "current_citInitial": 1,
   "eqLabelWithNumbers": true,
   "eqNumInitial": 1,
   "hotkeys": {
    "equation": "Ctrl-E",
    "itemize": "Ctrl-I"
   },
   "labels_anchors": false,
   "latex_user_defs": false,
   "report_style_numbering": false,
   "user_envs_cfg": false
  },
  "nteract": {
   "version": "0.12.3"
  }
 },
 "nbformat": 4,
 "nbformat_minor": 2
}
