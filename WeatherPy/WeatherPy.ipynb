{
 "cells": [
  {
   "cell_type": "markdown",
   "metadata": {},
   "source": [
    "# WeatherPy\n",
    "----\n",
    "\n",
    "#### Note\n",
    "* Instructions have been included for each segment. You do not have to follow them exactly, but they are included to help you think through the steps."
   ]
  },
  {
   "cell_type": "code",
   "execution_count": 12,
   "metadata": {
    "scrolled": true
   },
   "outputs": [],
   "source": [
    "# Dependencies and Setup\n",
    "import matplotlib.pyplot as plt\n",
    "import pandas as pd\n",
    "import numpy as np\n",
    "import requests\n",
    "import time\n",
    "from scipy.stats import linregress\n",
    "\n",
    "# Import API key\n",
    "from api_keys import weather_api_key\n",
    "\n",
    "# Incorporate citipy to determine city based on latitude and longitude\n",
    "from citipy import citipy\n",
    "\n",
    "# Output File (CSV)\n",
    "output_data_file = \"../output_data/cities.csv\"\n",
    "\n",
    "# Range of latitudes and longitudes\n",
    "lat_range = (-90, 90)\n",
    "lng_range = (-180, 180)"
   ]
  },
  {
   "cell_type": "markdown",
   "metadata": {},
   "source": [
    "## Generate Cities List"
   ]
  },
  {
   "cell_type": "code",
   "execution_count": 13,
   "metadata": {},
   "outputs": [],
   "source": [
    "# List for holding lat_lngs and cities\n",
    "lat_lngs = []\n",
    "cities = []\n",
    "\n"
   ]
  },
  {
   "cell_type": "code",
   "execution_count": 14,
   "metadata": {},
   "outputs": [],
   "source": [
    "# Create a set of random lat and lng combinations\n",
    "lats = np.random.uniform(lat_range[0], lat_range[1], size=1500)\n",
    "lngs = np.random.uniform(lng_range[0], lng_range[1], size=1500)\n",
    "lat_lngs = zip(lats, lngs)"
   ]
  },
  {
   "cell_type": "code",
   "execution_count": 15,
   "metadata": {},
   "outputs": [],
   "source": [
    "# Identify nearest city for each lat, lng combination\n",
    "for lat_lng in lat_lngs:\n",
    "    city = citipy.nearest_city(lat_lng[0], lat_lng[1]).city_name\n",
    "    \n",
    "    # If the city is unique, then add it to a our cities list\n",
    "    if city not in cities:\n",
    "        cities.append(city)"
   ]
  },
  {
   "cell_type": "code",
   "execution_count": 16,
   "metadata": {},
   "outputs": [
    {
     "data": {
      "text/plain": [
       "602"
      ]
     },
     "execution_count": 16,
     "metadata": {},
     "output_type": "execute_result"
    }
   ],
   "source": [
    "# Print the city count to confirm sufficient count\n",
    "len(cities)"
   ]
  },
  {
   "cell_type": "code",
   "execution_count": 17,
   "metadata": {},
   "outputs": [
    {
     "name": "stdout",
     "output_type": "stream",
     "text": [
      "['zhezkazgan', 'avarua', 'arraial do cabo', 'liliani', 'cherskiy', 'punta arenas', 'kaohsiung', 'atascadero', 'kapaa', 'adrar', 'mar del plata', 'nome', 'rikitea', 'saint george', 'faanui', 'busselton', 'vila', 'kavieng', 'sembakung', 'ushuaia', 'champerico', 'barrow', 'myingyan', 'pestovo', 'kiunga']\n"
     ]
    }
   ],
   "source": [
    "#get smaller subet of cities for code testing\n",
    "cities_test = []\n",
    "for x in range(25):\n",
    "    cities_test.append(cities[x])\n",
    "    \n",
    "print(cities_test)\n",
    "    "
   ]
  },
  {
   "cell_type": "markdown",
   "metadata": {},
   "source": [
    "# Perform API Calls\n",
    "* Perform a weather check on each city using a series of successive API calls.\n",
    "* Include a print log of each city as it'sbeing processed (with the city number and city name).\n"
   ]
  },
  {
   "cell_type": "code",
   "execution_count": 18,
   "metadata": {
    "scrolled": true
   },
   "outputs": [],
   "source": [
    "#generate base URL\n",
    "base_url = f\"http://api.openweathermap.org/data/2.5/weather?appid={weather_api_key}&units=imperial&q=\""
   ]
  },
  {
   "cell_type": "code",
   "execution_count": 39,
   "metadata": {},
   "outputs": [],
   "source": [
    "#create empty lists for the plot variables\n",
    "successful_cities = []\n",
    "country = []\n",
    "latitude = []\n",
    "longitude = []\n",
    "temperature = []\n",
    "humidity = []\n",
    "cloudiness = []\n",
    "wind_speed = []\n"
   ]
  },
  {
   "cell_type": "code",
   "execution_count": 40,
   "metadata": {},
   "outputs": [
    {
     "name": "stdout",
     "output_type": "stream",
     "text": [
      "1) zhezkazgan processed successfully\n",
      "2) avarua processed successfully\n",
      "3) arraial do cabo processed successfully\n",
      "4) liliani processed successfully\n",
      "5) cherskiy processed successfully\n",
      "6) punta arenas processed successfully\n",
      "7) kaohsiung processed successfully\n",
      "8) atascadero processed successfully\n",
      "9) kapaa processed successfully\n",
      "10) adrar processed successfully\n",
      "11) mar del plata processed successfully\n",
      "12) nome processed successfully\n",
      "13) rikitea processed successfully\n",
      "14) saint george processed successfully\n",
      "15) faanui processed successfully\n",
      "16) busselton processed successfully\n",
      "17) vila processed successfully\n",
      "18) kavieng processed successfully\n",
      "19) sembakung processed successfully\n",
      "20) ushuaia processed successfully\n",
      "21) champerico processed successfully\n",
      "22) barrow processed successfully\n",
      "23) myingyan processed successfully\n",
      "24) pestovo processed successfully\n",
      "25) kiunga processed successfully\n",
      "26) ust-maya processed successfully\n",
      "27) synya processed successfully\n",
      "28) cabo san lucas processed successfully\n",
      "29) chuy processed successfully\n",
      "30) puerto ayora processed successfully\n",
      "31) zhireken processed successfully\n",
      "32) roald processed successfully\n",
      "33) saint-francois processed successfully\n",
      "34) grand gaube processed successfully\n",
      "35) balaghat processed successfully\n",
      "36) mataura processed successfully\n",
      "37) iqaluit processed successfully\n",
      "38) codrington processed successfully\n",
      "39) vaini processed successfully\n",
      "40) marzuq processed successfully\n",
      "41) bilma processed successfully\n",
      "42) bluff processed successfully\n",
      "43) santa rosa processed successfully\n",
      "44) barentsburg not found\n",
      "45) kaputa processed successfully\n",
      "46) airai processed successfully\n",
      "47) ketchikan processed successfully\n",
      "48) east london processed successfully\n",
      "49) saint-philippe processed successfully\n",
      "50) acarau processed successfully\n",
      "51) guerrero negro processed successfully\n",
      "52) galle processed successfully\n",
      "53) illoqqortoormiut not found\n",
      "54) half moon bay processed successfully\n",
      "55) yithion not found\n",
      "56) attawapiskat not found\n",
      "57) tokur processed successfully\n",
      "58) lavrentiya processed successfully\n",
      "59) butaritari processed successfully\n",
      "60) amapa processed successfully\n",
      "61) fort frances processed successfully\n",
      "62) hanna processed successfully\n",
      "63) glencoe processed successfully\n",
      "64) pinega processed successfully\n",
      "65) aqtobe processed successfully\n",
      "66) galveston processed successfully\n",
      "67) fukue processed successfully\n",
      "68) dunedin processed successfully\n",
      "69) amderma not found\n",
      "70) tumannyy not found\n",
      "71) dikson processed successfully\n",
      "72) pisco processed successfully\n",
      "73) the pas processed successfully\n",
      "74) yellowknife processed successfully\n",
      "75) buchanan processed successfully\n",
      "76) sitka processed successfully\n",
      "77) utiroa not found\n",
      "78) nemuro processed successfully\n",
      "79) kaitangata processed successfully\n",
      "80) chokurdakh processed successfully\n",
      "81) sioux lookout processed successfully\n",
      "82) samalaeulu not found\n",
      "83) bongaree processed successfully\n",
      "84) taolanaro not found\n",
      "85) bengkulu processed successfully\n",
      "86) yeppoon processed successfully\n",
      "87) saskylakh processed successfully\n",
      "88) marfino processed successfully\n",
      "89) sao joao da barra processed successfully\n",
      "90) prenzlau processed successfully\n",
      "91) tsihombe not found\n",
      "92) kodiak processed successfully\n",
      "93) lata processed successfully\n",
      "94) georgetown processed successfully\n",
      "95) talnakh processed successfully\n",
      "96) upernavik processed successfully\n",
      "97) maltahohe processed successfully\n",
      "98) bredasdorp processed successfully\n",
      "99) narsaq processed successfully\n",
      "100) vieste processed successfully\n",
      "101) torbay processed successfully\n",
      "102) harrison processed successfully\n",
      "103) egvekinot processed successfully\n",
      "104) camana processed successfully\n",
      "105) kruisfontein processed successfully\n",
      "106) voh processed successfully\n",
      "107) katobu processed successfully\n",
      "108) cape town processed successfully\n",
      "109) fort nelson processed successfully\n",
      "110) saldanha processed successfully\n",
      "111) yulara processed successfully\n",
      "112) port alfred processed successfully\n",
      "113) prince george processed successfully\n",
      "114) melendugno processed successfully\n",
      "115) rafaela processed successfully\n",
      "116) albany processed successfully\n",
      "117) bambous virieux processed successfully\n",
      "118) lompoc processed successfully\n",
      "119) nova gradiska processed successfully\n",
      "120) qaanaaq processed successfully\n",
      "121) cuervos processed successfully\n",
      "122) angren processed successfully\n",
      "123) chingirlau processed successfully\n",
      "124) hobart processed successfully\n",
      "125) tuktoyaktuk processed successfully\n",
      "126) nanortalik processed successfully\n",
      "127) leeton processed successfully\n",
      "128) cidreira processed successfully\n",
      "129) asosa processed successfully\n",
      "130) vardo processed successfully\n",
      "131) ngaoundere processed successfully\n",
      "132) hermanus processed successfully\n",
      "133) polunochnoye processed successfully\n",
      "134) gorom-gorom processed successfully\n",
      "135) khatanga processed successfully\n",
      "136) atuona processed successfully\n",
      "137) san patricio processed successfully\n",
      "138) maceio processed successfully\n",
      "139) emerald processed successfully\n",
      "140) saint anthony processed successfully\n",
      "141) nizhneyansk not found\n",
      "142) dolbeau not found\n",
      "143) ayr processed successfully\n",
      "144) okhotsk processed successfully\n",
      "145) padang processed successfully\n",
      "146) gwembe processed successfully\n",
      "147) sur processed successfully\n",
      "148) hasaki processed successfully\n",
      "149) new norfolk processed successfully\n",
      "150) hilo processed successfully\n",
      "151) butembo processed successfully\n",
      "152) honiara processed successfully\n",
      "153) rio cuarto processed successfully\n",
      "154) marcona not found\n",
      "155) coxim processed successfully\n",
      "156) kamaishi processed successfully\n",
      "157) pevek processed successfully\n",
      "158) coahuayana processed successfully\n",
      "159) castro processed successfully\n",
      "160) moerai processed successfully\n",
      "161) presidencia roque saenz pena processed successfully\n",
      "162) beisfjord processed successfully\n",
      "163) tiksi processed successfully\n",
      "164) manadhoo processed successfully\n",
      "165) wilkie processed successfully\n",
      "166) tasiilaq processed successfully\n",
      "167) provideniya processed successfully\n",
      "168) santa vitoria processed successfully\n",
      "169) jalu processed successfully\n",
      "170) camacha processed successfully\n",
      "171) marystown processed successfully\n",
      "172) hokitika processed successfully\n",
      "173) marigot processed successfully\n",
      "174) fukagawa processed successfully\n",
      "175) wattegama processed successfully\n",
      "176) grand river south east not found\n",
      "177) praia processed successfully\n",
      "178) lalsot processed successfully\n",
      "179) thompson processed successfully\n",
      "180) neiafu processed successfully\n",
      "181) bedele processed successfully\n",
      "182) novo aripuana processed successfully\n",
      "183) mwinilunga processed successfully\n",
      "184) ekibastuz processed successfully\n",
      "185) dingle processed successfully\n",
      "186) lebu processed successfully\n",
      "187) mecca processed successfully\n",
      "188) fairbanks processed successfully\n",
      "189) soderhamn processed successfully\n",
      "190) palabuhanratu not found\n",
      "191) ust-tsilma processed successfully\n",
      "192) pont-sainte-maxence processed successfully\n",
      "193) flin flon processed successfully\n",
      "194) tiarei processed successfully\n",
      "195) bethel processed successfully\n",
      "196) ostrovnoy processed successfully\n",
      "197) aykhal processed successfully\n",
      "198) vaitupu not found\n",
      "199) port elizabeth processed successfully\n",
      "200) vao processed successfully\n",
      "201) rocha processed successfully\n",
      "202) grindavik processed successfully\n",
      "203) fortuna processed successfully\n",
      "204) bulqize processed successfully\n",
      "205) severo-kurilsk processed successfully\n",
      "206) longlac not found\n",
      "207) sandakan processed successfully\n",
      "208) blind river processed successfully\n",
      "209) salalah processed successfully\n",
      "210) banjar processed successfully\n",
      "211) anahuac processed successfully\n",
      "212) port hardy processed successfully\n",
      "213) pangnirtung processed successfully\n",
      "214) dunbar processed successfully\n",
      "215) cayenne processed successfully\n",
      "216) alice springs processed successfully\n",
      "217) charlestown processed successfully\n",
      "218) vadso processed successfully\n",
      "219) nikolskoye processed successfully\n",
      "220) morogoro processed successfully\n",
      "221) hofn processed successfully\n",
      "222) chicama processed successfully\n",
      "223) adelaide processed successfully\n",
      "224) carnarvon processed successfully\n",
      "225) havoysund processed successfully\n",
      "226) kisangani processed successfully\n",
      "227) tessalit processed successfully\n",
      "228) jumla processed successfully\n",
      "229) praia da vitoria processed successfully\n",
      "230) pacific grove processed successfully\n"
     ]
    },
    {
     "name": "stdout",
     "output_type": "stream",
     "text": [
      "231) khasan processed successfully\n",
      "232) methven processed successfully\n",
      "233) heilbron processed successfully\n",
      "234) genhe processed successfully\n",
      "235) asbe teferi processed successfully\n",
      "236) sao filipe processed successfully\n",
      "237) whyalla processed successfully\n",
      "238) mahebourg processed successfully\n",
      "239) taltal processed successfully\n",
      "240) ixtapa processed successfully\n",
      "241) constitucion processed successfully\n",
      "242) benque viejo not found\n",
      "243) luwuk processed successfully\n",
      "244) bennington processed successfully\n",
      "245) palana processed successfully\n",
      "246) port-cartier processed successfully\n",
      "247) sakakah processed successfully\n",
      "248) launceston processed successfully\n",
      "249) shenjiamen processed successfully\n",
      "250) rabo de peixe processed successfully\n",
      "251) olinda processed successfully\n",
      "252) ituporanga processed successfully\n",
      "253) aklavik processed successfully\n",
      "254) tecoanapa processed successfully\n",
      "255) acapulco processed successfully\n",
      "256) sobolevo processed successfully\n",
      "257) luquillo processed successfully\n",
      "258) coquimbo processed successfully\n",
      "259) mazatlan processed successfully\n",
      "260) beyneu processed successfully\n",
      "261) chimbote processed successfully\n",
      "262) chalmette processed successfully\n",
      "263) batemans bay processed successfully\n",
      "264) taoudenni processed successfully\n",
      "265) lewistown processed successfully\n",
      "266) addis abeba processed successfully\n",
      "267) berlevag processed successfully\n",
      "268) hobyo processed successfully\n",
      "269) esperance processed successfully\n",
      "270) port lincoln processed successfully\n",
      "271) flinders processed successfully\n",
      "272) labuhan processed successfully\n",
      "273) benguela processed successfully\n",
      "274) anadyr processed successfully\n",
      "275) hinton processed successfully\n",
      "276) tautira processed successfully\n",
      "277) bandarbeyla processed successfully\n",
      "278) rungata not found\n",
      "279) hami processed successfully\n",
      "280) alugan processed successfully\n",
      "281) healdsburg processed successfully\n",
      "282) haputale processed successfully\n",
      "283) meulaboh processed successfully\n",
      "284) raychikhinsk processed successfully\n",
      "285) clyde river processed successfully\n",
      "286) jamestown processed successfully\n",
      "287) tura processed successfully\n",
      "288) erenhot processed successfully\n",
      "289) korla processed successfully\n",
      "290) bitung processed successfully\n",
      "291) marawi processed successfully\n",
      "292) emba processed successfully\n",
      "293) necochea processed successfully\n",
      "294) shelburne processed successfully\n",
      "295) katsuura processed successfully\n",
      "296) saint-leu processed successfully\n",
      "297) mahanoro processed successfully\n",
      "298) geraldton processed successfully\n",
      "299) coromoro processed successfully\n",
      "300) grimshaw processed successfully\n",
      "301) almaznyy processed successfully\n",
      "302) maldonado processed successfully\n",
      "303) ullapool processed successfully\n",
      "304) belushya guba not found\n",
      "305) ribeira grande processed successfully\n",
      "306) norman wells processed successfully\n",
      "307) dubbo processed successfully\n",
      "308) ampanihy processed successfully\n",
      "309) pitimbu processed successfully\n",
      "310) paamiut processed successfully\n",
      "311) turukhansk processed successfully\n",
      "312) georgiyevka processed successfully\n",
      "313) warrington processed successfully\n",
      "314) athabasca processed successfully\n",
      "315) novoagansk processed successfully\n",
      "316) wangqing processed successfully\n",
      "317) borova processed successfully\n",
      "318) formosa processed successfully\n",
      "319) mys shmidta not found\n",
      "320) comodoro rivadavia processed successfully\n",
      "321) loukhi processed successfully\n",
      "322) freeport processed successfully\n",
      "323) bay roberts processed successfully\n",
      "324) kununurra processed successfully\n",
      "325) odweyne processed successfully\n",
      "326) iquitos processed successfully\n",
      "327) valparaiso processed successfully\n",
      "328) bolshoye sorokino not found\n",
      "329) challapata processed successfully\n",
      "330) erzin processed successfully\n",
      "331) saint-pierre processed successfully\n",
      "332) isangel processed successfully\n",
      "333) bathsheba processed successfully\n",
      "334) saint-augustin processed successfully\n",
      "335) san quintin processed successfully\n",
      "336) deputatskiy processed successfully\n",
      "337) kupang processed successfully\n",
      "338) auki processed successfully\n",
      "339) starokostyantyniv processed successfully\n",
      "340) amazar processed successfully\n",
      "341) cedral processed successfully\n",
      "342) siyabuswa processed successfully\n",
      "343) mareeba processed successfully\n",
      "344) san jose processed successfully\n",
      "345) elat processed successfully\n",
      "346) seoul processed successfully\n",
      "347) benjamin constant processed successfully\n",
      "348) mount isa processed successfully\n",
      "349) yarmouth processed successfully\n",
      "350) mumford processed successfully\n",
      "351) vila do maio processed successfully\n",
      "352) austin processed successfully\n",
      "353) sulina processed successfully\n",
      "354) westport processed successfully\n",
      "355) banjarmasin processed successfully\n",
      "356) guanica processed successfully\n",
      "357) dourbali processed successfully\n",
      "358) boddam processed successfully\n",
      "359) natal processed successfully\n",
      "360) asau processed successfully\n",
      "361) shizunai processed successfully\n",
      "362) tuensang processed successfully\n",
      "363) lethem processed successfully\n",
      "364) rio gallegos processed successfully\n",
      "365) caravelas processed successfully\n",
      "366) morgan city processed successfully\n",
      "367) ahar processed successfully\n",
      "368) hohhot processed successfully\n",
      "369) san policarpo processed successfully\n",
      "370) avera processed successfully\n",
      "371) lasa processed successfully\n",
      "372) grootfontein processed successfully\n",
      "373) tasbuget not found\n",
      "374) northfield processed successfully\n",
      "375) high level processed successfully\n",
      "376) gilgit processed successfully\n",
      "377) tambacounda processed successfully\n",
      "378) hithadhoo processed successfully\n",
      "379) great yarmouth processed successfully\n",
      "380) santa isabel processed successfully\n",
      "381) khromtau processed successfully\n",
      "382) yar-sale processed successfully\n",
      "383) iracoubo processed successfully\n",
      "384) cocobeach processed successfully\n",
      "385) tubruq not found\n",
      "386) maryborough processed successfully\n",
      "387) mangaratiba processed successfully\n",
      "388) piracanjuba processed successfully\n",
      "389) puerto baquerizo moreno processed successfully\n",
      "390) flekkefjord processed successfully\n",
      "391) ucluelet processed successfully\n",
      "392) dong hoi processed successfully\n",
      "393) yokadouma processed successfully\n",
      "394) ambon processed successfully\n",
      "395) luderitz processed successfully\n",
      "396) vila velha processed successfully\n",
      "397) sulangan processed successfully\n",
      "398) diffa processed successfully\n",
      "399) taksimo processed successfully\n",
      "400) paso de carrasco processed successfully\n",
      "401) okmulgee processed successfully\n",
      "402) souillac processed successfully\n",
      "403) rorvik processed successfully\n",
      "404) ladan processed successfully\n",
      "405) kuli processed successfully\n",
      "406) zyryanka processed successfully\n",
      "407) badarganj processed successfully\n",
      "408) mugumu processed successfully\n",
      "409) lorengau processed successfully\n",
      "410) yanan not found\n",
      "411) nantucket processed successfully\n",
      "412) chapada dos guimaraes processed successfully\n",
      "413) tuatapere processed successfully\n",
      "414) victoria processed successfully\n",
      "415) jeremie processed successfully\n",
      "416) bowen processed successfully\n",
      "417) kalanchak processed successfully\n",
      "418) krasnovishersk processed successfully\n",
      "419) ponta do sol processed successfully\n",
      "420) leh processed successfully\n",
      "421) quatre cocos processed successfully\n",
      "422) kyaukse processed successfully\n",
      "423) nouna processed successfully\n",
      "424) ancud processed successfully\n",
      "425) tarko-sale processed successfully\n",
      "426) yerbogachen processed successfully\n",
      "427) touros processed successfully\n",
      "428) itarema processed successfully\n",
      "429) tonj processed successfully\n",
      "430) corrente processed successfully\n",
      "431) general roca processed successfully\n",
      "432) kashi processed successfully\n",
      "433) bedi processed successfully\n",
      "434) te anau processed successfully\n",
      "435) san juan processed successfully\n",
      "436) bani walid processed successfully\n",
      "437) port blair processed successfully\n",
      "438) san ramon processed successfully\n",
      "439) salinopolis processed successfully\n",
      "440) hede processed successfully\n",
      "441) dneprovskaya processed successfully\n",
      "442) nenjiang processed successfully\n",
      "443) bairiki processed successfully\n",
      "444) sentyabrskiy not found\n",
      "445) huarmey processed successfully\n",
      "446) kuito processed successfully\n",
      "447) ahipara processed successfully\n",
      "448) promissao processed successfully\n",
      "449) kavaratti processed successfully\n",
      "450) leningradskiy processed successfully\n",
      "451) palmas de monte alto processed successfully\n",
      "452) karratha processed successfully\n",
      "453) saleaula not found\n"
     ]
    },
    {
     "name": "stdout",
     "output_type": "stream",
     "text": [
      "454) atherton processed successfully\n",
      "455) igarka processed successfully\n",
      "456) high point processed successfully\n",
      "457) martapura processed successfully\n",
      "458) walvis bay processed successfully\n",
      "459) masallatah processed successfully\n",
      "460) balkanabat processed successfully\n",
      "461) tiznit processed successfully\n",
      "462) la ronge processed successfully\n",
      "463) port keats processed successfully\n",
      "464) brasilia processed successfully\n",
      "465) andreapol processed successfully\n",
      "466) kalmunai processed successfully\n",
      "467) nhulunbuy processed successfully\n",
      "468) agirish processed successfully\n",
      "469) hambantota processed successfully\n",
      "470) vestmanna processed successfully\n",
      "471) maniitsoq processed successfully\n",
      "472) panguna processed successfully\n",
      "473) ulundi processed successfully\n",
      "474) klaksvik processed successfully\n",
      "475) ayorou processed successfully\n",
      "476) carauari processed successfully\n",
      "477) at-bashi processed successfully\n",
      "478) samarai processed successfully\n",
      "479) zephyrhills processed successfully\n",
      "480) kurgunta processed successfully\n",
      "481) vallenar processed successfully\n",
      "482) rock sound processed successfully\n",
      "483) mandera processed successfully\n",
      "484) manokwari processed successfully\n",
      "485) estreito processed successfully\n",
      "486) bad rappenau processed successfully\n",
      "487) kenai processed successfully\n",
      "488) chikoy not found\n",
      "489) kismayo processed successfully\n",
      "490) jinan processed successfully\n",
      "491) khormuj not found\n",
      "492) kiama processed successfully\n",
      "493) sheridan processed successfully\n",
      "494) luanda processed successfully\n",
      "495) coruripe processed successfully\n",
      "496) kingsport processed successfully\n",
      "497) sambava processed successfully\n",
      "498) mujiayingzi processed successfully\n",
      "499) benghazi processed successfully\n",
      "500) port hedland processed successfully\n",
      "501) havre-saint-pierre processed successfully\n",
      "502) zhigansk processed successfully\n",
      "503) jibuti processed successfully\n",
      "504) broome processed successfully\n",
      "505) grahamstown processed successfully\n",
      "506) kiruna processed successfully\n",
      "507) chengmai not found\n",
      "508) yelan processed successfully\n",
      "509) huanren processed successfully\n",
      "510) fort-shevchenko processed successfully\n",
      "511) wewak processed successfully\n",
      "512) imbituba processed successfully\n",
      "513) terrace bay processed successfully\n",
      "514) zhangjiakou processed successfully\n",
      "515) nyurba processed successfully\n",
      "516) san alberto processed successfully\n",
      "517) marsh harbour processed successfully\n",
      "518) flic en flac processed successfully\n",
      "519) kinablangan processed successfully\n",
      "520) verkhnyaya inta processed successfully\n",
      "521) mandalgovi processed successfully\n",
      "522) champasak processed successfully\n",
      "523) buraydah processed successfully\n",
      "524) ursulo galvan processed successfully\n",
      "525) christchurch processed successfully\n",
      "526) safford processed successfully\n",
      "527) prainha processed successfully\n",
      "528) elk plain processed successfully\n",
      "529) vostok processed successfully\n",
      "530) cerro largo processed successfully\n",
      "531) brezno processed successfully\n",
      "532) alto longa processed successfully\n",
      "533) kieta processed successfully\n",
      "534) faratsiho processed successfully\n",
      "535) shache processed successfully\n",
      "536) timmins processed successfully\n",
      "537) brandenburg processed successfully\n",
      "538) krasnoarmeysk processed successfully\n",
      "539) sint michiel not found\n",
      "540) northam processed successfully\n",
      "541) lixourion processed successfully\n",
      "542) inhambane processed successfully\n",
      "543) trairi processed successfully\n",
      "544) arman processed successfully\n",
      "545) rawson processed successfully\n",
      "546) arroio dos ratos processed successfully\n",
      "547) pozo colorado processed successfully\n",
      "548) poum processed successfully\n",
      "549) hualmay processed successfully\n",
      "550) vila franca do campo processed successfully\n",
      "551) xuddur processed successfully\n",
      "552) san cristobal processed successfully\n",
      "553) panalingaan processed successfully\n",
      "554) chernihiv processed successfully\n",
      "555) coihaique processed successfully\n",
      "556) kaeo processed successfully\n",
      "557) eldorado processed successfully\n",
      "558) nabire processed successfully\n",
      "559) laguna processed successfully\n",
      "560) haines junction processed successfully\n",
      "561) khandyga processed successfully\n",
      "562) touho processed successfully\n",
      "563) polonnaruwa processed successfully\n",
      "564) taybad processed successfully\n",
      "565) sovetskiy processed successfully\n",
      "566) berezovyy processed successfully\n",
      "567) carbondale processed successfully\n",
      "568) julio de castilhos processed successfully\n",
      "569) lucapa processed successfully\n",
      "570) kurchum processed successfully\n",
      "571) kathmandu processed successfully\n",
      "572) yushan processed successfully\n",
      "573) lishu processed successfully\n",
      "574) altay processed successfully\n",
      "575) djambala processed successfully\n",
      "576) coolum beach processed successfully\n",
      "577) ibanda processed successfully\n",
      "578) santa marta processed successfully\n",
      "579) the valley processed successfully\n",
      "580) longyearbyen processed successfully\n",
      "581) magadan processed successfully\n",
      "582) marakkanam processed successfully\n",
      "583) sorland processed successfully\n",
      "584) atasu processed successfully\n",
      "585) contamana processed successfully\n",
      "586) ledyard processed successfully\n",
      "587) mehamn processed successfully\n",
      "588) lolua not found\n",
      "589) tolaga bay processed successfully\n",
      "590) brae processed successfully\n",
      "591) basyanovskiy not found\n",
      "592) nouadhibou processed successfully\n",
      "593) boffa processed successfully\n",
      "594) wahiawa processed successfully\n",
      "595) kem processed successfully\n",
      "596) orbetello processed successfully\n",
      "597) gunjur processed successfully\n",
      "598) hamilton processed successfully\n",
      "599) stoyba not found\n",
      "600) olavarria processed successfully\n",
      "601) skalnyy not found\n",
      "602) henties bay processed successfully\n"
     ]
    }
   ],
   "source": [
    "# loop through each city in cities and get the json response (include print log as cities are being processed)\n",
    "for index, city in enumerate(cities):\n",
    "    \n",
    "    try:\n",
    "        query_url = f\"{base_url}{city}\"\n",
    "        response = requests.get(query_url)\n",
    "        json = response.json()\n",
    "\n",
    "\n",
    "    #as you loop through, append data to the lists for plot variables\n",
    "        latitude.append(json[\"coord\"][\"lat\"])\n",
    "        longitude.append(json[\"coord\"][\"lon\"])\n",
    "        temperature.append(json[\"main\"][\"temp\"])\n",
    "        humidity.append(json[\"main\"][\"humidity\"])\n",
    "        cloudiness.append(json[\"clouds\"][\"all\"])\n",
    "        wind_speed.append(json[\"wind\"][\"speed\"])\n",
    "        country.append(json[\"sys\"][\"country\"])\n",
    "        \n",
    "        #increase the index by 1 so that we do not print a 0'th indexed number\n",
    "        index += 1\n",
    "        \n",
    "        #print log as cities are being processed\n",
    "        print(f\"{index}) {city} processed successfully\")\n",
    "        \n",
    "        #add city to list of successful cities\n",
    "        successful_cities.append(city)\n",
    "        \n",
    "    \n",
    "    #print cities that are not in the API database\n",
    "    except:\n",
    "        index += 1\n",
    "        print(f\"{index}) {city} not found\")\n",
    "    \n"
   ]
  },
  {
   "cell_type": "markdown",
   "metadata": {},
   "source": [
    "### Convert Raw Data to DataFrame\n",
    "* Export the city data into a .csv.\n",
    "* Display the DataFrame"
   ]
  },
  {
   "cell_type": "code",
   "execution_count": 42,
   "metadata": {},
   "outputs": [
    {
     "data": {
      "text/html": [
       "<div>\n",
       "<style scoped>\n",
       "    .dataframe tbody tr th:only-of-type {\n",
       "        vertical-align: middle;\n",
       "    }\n",
       "\n",
       "    .dataframe tbody tr th {\n",
       "        vertical-align: top;\n",
       "    }\n",
       "\n",
       "    .dataframe thead th {\n",
       "        text-align: right;\n",
       "    }\n",
       "</style>\n",
       "<table border=\"1\" class=\"dataframe\">\n",
       "  <thead>\n",
       "    <tr style=\"text-align: right;\">\n",
       "      <th></th>\n",
       "      <th>City</th>\n",
       "      <th>Country</th>\n",
       "      <th>Longitude</th>\n",
       "      <th>Latitude</th>\n",
       "      <th>Temperature (F)</th>\n",
       "      <th>Humidity (%)</th>\n",
       "      <th>Cloudiness (%)</th>\n",
       "      <th>Wind Speed (mph)</th>\n",
       "    </tr>\n",
       "  </thead>\n",
       "  <tbody>\n",
       "    <tr>\n",
       "      <th>0</th>\n",
       "      <td>zhezkazgan</td>\n",
       "      <td>KZ</td>\n",
       "      <td>67.7144</td>\n",
       "      <td>47.8043</td>\n",
       "      <td>12.20</td>\n",
       "      <td>94</td>\n",
       "      <td>0</td>\n",
       "      <td>7.65</td>\n",
       "    </tr>\n",
       "    <tr>\n",
       "      <th>1</th>\n",
       "      <td>avarua</td>\n",
       "      <td>CK</td>\n",
       "      <td>-159.7750</td>\n",
       "      <td>-21.2078</td>\n",
       "      <td>86.00</td>\n",
       "      <td>70</td>\n",
       "      <td>33</td>\n",
       "      <td>14.97</td>\n",
       "    </tr>\n",
       "    <tr>\n",
       "      <th>2</th>\n",
       "      <td>arraial do cabo</td>\n",
       "      <td>BR</td>\n",
       "      <td>-42.0278</td>\n",
       "      <td>-22.9661</td>\n",
       "      <td>83.59</td>\n",
       "      <td>65</td>\n",
       "      <td>0</td>\n",
       "      <td>11.50</td>\n",
       "    </tr>\n",
       "    <tr>\n",
       "      <th>3</th>\n",
       "      <td>liliani</td>\n",
       "      <td>PK</td>\n",
       "      <td>72.9537</td>\n",
       "      <td>32.2065</td>\n",
       "      <td>47.30</td>\n",
       "      <td>47</td>\n",
       "      <td>0</td>\n",
       "      <td>2.28</td>\n",
       "    </tr>\n",
       "    <tr>\n",
       "      <th>4</th>\n",
       "      <td>cherskiy</td>\n",
       "      <td>RU</td>\n",
       "      <td>161.3000</td>\n",
       "      <td>68.7500</td>\n",
       "      <td>-28.43</td>\n",
       "      <td>85</td>\n",
       "      <td>98</td>\n",
       "      <td>2.21</td>\n",
       "    </tr>\n",
       "  </tbody>\n",
       "</table>\n",
       "</div>"
      ],
      "text/plain": [
       "              City Country  Longitude  Latitude  Temperature (F)  \\\n",
       "0       zhezkazgan      KZ    67.7144   47.8043            12.20   \n",
       "1           avarua      CK  -159.7750  -21.2078            86.00   \n",
       "2  arraial do cabo      BR   -42.0278  -22.9661            83.59   \n",
       "3          liliani      PK    72.9537   32.2065            47.30   \n",
       "4         cherskiy      RU   161.3000   68.7500           -28.43   \n",
       "\n",
       "   Humidity (%)  Cloudiness (%)  Wind Speed (mph)  \n",
       "0            94               0              7.65  \n",
       "1            70              33             14.97  \n",
       "2            65               0             11.50  \n",
       "3            47               0              2.28  \n",
       "4            85              98              2.21  "
      ]
     },
     "execution_count": 42,
     "metadata": {},
     "output_type": "execute_result"
    }
   ],
   "source": [
    "#create dataframe out of weather data collected\n",
    "weather_df = pd.DataFrame({\"City\": successful_cities, \"Country\": country, \"Longitude\":longitude, \"Latitude\": latitude, \"Temperature (F)\": temperature,\n",
    "                           \"Humidity (%)\": humidity, \"Cloudiness (%)\": cloudiness, \"Wind Speed (mph)\": wind_speed})\n",
    "\n",
    "weather_df.head()"
   ]
  },
  {
   "cell_type": "code",
   "execution_count": 43,
   "metadata": {},
   "outputs": [],
   "source": [
    "#export the data into a csv\n",
    "csv_path = \"../output_data/weather.csv\"\n",
    "weather_csv = weather_df.to_csv(csv_path, index=False)"
   ]
  },
  {
   "cell_type": "markdown",
   "metadata": {},
   "source": [
    "## Inspect the data and remove the cities where the humidity > 100%.\n",
    "----\n",
    "Skip this step if there are no cities that have humidity > 100%. "
   ]
  },
  {
   "cell_type": "code",
   "execution_count": 47,
   "metadata": {},
   "outputs": [
    {
     "data": {
      "text/plain": [
       "[]"
      ]
     },
     "execution_count": 47,
     "metadata": {},
     "output_type": "execute_result"
    }
   ],
   "source": [
    "#  Get the indices of cities that have humidity over 100%.\n",
    "humid_cities = weather_df.loc[weather_df[\"Humidity (%)\"] > 100].index.tolist()\n",
    "humid_cities\n"
   ]
  },
  {
   "cell_type": "code",
   "execution_count": 48,
   "metadata": {},
   "outputs": [
    {
     "data": {
      "text/html": [
       "<div>\n",
       "<style scoped>\n",
       "    .dataframe tbody tr th:only-of-type {\n",
       "        vertical-align: middle;\n",
       "    }\n",
       "\n",
       "    .dataframe tbody tr th {\n",
       "        vertical-align: top;\n",
       "    }\n",
       "\n",
       "    .dataframe thead th {\n",
       "        text-align: right;\n",
       "    }\n",
       "</style>\n",
       "<table border=\"1\" class=\"dataframe\">\n",
       "  <thead>\n",
       "    <tr style=\"text-align: right;\">\n",
       "      <th></th>\n",
       "      <th>City</th>\n",
       "      <th>Country</th>\n",
       "      <th>Longitude</th>\n",
       "      <th>Latitude</th>\n",
       "      <th>Temperature (F)</th>\n",
       "      <th>Humidity (%)</th>\n",
       "      <th>Cloudiness (%)</th>\n",
       "      <th>Wind Speed (mph)</th>\n",
       "    </tr>\n",
       "  </thead>\n",
       "  <tbody>\n",
       "    <tr>\n",
       "      <th>0</th>\n",
       "      <td>zhezkazgan</td>\n",
       "      <td>KZ</td>\n",
       "      <td>67.7144</td>\n",
       "      <td>47.8043</td>\n",
       "      <td>12.20</td>\n",
       "      <td>94</td>\n",
       "      <td>0</td>\n",
       "      <td>7.65</td>\n",
       "    </tr>\n",
       "    <tr>\n",
       "      <th>1</th>\n",
       "      <td>avarua</td>\n",
       "      <td>CK</td>\n",
       "      <td>-159.7750</td>\n",
       "      <td>-21.2078</td>\n",
       "      <td>86.00</td>\n",
       "      <td>70</td>\n",
       "      <td>33</td>\n",
       "      <td>14.97</td>\n",
       "    </tr>\n",
       "    <tr>\n",
       "      <th>2</th>\n",
       "      <td>arraial do cabo</td>\n",
       "      <td>BR</td>\n",
       "      <td>-42.0278</td>\n",
       "      <td>-22.9661</td>\n",
       "      <td>83.59</td>\n",
       "      <td>65</td>\n",
       "      <td>0</td>\n",
       "      <td>11.50</td>\n",
       "    </tr>\n",
       "    <tr>\n",
       "      <th>3</th>\n",
       "      <td>liliani</td>\n",
       "      <td>PK</td>\n",
       "      <td>72.9537</td>\n",
       "      <td>32.2065</td>\n",
       "      <td>47.30</td>\n",
       "      <td>47</td>\n",
       "      <td>0</td>\n",
       "      <td>2.28</td>\n",
       "    </tr>\n",
       "    <tr>\n",
       "      <th>4</th>\n",
       "      <td>cherskiy</td>\n",
       "      <td>RU</td>\n",
       "      <td>161.3000</td>\n",
       "      <td>68.7500</td>\n",
       "      <td>-28.43</td>\n",
       "      <td>85</td>\n",
       "      <td>98</td>\n",
       "      <td>2.21</td>\n",
       "    </tr>\n",
       "    <tr>\n",
       "      <th>...</th>\n",
       "      <td>...</td>\n",
       "      <td>...</td>\n",
       "      <td>...</td>\n",
       "      <td>...</td>\n",
       "      <td>...</td>\n",
       "      <td>...</td>\n",
       "      <td>...</td>\n",
       "      <td>...</td>\n",
       "    </tr>\n",
       "    <tr>\n",
       "      <th>562</th>\n",
       "      <td>orbetello</td>\n",
       "      <td>IT</td>\n",
       "      <td>11.2196</td>\n",
       "      <td>42.4408</td>\n",
       "      <td>48.20</td>\n",
       "      <td>87</td>\n",
       "      <td>75</td>\n",
       "      <td>3.44</td>\n",
       "    </tr>\n",
       "    <tr>\n",
       "      <th>563</th>\n",
       "      <td>gunjur</td>\n",
       "      <td>GM</td>\n",
       "      <td>-16.7339</td>\n",
       "      <td>13.2019</td>\n",
       "      <td>77.00</td>\n",
       "      <td>44</td>\n",
       "      <td>0</td>\n",
       "      <td>16.17</td>\n",
       "    </tr>\n",
       "    <tr>\n",
       "      <th>564</th>\n",
       "      <td>hamilton</td>\n",
       "      <td>US</td>\n",
       "      <td>-84.5333</td>\n",
       "      <td>39.1834</td>\n",
       "      <td>28.96</td>\n",
       "      <td>51</td>\n",
       "      <td>90</td>\n",
       "      <td>9.22</td>\n",
       "    </tr>\n",
       "    <tr>\n",
       "      <th>565</th>\n",
       "      <td>olavarria</td>\n",
       "      <td>AR</td>\n",
       "      <td>-60.3225</td>\n",
       "      <td>-36.8927</td>\n",
       "      <td>85.75</td>\n",
       "      <td>15</td>\n",
       "      <td>100</td>\n",
       "      <td>11.03</td>\n",
       "    </tr>\n",
       "    <tr>\n",
       "      <th>566</th>\n",
       "      <td>henties bay</td>\n",
       "      <td>NA</td>\n",
       "      <td>14.2845</td>\n",
       "      <td>-22.1160</td>\n",
       "      <td>65.95</td>\n",
       "      <td>80</td>\n",
       "      <td>0</td>\n",
       "      <td>5.82</td>\n",
       "    </tr>\n",
       "  </tbody>\n",
       "</table>\n",
       "<p>567 rows × 8 columns</p>\n",
       "</div>"
      ],
      "text/plain": [
       "                City Country  Longitude  Latitude  Temperature (F)  \\\n",
       "0         zhezkazgan      KZ    67.7144   47.8043            12.20   \n",
       "1             avarua      CK  -159.7750  -21.2078            86.00   \n",
       "2    arraial do cabo      BR   -42.0278  -22.9661            83.59   \n",
       "3            liliani      PK    72.9537   32.2065            47.30   \n",
       "4           cherskiy      RU   161.3000   68.7500           -28.43   \n",
       "..               ...     ...        ...       ...              ...   \n",
       "562        orbetello      IT    11.2196   42.4408            48.20   \n",
       "563           gunjur      GM   -16.7339   13.2019            77.00   \n",
       "564         hamilton      US   -84.5333   39.1834            28.96   \n",
       "565        olavarria      AR   -60.3225  -36.8927            85.75   \n",
       "566      henties bay      NA    14.2845  -22.1160            65.95   \n",
       "\n",
       "     Humidity (%)  Cloudiness (%)  Wind Speed (mph)  \n",
       "0              94               0              7.65  \n",
       "1              70              33             14.97  \n",
       "2              65               0             11.50  \n",
       "3              47               0              2.28  \n",
       "4              85              98              2.21  \n",
       "..            ...             ...               ...  \n",
       "562            87              75              3.44  \n",
       "563            44               0             16.17  \n",
       "564            51              90              9.22  \n",
       "565            15             100             11.03  \n",
       "566            80               0              5.82  \n",
       "\n",
       "[567 rows x 8 columns]"
      ]
     },
     "execution_count": 48,
     "metadata": {},
     "output_type": "execute_result"
    }
   ],
   "source": [
    "# Make a new DataFrame equal to the city data to drop all humidity outliers by index.\n",
    "# Passing \"inplace=False\" will make a copy of the city_data DataFrame, which we call \"clean_city_data\".\n",
    "\n",
    "clean_weather_df = weather_df.drop(humid_cities).reset_index()\n",
    "\n",
    "#delete extraneous index column\n",
    "del clean_weather_df[\"index\"]\n",
    "\n",
    "#display clean df\n",
    "clean_weather_df\n"
   ]
  },
  {
   "cell_type": "markdown",
   "metadata": {},
   "source": [
    "## Plotting the Data\n",
    "* Use proper labeling of the plots using plot titles (including date of analysis) and axes labels.\n",
    "* Save the plotted figures as .pngs."
   ]
  },
  {
   "cell_type": "markdown",
   "metadata": {},
   "source": [
    "## Temperature vs. Latitude Plot"
   ]
  },
  {
   "cell_type": "code",
   "execution_count": 49,
   "metadata": {
    "scrolled": true
   },
   "outputs": [
    {
     "data": {
      "image/png": "[encoded data removed]",
      "text/plain": [
       "<Figure size 432x288 with 1 Axes>"
      ]
     },
     "metadata": {
      "needs_background": "light"
     },
     "output_type": "display_data"
    }
   ],
   "source": [
    "plt.scatter(clean_weather_df[\"Latitude\"], clean_weather_df[\"Temperature (F)\"])\n",
    "plt.title(\"Temperature vs. Latitude (1/27/2020)\", fontweight=\"bold\")\n",
    "plt.xlabel(\"Latitude\", fontweight = \"bold\")\n",
    "plt.ylabel(\"Temperature (F)\", fontweight = \"bold\")\n",
    "\n",
    "plt.show()"
   ]
  },
  {
   "cell_type": "markdown",
   "metadata": {},
   "source": [
    "The plot above is analyzing the relationship between a city's latitude and temperature on 1/27/2020, with latitude as the independent x variable and temperature in degrees farenheit as the dependent y variable."
   ]
  },
  {
   "cell_type": "markdown",
   "metadata": {},
   "source": [
    "## Humidity vs. Latitude Plot"
   ]
  },
  {
   "cell_type": "code",
   "execution_count": 50,
   "metadata": {},
   "outputs": [
    {
     "data": {
      "image/png": "[encoded data removed]",
      "text/plain": [
       "<Figure size 432x288 with 1 Axes>"
      ]
     },
     "metadata": {
      "needs_background": "light"
     },
     "output_type": "display_data"
    }
   ],
   "source": [
    "plt.scatter(clean_weather_df[\"Latitude\"], clean_weather_df[\"Humidity (%)\"])\n",
    "plt.title(\"Humidity vs. Latitude (1/27/2020)\", fontweight=\"bold\")\n",
    "plt.xlabel(\"Latitude\", fontweight = \"bold\")\n",
    "plt.ylabel(\"Humidity (%)\", fontweight = \"bold\")\n",
    "\n",
    "plt.show()"
   ]
  },
  {
   "cell_type": "markdown",
   "metadata": {},
   "source": [
    "The plot above is analyzing the relationship between a city's latitude and humidity % on 1/27/2020, with latitude as the independent x variable and humidity % farenheit as the dependent y variable."
   ]
  },
  {
   "cell_type": "markdown",
   "metadata": {},
   "source": [
    "## Cloudiness vs. Latitude Plot"
   ]
  },
  {
   "cell_type": "code",
   "execution_count": 51,
   "metadata": {},
   "outputs": [
    {
     "data": {
      "image/png": "[encoded data removed]",
      "text/plain": [
       "<Figure size 432x288 with 1 Axes>"
      ]
     },
     "metadata": {
      "needs_background": "light"
     },
     "output_type": "display_data"
    }
   ],
   "source": [
    "plt.scatter(clean_weather_df[\"Latitude\"], clean_weather_df[\"Cloudiness (%)\"])\n",
    "plt.title(\"Cloudiness vs. Latitude (1/27/2020)\", fontweight=\"bold\")\n",
    "plt.xlabel(\"Latitude\", fontweight = \"bold\")\n",
    "plt.ylabel(\"Cloudiness (%)\", fontweight = \"bold\")\n",
    "\n",
    "plt.show()"
   ]
  },
  {
   "cell_type": "markdown",
   "metadata": {},
   "source": [
    "The plot above is analyzing the relationship between a city's latitude and cloudiness % on 1/27/2020, with latitude as the independent x variable and cloudiness % as the dependent y variable."
   ]
  },
  {
   "cell_type": "markdown",
   "metadata": {},
   "source": [
    "## Wind Speed vs. Latitude Plot"
   ]
  },
  {
   "cell_type": "code",
   "execution_count": 52,
   "metadata": {},
   "outputs": [
    {
     "data": {
      "image/png": "[encoded data removed]",
      "text/plain": [
       "<Figure size 432x288 with 1 Axes>"
      ]
     },
     "metadata": {
      "needs_background": "light"
     },
     "output_type": "display_data"
    }
   ],
   "source": [
    "plt.scatter(clean_weather_df[\"Latitude\"], clean_weather_df[\"Wind Speed (mph)\"])\n",
    "plt.title(\"Wind Speed vs. Latitude (1/27/2020)\", fontweight=\"bold\")\n",
    "plt.xlabel(\"Latitude\", fontweight = \"bold\")\n",
    "plt.ylabel(\"Wind Speed (mph)\", fontweight = \"bold\")\n",
    "\n",
    "plt.show()"
   ]
  },
  {
   "cell_type": "markdown",
   "metadata": {},
   "source": [
    "The plot above is analyzing the relationship between a city's latitude and wind speed (mph) on 1/27/2020, with latitude as the independent x variable and wind speed (mph) as the dependent y variable."
   ]
  },
  {
   "cell_type": "markdown",
   "metadata": {},
   "source": [
    "## Linear Regression"
   ]
  },
  {
   "cell_type": "code",
   "execution_count": 53,
   "metadata": {},
   "outputs": [
    {
     "data": {
      "text/html": [
       "<div>\n",
       "<style scoped>\n",
       "    .dataframe tbody tr th:only-of-type {\n",
       "        vertical-align: middle;\n",
       "    }\n",
       "\n",
       "    .dataframe tbody tr th {\n",
       "        vertical-align: top;\n",
       "    }\n",
       "\n",
       "    .dataframe thead th {\n",
       "        text-align: right;\n",
       "    }\n",
       "</style>\n",
       "<table border=\"1\" class=\"dataframe\">\n",
       "  <thead>\n",
       "    <tr style=\"text-align: right;\">\n",
       "      <th></th>\n",
       "      <th>City</th>\n",
       "      <th>Country</th>\n",
       "      <th>Longitude</th>\n",
       "      <th>Latitude</th>\n",
       "      <th>Temperature (F)</th>\n",
       "      <th>Humidity (%)</th>\n",
       "      <th>Cloudiness (%)</th>\n",
       "      <th>Wind Speed (mph)</th>\n",
       "      <th>Hemisphere</th>\n",
       "    </tr>\n",
       "  </thead>\n",
       "  <tbody>\n",
       "    <tr>\n",
       "      <th>0</th>\n",
       "      <td>zhezkazgan</td>\n",
       "      <td>KZ</td>\n",
       "      <td>67.7144</td>\n",
       "      <td>47.8043</td>\n",
       "      <td>12.20</td>\n",
       "      <td>94</td>\n",
       "      <td>0</td>\n",
       "      <td>7.65</td>\n",
       "      <td>Northern</td>\n",
       "    </tr>\n",
       "    <tr>\n",
       "      <th>1</th>\n",
       "      <td>avarua</td>\n",
       "      <td>CK</td>\n",
       "      <td>-159.7750</td>\n",
       "      <td>-21.2078</td>\n",
       "      <td>86.00</td>\n",
       "      <td>70</td>\n",
       "      <td>33</td>\n",
       "      <td>14.97</td>\n",
       "      <td>Southern</td>\n",
       "    </tr>\n",
       "    <tr>\n",
       "      <th>2</th>\n",
       "      <td>arraial do cabo</td>\n",
       "      <td>BR</td>\n",
       "      <td>-42.0278</td>\n",
       "      <td>-22.9661</td>\n",
       "      <td>83.59</td>\n",
       "      <td>65</td>\n",
       "      <td>0</td>\n",
       "      <td>11.50</td>\n",
       "      <td>Southern</td>\n",
       "    </tr>\n",
       "    <tr>\n",
       "      <th>3</th>\n",
       "      <td>liliani</td>\n",
       "      <td>PK</td>\n",
       "      <td>72.9537</td>\n",
       "      <td>32.2065</td>\n",
       "      <td>47.30</td>\n",
       "      <td>47</td>\n",
       "      <td>0</td>\n",
       "      <td>2.28</td>\n",
       "      <td>Northern</td>\n",
       "    </tr>\n",
       "    <tr>\n",
       "      <th>4</th>\n",
       "      <td>cherskiy</td>\n",
       "      <td>RU</td>\n",
       "      <td>161.3000</td>\n",
       "      <td>68.7500</td>\n",
       "      <td>-28.43</td>\n",
       "      <td>85</td>\n",
       "      <td>98</td>\n",
       "      <td>2.21</td>\n",
       "      <td>Northern</td>\n",
       "    </tr>\n",
       "    <tr>\n",
       "      <th>...</th>\n",
       "      <td>...</td>\n",
       "      <td>...</td>\n",
       "      <td>...</td>\n",
       "      <td>...</td>\n",
       "      <td>...</td>\n",
       "      <td>...</td>\n",
       "      <td>...</td>\n",
       "      <td>...</td>\n",
       "      <td>...</td>\n",
       "    </tr>\n",
       "    <tr>\n",
       "      <th>562</th>\n",
       "      <td>orbetello</td>\n",
       "      <td>IT</td>\n",
       "      <td>11.2196</td>\n",
       "      <td>42.4408</td>\n",
       "      <td>48.20</td>\n",
       "      <td>87</td>\n",
       "      <td>75</td>\n",
       "      <td>3.44</td>\n",
       "      <td>Northern</td>\n",
       "    </tr>\n",
       "    <tr>\n",
       "      <th>563</th>\n",
       "      <td>gunjur</td>\n",
       "      <td>GM</td>\n",
       "      <td>-16.7339</td>\n",
       "      <td>13.2019</td>\n",
       "      <td>77.00</td>\n",
       "      <td>44</td>\n",
       "      <td>0</td>\n",
       "      <td>16.17</td>\n",
       "      <td>Northern</td>\n",
       "    </tr>\n",
       "    <tr>\n",
       "      <th>564</th>\n",
       "      <td>hamilton</td>\n",
       "      <td>US</td>\n",
       "      <td>-84.5333</td>\n",
       "      <td>39.1834</td>\n",
       "      <td>28.96</td>\n",
       "      <td>51</td>\n",
       "      <td>90</td>\n",
       "      <td>9.22</td>\n",
       "      <td>Northern</td>\n",
       "    </tr>\n",
       "    <tr>\n",
       "      <th>565</th>\n",
       "      <td>olavarria</td>\n",
       "      <td>AR</td>\n",
       "      <td>-60.3225</td>\n",
       "      <td>-36.8927</td>\n",
       "      <td>85.75</td>\n",
       "      <td>15</td>\n",
       "      <td>100</td>\n",
       "      <td>11.03</td>\n",
       "      <td>Southern</td>\n",
       "    </tr>\n",
       "    <tr>\n",
       "      <th>566</th>\n",
       "      <td>henties bay</td>\n",
       "      <td>NA</td>\n",
       "      <td>14.2845</td>\n",
       "      <td>-22.1160</td>\n",
       "      <td>65.95</td>\n",
       "      <td>80</td>\n",
       "      <td>0</td>\n",
       "      <td>5.82</td>\n",
       "      <td>Southern</td>\n",
       "    </tr>\n",
       "  </tbody>\n",
       "</table>\n",
       "<p>567 rows × 9 columns</p>\n",
       "</div>"
      ],
      "text/plain": [
       "                City Country  Longitude  Latitude  Temperature (F)  \\\n",
       "0         zhezkazgan      KZ    67.7144   47.8043            12.20   \n",
       "1             avarua      CK  -159.7750  -21.2078            86.00   \n",
       "2    arraial do cabo      BR   -42.0278  -22.9661            83.59   \n",
       "3            liliani      PK    72.9537   32.2065            47.30   \n",
       "4           cherskiy      RU   161.3000   68.7500           -28.43   \n",
       "..               ...     ...        ...       ...              ...   \n",
       "562        orbetello      IT    11.2196   42.4408            48.20   \n",
       "563           gunjur      GM   -16.7339   13.2019            77.00   \n",
       "564         hamilton      US   -84.5333   39.1834            28.96   \n",
       "565        olavarria      AR   -60.3225  -36.8927            85.75   \n",
       "566      henties bay      NA    14.2845  -22.1160            65.95   \n",
       "\n",
       "     Humidity (%)  Cloudiness (%)  Wind Speed (mph) Hemisphere  \n",
       "0              94               0              7.65   Northern  \n",
       "1              70              33             14.97   Southern  \n",
       "2              65               0             11.50   Southern  \n",
       "3              47               0              2.28   Northern  \n",
       "4              85              98              2.21   Northern  \n",
       "..            ...             ...               ...        ...  \n",
       "562            87              75              3.44   Northern  \n",
       "563            44               0             16.17   Northern  \n",
       "564            51              90              9.22   Northern  \n",
       "565            15             100             11.03   Southern  \n",
       "566            80               0              5.82   Southern  \n",
       "\n",
       "[567 rows x 9 columns]"
      ]
     },
     "execution_count": 53,
     "metadata": {},
     "output_type": "execute_result"
    }
   ],
   "source": [
    "#insert new column in the df for hemisphere and insert northern or southern based on the latitude value\n",
    "clean_weather_df[\"Hemisphere\"] = np.where(clean_weather_df[\"Latitude\"] >= 0, \"Northern\", \"Southern\")\n",
    "clean_weather_df"
   ]
  },
  {
   "cell_type": "code",
   "execution_count": 54,
   "metadata": {},
   "outputs": [],
   "source": [
    "northern_df = clean_weather_df.loc[clean_weather_df[\"Hemisphere\"] == \"Northern\"]\n",
    "southern_df = clean_weather_df.loc[clean_weather_df[\"Hemisphere\"] == \"Southern\"]"
   ]
  },
  {
   "cell_type": "code",
   "execution_count": 67,
   "metadata": {},
   "outputs": [
    {
     "data": {
      "text/plain": [
       "['Temperature (F)', 'Humidity (%)', 'Cloudiness (%)', 'Wind Speed (mph)']"
      ]
     },
     "execution_count": 67,
     "metadata": {},
     "output_type": "execute_result"
    }
   ],
   "source": [
    "#get a list of columns in the dataframe so that we can loop through the columns and create plots\n",
    "columns = clean_weather_df.columns.tolist()\n",
    "columns.remove(\"City\")\n",
    "columns.remove(\"Country\")\n",
    "columns.remove(\"Longitude\")\n",
    "columns.remove(\"Latitude\")\n",
    "columns.remove(\"Hemisphere\")\n",
    "\n",
    "columns"
   ]
  },
  {
   "cell_type": "code",
   "execution_count": 68,
   "metadata": {},
   "outputs": [
    {
     "data": {
      "image/png": "[encoded data removed]",
      "text/plain": [
       "<Figure size 432x288 with 1 Axes>"
      ]
     },
     "metadata": {
      "needs_background": "light"
     },
     "output_type": "display_data"
    },
    {
     "name": "stdout",
     "output_type": "stream",
     "text": [
      "The line equation for the Northern Hemisphere Temperature (F) vs. Latitude relationship is y = -1.47x + 92.45\n",
      "The r value for the Northern Hemisphere Temperature (F) vs. Latitude relationship is r=-0.85\n",
      "-----------------------------------------------------------------------------------------------\n"
     ]
    },
    {
     "data": {
      "image/png": "[encoded data removed]",
      "text/plain": [
       "<Figure size 432x288 with 1 Axes>"
      ]
     },
     "metadata": {
      "needs_background": "light"
     },
     "output_type": "display_data"
    },
    {
     "name": "stdout",
     "output_type": "stream",
     "text": [
      "The line equation for the Northern Hemisphere Humidity (%) vs. Latitude relationship is y = 0.33x + 58.37\n",
      "The r value for the Northern Hemisphere Humidity (%) vs. Latitude relationship is r=0.33\n",
      "-----------------------------------------------------------------------------------------------\n"
     ]
    },
    {
     "data": {
      "image/png": "[encoded data removed]",
      "text/plain": [
       "<Figure size 432x288 with 1 Axes>"
      ]
     },
     "metadata": {
      "needs_background": "light"
     },
     "output_type": "display_data"
    },
    {
     "name": "stdout",
     "output_type": "stream",
     "text": [
      "The line equation for the Northern Hemisphere Cloudiness (%) vs. Latitude relationship is y = 0.37x + 34.31\n",
      "The r value for the Northern Hemisphere Cloudiness (%) vs. Latitude relationship is r=0.19\n",
      "-----------------------------------------------------------------------------------------------\n"
     ]
    },
    {
     "data": {
      "image/png": "[encoded data removed]",
      "text/plain": [
       "<Figure size 432x288 with 1 Axes>"
      ]
     },
     "metadata": {
      "needs_background": "light"
     },
     "output_type": "display_data"
    },
    {
     "name": "stdout",
     "output_type": "stream",
     "text": [
      "The line equation for the Northern Hemisphere Wind Speed (mph) vs. Latitude relationship is y = 0.02x + 8.1\n",
      "The r value for the Northern Hemisphere Wind Speed (mph) vs. Latitude relationship is r=0.05\n",
      "-----------------------------------------------------------------------------------------------\n"
     ]
    }
   ],
   "source": [
    "#loop through the columns and retrieve regression values for Northern Hempisphere graphs\n",
    "for column in columns:\n",
    "    (slope, intercept, rvalue, pvalue, stderr) = linregress(northern_df[\"Latitude\"], northern_df[f\"{column}\"])\n",
    "    slope = round(slope, 2)\n",
    "    intercept = round(intercept, 2)\n",
    "    rvalue = round(rvalue, 2)\n",
    "    regress_values = (slope * northern_df[\"Latitude\"]) + intercept\n",
    "    line_eq = f\"y = {slope}x + {intercept}\"\n",
    "    \n",
    "    #plot Northern Hempisphere Temp vs Latitude as well as the regression line and equation\n",
    "    plt.scatter(northern_df[\"Latitude\"], northern_df[f\"{column}\"])\n",
    "    plt.title(f\"{column} vs. Latitude (1/27/2020 - Northern Hemisphere)\", fontweight = \"bold\")\n",
    "    plt.xlabel(\"Latitude\", fontweight = \"bold\")\n",
    "    plt.ylabel(f\"{column}\", fontweight = \"bold\")\n",
    "    plt.plot(northern_df[\"Latitude\"], regress_values, \"r-\")\n",
    "    \n",
    "    #save plots as png's in output_data folder\n",
    "    plt.savefig(f\"../output_data/northern_{column}.png\")\n",
    "    \n",
    "    #display plots below\n",
    "    plt.show()\n",
    "    \n",
    "    #print line equation and r value under the plot\n",
    "    print(f\"The line equation for the Northern Hemisphere {column} vs. Latitude relationship is {line_eq}\")\n",
    "    print(f\"The r value for the Northern Hemisphere {column} vs. Latitude relationship is r={rvalue}\")\n",
    "    print(\"-----------------------------------------------------------------------------------------------\")\n",
    "\n"
   ]
  },
  {
   "cell_type": "markdown",
   "metadata": {},
   "source": [
    "##### Comments on the northern hempisphere plots/regressions\n",
    "\n",
    "1) Temperature vs. Latitude\n",
    "    - The relationship between Temperature and Latitude is very strong, indicated by the -.87 r value in the regression. As expected, the regression line has negative slope, because we would expect temperature to decrease as distance from the equator in the northern direction increases.\n",
    "    \n",
    "2) Humidity vs. Latitude\n",
    "    - The relationship between Humidity and Latitude is weak to moderate, as indicated by the r value of .34. The regression line slope is positive, indicating there is a slight direct relationship between distance from the equator in the northern hemisphere and humidity.\n",
    "    \n",
    "3) Cloudiness vs. Latitude\n",
    "    - The relationship between Cloudiness and Latitude is weak as indicated by the r value of .28. Based on this r value one can conclude that there is no discernible relationship between a city's \"cloudiness\" and its distance from the equator in the northern hemisphere.\n",
    "    \n",
    "4) Wind Speed vs. Latitude\n",
    "    - There is no linear relationship between wind speed and latitude as indicated by the r value of 0. As shown in the plot, the scatter of the points is an indication that wind speed and latitude are not correlated in any manner."
   ]
  },
  {
   "cell_type": "code",
   "execution_count": 69,
   "metadata": {},
   "outputs": [
    {
     "data": {
      "image/png": "[encoded data removed]",
      "text/plain": [
       "<Figure size 432x288 with 1 Axes>"
      ]
     },
     "metadata": {
      "needs_background": "light"
     },
     "output_type": "display_data"
    },
    {
     "name": "stdout",
     "output_type": "stream",
     "text": [
      "The line equation for the Southern Hemisphere Temperature (F) vs. Latitude relationship is y = 0.45x + 83.17\n",
      "The r value for the Southern Hemisphere Temperature (F) vs. Latitude relationship is r=0.58\n",
      "-----------------------------------------------------------------------------------------------\n"
     ]
    },
    {
     "data": {
      "image/png": "[encoded data removed]",
      "text/plain": [
       "<Figure size 432x288 with 1 Axes>"
      ]
     },
     "metadata": {
      "needs_background": "light"
     },
     "output_type": "display_data"
    },
    {
     "name": "stdout",
     "output_type": "stream",
     "text": [
      "The line equation for the Southern Hemisphere Humidity (%) vs. Latitude relationship is y = 0.41x + 82.31\n",
      "The r value for the Southern Hemisphere Humidity (%) vs. Latitude relationship is r=0.3\n",
      "-----------------------------------------------------------------------------------------------\n"
     ]
    },
    {
     "data": {
      "image/png": "[encoded data removed]",
      "text/plain": [
       "<Figure size 432x288 with 1 Axes>"
      ]
     },
     "metadata": {
      "needs_background": "light"
     },
     "output_type": "display_data"
    },
    {
     "name": "stdout",
     "output_type": "stream",
     "text": [
      "The line equation for the Southern Hemisphere Cloudiness (%) vs. Latitude relationship is y = 0.37x + 63.16\n",
      "The r value for the Southern Hemisphere Cloudiness (%) vs. Latitude relationship is r=0.13\n",
      "-----------------------------------------------------------------------------------------------\n"
     ]
    },
    {
     "data": {
      "image/png": "[encoded data removed]",
      "text/plain": [
       "<Figure size 432x288 with 1 Axes>"
      ]
     },
     "metadata": {
      "needs_background": "light"
     },
     "output_type": "display_data"
    },
    {
     "name": "stdout",
     "output_type": "stream",
     "text": [
      "The line equation for the Southern Hemisphere Wind Speed (mph) vs. Latitude relationship is y = -0.07x + 6.73\n",
      "The r value for the Southern Hemisphere Wind Speed (mph) vs. Latitude relationship is r=-0.18\n",
      "-----------------------------------------------------------------------------------------------\n"
     ]
    }
   ],
   "source": [
    "#loop through the columns and retrieve regression values for Southern Hempisphere graphs\n",
    "for column in columns:\n",
    "    (slope, intercept, rvalue, pvalue, stderr) = linregress(southern_df[\"Latitude\"], southern_df[f\"{column}\"])\n",
    "    slope = round(slope, 2)\n",
    "    intercept = round(intercept, 2)\n",
    "    rvalue = round(rvalue, 2)\n",
    "    regress_values = (slope * southern_df[\"Latitude\"]) + intercept\n",
    "    line_eq = f\"y = {slope}x + {intercept}\"\n",
    "    \n",
    "    #plot Southern Hempisphere Temp vs Latitude as well as the regression line and equation\n",
    "    plt.scatter(southern_df[\"Latitude\"], southern_df[f\"{column}\"])\n",
    "    plt.title(f\"{column} vs. Latitude (1/27/2020 - Southern Hemisphere)\", fontweight = \"bold\")\n",
    "    plt.xlabel(\"Latitude\", fontweight = \"bold\")\n",
    "    plt.ylabel(f\"{column}\", fontweight = \"bold\")\n",
    "    plt.plot(southern_df[\"Latitude\"], regress_values, \"r-\")\n",
    "    \n",
    "    #save plots as png's in output_data folder\n",
    "    plt.savefig(f\"../output_data/southern_{column}.png\")\n",
    "    \n",
    "    #display plots below\n",
    "    plt.show()\n",
    "    \n",
    "   \n",
    "    \n",
    "       #print line equation and r value under the plot\n",
    "    print(f\"The line equation for the Southern Hemisphere {column} vs. Latitude relationship is {line_eq}\")\n",
    "    print(f\"The r value for the Southern Hemisphere {column} vs. Latitude relationship is r={rvalue}\")\n",
    "    print(\"-----------------------------------------------------------------------------------------------\")\n"
   ]
  },
  {
   "cell_type": "markdown",
   "metadata": {},
   "source": [
    "#### Comments on the southern hemisphere plots/regressions\n",
    "\n",
    "1) Temperature vs. Latitude\n",
    "    - The relationship between Temperature and Latitude is moderate, indicated by the .5 r value in the regression. As expected, the regression line has positive slope, because we would expect temperature to decrease as distance from the equator decreases (i.e. increases in the negative direction). Note that this relationship is the opposite of the northern hempisphere which is to be expected, as the direction to the equator in each hemisphere is opposite (northern hemisphere positive values, southern hemisphere negative values).\n",
    "    \n",
    "2) Humidity vs. Latitude\n",
    "    - The relationship between Humidity and Latitude is moderate, as indicated by the r value of .37. The regression line slope is positive, indicating there is a slight direct relationship between distance from the equator in the southern hemisphere and humidity. As the northern and southern r values are similar and both positive, one can conclude that the equator does have a discernible impact on amount of humidity (%).\n",
    "    \n",
    "3) Cloudiness vs. Latitude\n",
    "    - The relationship between Cloudiness and Latitude is weak to moderate as indicated by the r value of .3. Based on this r value one can conclude that there is a weak or no discernible relationship between a city's \"cloudiness\" and its distance from the equator in the southern hemisphere.\n",
    "    \n",
    "4) Wind Speed vs. Latitude\n",
    "    - There is a weak linear relationship between wind speed and latitude as indicated by the r value of -.28. Although a weak relationship, the r value could indicate that as a city gets further away from the equator in the southern hemisphere, the windier that city will be."
   ]
  },
  {
   "cell_type": "code",
   "execution_count": null,
   "metadata": {},
   "outputs": [],
   "source": []
  },
  {
   "cell_type": "code",
   "execution_count": null,
   "metadata": {},
   "outputs": [],
   "source": []
  }
 ],
 "metadata": {
  "anaconda-cloud": {},
  "kernel_info": {
   "name": "python3"
  },
  "kernelspec": {
   "display_name": "Python 3",
   "language": "python",
   "name": "python3"
  },
  "language_info": {
   "codemirror_mode": {
    "name": "ipython",
    "version": 3
   },
   "file_extension": ".py",
   "mimetype": "text/x-python",
   "name": "python",
   "nbconvert_exporter": "python",
   "pygments_lexer": "ipython3",
   "version": "3.8.3"
  },
  "latex_envs": {
   "LaTeX_envs_menu_present": true,
   "autoclose": false,
   "autocomplete": true,
   "bibliofile": "biblio.bib",
   "cite_by": "apalike",
   "current_citInitial": 1,
   "eqLabelWithNumbers": true,
   "eqNumInitial": 1,
   "hotkeys": {
    "equation": "Ctrl-E",
    "itemize": "Ctrl-I"
   },
   "labels_anchors": false,
   "latex_user_defs": false,
   "report_style_numbering": false,
   "user_envs_cfg": false
  },
  "nteract": {
   "version": "0.12.3"
  }
 },
 "nbformat": 4,
 "nbformat_minor": 2
}
